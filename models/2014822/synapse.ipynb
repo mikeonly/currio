{
 "cells": [
  {
   "cell_type": "code",
   "execution_count": 3,
   "metadata": {},
   "outputs": [],
   "source": [
    "import pyvista as pv\n",
    "import numpy as np\n",
    "\n",
    "import currio\n",
    "from currio.neuron import Neuron\n",
    "from currio.sensor import RegularGridSensor\n",
    "\n",
    "import os\n",
    "# Set MILEDIDEBUG environment variable if not already set\n",
    "# This variable is used in neuron_builder.py to determine whether to print debug messages\n",
    "# The design was to envoke `manual_run.py` or `auto_run.py` from the command line with \n",
    "# the -d flag to print debug messages\n",
    "if 'MILEDIDEBUG' not in os.environ:\n",
    "    os.environ['MILEDIDEBUG'] = '0'  # '0' for no debug output, '1' for debug output"
   ]
  },
  {
   "cell_type": "code",
   "execution_count": 2,
   "metadata": {},
   "outputs": [],
   "source": [
    "n = Neuron(\"2014822\", hocfile=\"nrnhoc/cell_seed4_0_control_cell.hoc\")"
   ]
  },
  {
   "cell_type": "code",
   "execution_count": 4,
   "metadata": {},
   "outputs": [
    {
     "data": {
      "text/plain": [
       "<currio.neuron.Neuron at 0x16b5494d0>"
      ]
     },
     "execution_count": 4,
     "metadata": {},
     "output_type": "execute_result"
    }
   ],
   "source": [
    "n.create_3d_mesh()\n"
   ]
  },
  {
   "cell_type": "code",
   "execution_count": 5,
   "metadata": {},
   "outputs": [
    {
     "name": "stdout",
     "output_type": "stream",
     "text": [
      "Mod files already loaded. Skipping...\n",
      "Target stub axon length:60 um, equivalent length: 57.858671 \n"
     ]
    }
   ],
   "source": [
    "from src.neuron_builder import NeuronBuilder\n",
    "from src.synapse_builder_ampanmdasynplast import AMPANMDASynPlastBuilder \n",
    "\n",
    "neuron_model = NeuronBuilder(hocfile=\"cell_seed4_0_control_cell.hoc\")\n",
    "synapse = AMPANMDASynPlastBuilder()\n",
    "\n",
    "neuron_parameters = { 'nr2bmult': 1}\n",
    "synapse_parameters = {}\n",
    "neuron_model.set_parameters(neuron_parameters)\n",
    "synapse.set_parameters(synapse_parameters)"
   ]
  },
  {
   "cell_type": "code",
   "execution_count": null,
   "metadata": {},
   "outputs": [],
   "source": []
  }
 ],
 "metadata": {
  "kernelspec": {
   "display_name": "neuron",
   "language": "python",
   "name": "python3"
  },
  "language_info": {
   "codemirror_mode": {
    "name": "ipython",
    "version": 3
   },
   "file_extension": ".py",
   "mimetype": "text/x-python",
   "name": "python",
   "nbconvert_exporter": "python",
   "pygments_lexer": "ipython3",
   "version": "3.11.0"
  }
 },
 "nbformat": 4,
 "nbformat_minor": 2
}
