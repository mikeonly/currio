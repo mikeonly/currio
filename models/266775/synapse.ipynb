{
 "cells": [
  {
   "cell_type": "code",
   "execution_count": 2,
   "metadata": {},
   "outputs": [
    {
     "name": "stdout",
     "output_type": "stream",
     "text": [
      "Mechanisms already loaded from path: mechanisms/single.  Aborting.\n"
     ]
    }
   ],
   "source": [
    "from   neuron           import h, gui\n",
    "import MSN_builder          as build\n",
    "import pickle\n",
    "import matplotlib.pyplot    as plt\n",
    "\n",
    "# Load model mechanisms\n",
    "import neuron               as nrn\n",
    "nrn.load_mechanisms('mechanisms/single')\n",
    "\n",
    "h.load_file('stdlib.hoc')\n",
    "h.load_file('import3d.hoc')\n",
    "\n",
    "# specs\n",
    "specs = {'dspn': {\n",
    "                    'N': 71,\n",
    "                    'lib': 'Libraries/D1_71bestFit_updRheob.pkl',\n",
    "                    'par': 'params_dMSN.json',\n",
    "                    'morph': 'Morphologies/WT-dMSN_P270-20_1.02_SGA1-m24.swc'},\n",
    "         'ispn': {\n",
    "                    'N': 34,\n",
    "                    'lib': 'Libraries/D2_34bestFit_updRheob.pkl',\n",
    "                    'par': 'params_iMSN.json',\n",
    "                    'morph': 'Morphologies/WT-iMSN_P270-09_1.01_SGA2-m1.swc'}\n",
    "        }\n",
    "        \n",
    "\n",
    "\n",
    "\n",
    "\n",
    "# chose cell type ('ispn' or 'dspn') and model id(s) to simulate\n",
    "#---------------------------------------------------------------\n",
    "cell_type         = 'dspn'    # 'dspn'/'ispn'\n",
    "model_iterator    = range(5)  # range(specs[cell_type]['N']) gives all models\n",
    "\n",
    "\n",
    "\n",
    "\n",
    "\n",
    "# open library (channel distributions etc)   \n",
    "with open(specs[cell_type]['lib'], 'rb') as f:\n",
    "    model_sets = pickle.load(f, encoding=\"latin1\")"
   ]
  },
  {
   "cell_type": "code",
   "execution_count": 3,
   "metadata": {},
   "outputs": [
    {
     "ename": "",
     "evalue": "",
     "output_type": "error",
     "traceback": [
      "\u001b[1;31mThe Kernel crashed while executing code in the current cell or a previous cell. \n",
      "\u001b[1;31mPlease review the code in the cell(s) to identify a possible cause of the failure. \n",
      "\u001b[1;31mClick <a href='https://aka.ms/vscodeJupyterKernelCrash'>here</a> for more info. \n",
      "\u001b[1;31mView Jupyter <a href='command:jupyter.viewOutput'>log</a> for further details."
     ]
    }
   ],
   "source": [
    "\n",
    "# simulate model(s)\n",
    "OUT = {}\n",
    "for cell_index in model_iterator: \n",
    "    \n",
    "    # initiate cell\n",
    "    cell = build.MSN(  params=specs[cell_type]['par'],\n",
    "                       morphology=specs[cell_type]['morph'],\n",
    "                       variables=model_sets[cell_index]['variables']   )\n",
    "    \n",
    "    \n",
    "    # set current injection\n",
    "    rheobase        =   model_sets[cell_index]['rheobase']\n",
    "    Istim           =   h.IClamp(0.5, sec=cell.soma)\n",
    "    Istim.delay     =   100\n",
    "    Istim.dur       =   1000\n",
    "    Istim.amp       =   (rheobase) *1e-3\n",
    "    \n",
    "    # record vectors\n",
    "    tm  = h.Vector()\n",
    "    tm.record(h._ref_t)\n",
    "    vm  = h.Vector()\n",
    "    vm.record(cell.soma(0.5)._ref_v)\n",
    "    \n",
    "    # run simulation\n",
    "    h.finitialize(-80)\n",
    "    \n",
    "    # run simulation\n",
    "    while h.t < 1000:\n",
    "        h.fadvance()\n",
    "    \n",
    "    OUT[cell_index] = {'tm':tm.to_python(), 'vm':vm.to_python, 'rheo':rheobase}\n",
    "    "
   ]
  }
 ],
 "metadata": {
  "kernelspec": {
   "display_name": "neuron",
   "language": "python",
   "name": "python3"
  },
  "language_info": {
   "codemirror_mode": {
    "name": "ipython",
    "version": 3
   },
   "file_extension": ".py",
   "mimetype": "text/x-python",
   "name": "python",
   "nbconvert_exporter": "python",
   "pygments_lexer": "ipython3",
   "version": "3.11.0"
  }
 },
 "nbformat": 4,
 "nbformat_minor": 2
}
