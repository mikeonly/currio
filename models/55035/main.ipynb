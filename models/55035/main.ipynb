{
 "cells": [
  {
   "cell_type": "code",
   "execution_count": 2,
   "metadata": {},
   "outputs": [],
   "source": [
    "import pyvista as pv\n",
    "import numpy as np\n",
    "\n",
    "import currio\n",
    "from currio.neuron import Neuron\n",
    "from currio.sensor import RegularGridSensor\n",
    "from currio.io import IO"
   ]
  },
  {
   "cell_type": "markdown",
   "metadata": {},
   "source": [
    "# Calculating the magnetic field of a realistic neuron on a realistic sensor\n",
    "\n",
    "The dimensions of the realistic sensor are \n",
    "\n",
    "5×5×0.5 mm^3 with a 10 um layer of NVs\n",
    "\n",
    "The size of the neuron is 1 mm by 1 mm. We can assume we place the neuron somewhere close to the center surface in its center. \n",
    "\n",
    "Let's start with limiting the sensor area to just 2 mm by 2 mm. "
   ]
  },
  {
   "cell_type": "code",
   "execution_count": 3,
   "metadata": {},
   "outputs": [
    {
     "name": "stdout",
     "output_type": "stream",
     "text": [
      "\t1 \n",
      "\t1 \n",
      "\t1 \n",
      "\t1 \n",
      "\t0 \n",
      "\t1 \n",
      "\t1 \n",
      "\t1 \n",
      "\t1 \n",
      "\t1 \n",
      "\t1 \n",
      "\t0 \n",
      "\t1 \n",
      "\t1 \n",
      "\t0 \n",
      "\t0 \n",
      "\t0 \n",
      "\t0 \n",
      "\t1 \n",
      "\t0 \n",
      "\t1 \n",
      "\t1 \n",
      "\t1 \n",
      "\t1 \n"
     ]
    }
   ],
   "source": [
    "neuron = Neuron(55035)"
   ]
  },
  {
   "cell_type": "code",
   "execution_count": 4,
   "metadata": {},
   "outputs": [],
   "source": [
    "sensor = RegularGridSensor(bounds=(-200, 200, -300, 700, 90, 90), spacing=(200, 290, 100))"
   ]
  },
  {
   "cell_type": "code",
   "execution_count": 6,
   "metadata": {},
   "outputs": [
    {
     "data": {
      "application/vnd.jupyter.widget-view+json": {
       "model_id": "d73ef956c60549be8406a82fcdb6629f",
       "version_major": 2,
       "version_minor": 0
      },
      "text/plain": [
       "Widget(value='<iframe src=\"http://localhost:49282/index.html?ui=P_0x325c97fd0_1&reconnect=auto\" class=\"pyvista…"
      ]
     },
     "metadata": {},
     "output_type": "display_data"
    }
   ],
   "source": [
    "IO.plot(sensor, neuron)"
   ]
  },
  {
   "cell_type": "code",
   "execution_count": 7,
   "metadata": {},
   "outputs": [
    {
     "data": {
      "text/plain": [
       "<currio.neuron.Neuron at 0x31baec990>"
      ]
     },
     "execution_count": 7,
     "metadata": {},
     "output_type": "execute_result"
    }
   ],
   "source": [
    "neuron.simulate('runm', force=True) \n"
   ]
  },
  {
   "cell_type": "code",
   "execution_count": 11,
   "metadata": {},
   "outputs": [
    {
     "data": {
      "text/plain": [
       "<currio.neuron.Neuron at 0x31baec990>"
      ]
     },
     "execution_count": 11,
     "metadata": {},
     "output_type": "execute_result"
    }
   ],
   "source": [
    "neuron.propagate_B(sensor)"
   ]
  },
  {
   "cell_type": "code",
   "execution_count": null,
   "metadata": {},
   "outputs": [
    {
     "name": "stdout",
     "output_type": "stream",
     "text": [
      "Saved records for Neuron 55035 to /Users/mf/Documents/Helmholtz Institue Mainz/Neuron/results/55035.json\n",
      "Saved data for Sensor b0c to /Users/mf/Documents/Helmholtz Institue Mainz/Neuron/results/b0c.vtk\n",
      "Saved io file to /Users/mf/Documents/Helmholtz Institue Mainz/Neuron/results/001-b0c-55035-20250208-163727.txt\n"
     ]
    },
    {
     "data": {
      "text/plain": [
       "<currio.io.io at 0x345b9ec90>"
      ]
     },
     "execution_count": 13,
     "metadata": {},
     "output_type": "execute_result"
    }
   ],
   "source": [
    "IO.save(neuron, sensor)"
   ]
  },
  {
   "cell_type": "code",
   "execution_count": 2,
   "metadata": {},
   "outputs": [
    {
     "name": "stdout",
     "output_type": "stream",
     "text": [
      "\t1 \n",
      "\t1 \n",
      "\t1 \n",
      "\t1 \n",
      "\t0 \n",
      "\t1 \n",
      "\t1 \n",
      "\t1 \n",
      "\t1 \n",
      "\t1 \n",
      "\t1 \n",
      "\t0 \n",
      "\t1 \n",
      "\t1 \n",
      "\t0 \n",
      "\t0 \n",
      "\t0 \n",
      "\t0 \n",
      "\t1 \n",
      "\t0 \n",
      "\t1 \n",
      "\t1 \n",
      "\t1 \n",
      "\t1 \n"
     ]
    }
   ],
   "source": [
    "viz = IO.load(1)"
   ]
  },
  {
   "cell_type": "code",
   "execution_count": 3,
   "metadata": {},
   "outputs": [
    {
     "data": {
      "text/plain": [
       "1"
      ]
     },
     "execution_count": 3,
     "metadata": {},
     "output_type": "execute_result"
    }
   ],
   "source": [
    "len(viz.neuron.records)"
   ]
  },
  {
   "cell_type": "code",
   "execution_count": 14,
   "metadata": {},
   "outputs": [
    {
     "data": {
      "text/plain": [
       "IO with:\n",
       "1 Neuron:\n",
       "  Neuron `55035` with 1 Record\n",
       "    Record `runm` with 414 time points in t=[-66.5, 5.7] ms, recorded values: currents, interp_v, v\n",
       "1 Sensor:\n",
       "  Sensor `b0c` with 12 points in bounds x=[-200.0, 200.0], y=[-300.0, 700.0], z=[90.0, 90.0] um"
      ]
     },
     "execution_count": 14,
     "metadata": {},
     "output_type": "execute_result"
    }
   ],
   "source": [
    "viz"
   ]
  },
  {
   "cell_type": "code",
   "execution_count": 23,
   "metadata": {},
   "outputs": [
    {
     "data": {
      "text/plain": [
       "[<currio.neuron.Neuron at 0x32a226d90>,\n",
       " Sensor (0x32a3f5600)\n",
       "   N Cells:    12\n",
       "   N Points:   12\n",
       "   N Strips:   0\n",
       "   X Bounds:   -2.000e+02, 2.000e+02\n",
       "   Y Bounds:   -3.000e+02, 7.000e+02\n",
       "   Z Bounds:   9.000e+01, 9.000e+01\n",
       "   N Arrays:   383\n",
       " ]"
      ]
     },
     "execution_count": 23,
     "metadata": {},
     "output_type": "execute_result"
    }
   ],
   "source": [
    "viz.objects"
   ]
  },
  {
   "cell_type": "code",
   "execution_count": 32,
   "metadata": {},
   "outputs": [
    {
     "data": {
      "application/vnd.jupyter.widget-view+json": {
       "model_id": "783d6384516646e095fa3b355943d915",
       "version_major": 2,
       "version_minor": 0
      },
      "text/plain": [
       "Widget(value='<iframe src=\"http://localhost:49485/index.html?ui=P_0x35839d790_10&reconnect=auto\" class=\"pyvist…"
      ]
     },
     "metadata": {},
     "output_type": "display_data"
    }
   ],
   "source": [
    "viz.plot(viz.neuron, viz.sensor)"
   ]
  },
  {
   "cell_type": "code",
   "execution_count": 39,
   "metadata": {},
   "outputs": [
    {
     "ename": "RecursionError",
     "evalue": "maximum recursion depth exceeded",
     "output_type": "error",
     "traceback": [
      "\u001b[0;31m---------------------------------------------------------------------------\u001b[0m",
      "\u001b[0;31mRecursionError\u001b[0m                            Traceback (most recent call last)",
      "Cell \u001b[0;32mIn[39], line 1\u001b[0m\n\u001b[0;32m----> 1\u001b[0m viz\u001b[38;5;241m.\u001b[39mplot()\n",
      "File \u001b[0;32m~/Documents/Helmholtz Institue Mainz/Neuron/currio/io.py:209\u001b[0m, in \u001b[0;36mIO.plot\u001b[0;34m(cls, *objects, **kwargs)\u001b[0m\n\u001b[1;32m    207\u001b[0m io \u001b[38;5;241m=\u001b[39m \u001b[38;5;28mcls\u001b[39m()  \u001b[38;5;66;03m# Create temporary instance\u001b[39;00m\n\u001b[1;32m    208\u001b[0m io\u001b[38;5;241m.\u001b[39madd(\u001b[38;5;241m*\u001b[39mobjects)  \u001b[38;5;66;03m# Add objects\u001b[39;00m\n\u001b[0;32m--> 209\u001b[0m \u001b[38;5;28;01mreturn\u001b[39;00m io\u001b[38;5;241m.\u001b[39mplot(\u001b[38;5;241m*\u001b[39m\u001b[38;5;241m*\u001b[39mkwargs)\n",
      "File \u001b[0;32m~/Documents/Helmholtz Institue Mainz/Neuron/currio/io.py:209\u001b[0m, in \u001b[0;36mIO.plot\u001b[0;34m(cls, *objects, **kwargs)\u001b[0m\n\u001b[1;32m    207\u001b[0m io \u001b[38;5;241m=\u001b[39m \u001b[38;5;28mcls\u001b[39m()  \u001b[38;5;66;03m# Create temporary instance\u001b[39;00m\n\u001b[1;32m    208\u001b[0m io\u001b[38;5;241m.\u001b[39madd(\u001b[38;5;241m*\u001b[39mobjects)  \u001b[38;5;66;03m# Add objects\u001b[39;00m\n\u001b[0;32m--> 209\u001b[0m \u001b[38;5;28;01mreturn\u001b[39;00m io\u001b[38;5;241m.\u001b[39mplot(\u001b[38;5;241m*\u001b[39m\u001b[38;5;241m*\u001b[39mkwargs)\n",
      "    \u001b[0;31m[... skipping similar frames: IO.plot at line 209 (2969 times)]\u001b[0m\n",
      "File \u001b[0;32m~/Documents/Helmholtz Institue Mainz/Neuron/currio/io.py:209\u001b[0m, in \u001b[0;36mIO.plot\u001b[0;34m(cls, *objects, **kwargs)\u001b[0m\n\u001b[1;32m    207\u001b[0m io \u001b[38;5;241m=\u001b[39m \u001b[38;5;28mcls\u001b[39m()  \u001b[38;5;66;03m# Create temporary instance\u001b[39;00m\n\u001b[1;32m    208\u001b[0m io\u001b[38;5;241m.\u001b[39madd(\u001b[38;5;241m*\u001b[39mobjects)  \u001b[38;5;66;03m# Add objects\u001b[39;00m\n\u001b[0;32m--> 209\u001b[0m \u001b[38;5;28;01mreturn\u001b[39;00m io\u001b[38;5;241m.\u001b[39mplot(\u001b[38;5;241m*\u001b[39m\u001b[38;5;241m*\u001b[39mkwargs)\n",
      "File \u001b[0;32m~/Documents/Helmholtz Institue Mainz/Neuron/currio/io.py:207\u001b[0m, in \u001b[0;36mIO.plot\u001b[0;34m(cls, *objects, **kwargs)\u001b[0m\n\u001b[1;32m    204\u001b[0m \u001b[38;5;129m@classmethod\u001b[39m \n\u001b[1;32m    205\u001b[0m \u001b[38;5;28;01mdef\u001b[39;00m \u001b[38;5;21mplot\u001b[39m(\u001b[38;5;28mcls\u001b[39m, \u001b[38;5;241m*\u001b[39mobjects, \u001b[38;5;241m*\u001b[39m\u001b[38;5;241m*\u001b[39mkwargs):\n\u001b[1;32m    206\u001b[0m \u001b[38;5;250m    \u001b[39m\u001b[38;5;124;03m\"\"\"Class method for direct plotting without creating an IO instance.\"\"\"\u001b[39;00m\n\u001b[0;32m--> 207\u001b[0m     io \u001b[38;5;241m=\u001b[39m \u001b[38;5;28mcls\u001b[39m()  \u001b[38;5;66;03m# Create temporary instance\u001b[39;00m\n\u001b[1;32m    208\u001b[0m     io\u001b[38;5;241m.\u001b[39madd(\u001b[38;5;241m*\u001b[39mobjects)  \u001b[38;5;66;03m# Add objects\u001b[39;00m\n\u001b[1;32m    209\u001b[0m     \u001b[38;5;28;01mreturn\u001b[39;00m io\u001b[38;5;241m.\u001b[39mplot(\u001b[38;5;241m*\u001b[39m\u001b[38;5;241m*\u001b[39mkwargs)\n",
      "\u001b[0;31mRecursionError\u001b[0m: maximum recursion depth exceeded"
     ]
    }
   ],
   "source": [
    "viz.plot()"
   ]
  },
  {
   "cell_type": "code",
   "execution_count": null,
   "metadata": {},
   "outputs": [],
   "source": []
  }
 ],
 "metadata": {
  "kernelspec": {
   "display_name": "neuron",
   "language": "python",
   "name": "python3"
  },
  "language_info": {
   "codemirror_mode": {
    "name": "ipython",
    "version": 3
   },
   "file_extension": ".py",
   "mimetype": "text/x-python",
   "name": "python",
   "nbconvert_exporter": "python",
   "pygments_lexer": "ipython3",
   "version": "3.11.0"
  }
 },
 "nbformat": 4,
 "nbformat_minor": 2
}
