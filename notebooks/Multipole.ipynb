{
 "cells": [
  {
   "cell_type": "code",
   "execution_count": 1,
   "metadata": {},
   "outputs": [],
   "source": [
    "import numpy as np\n",
    "import magpylib as magpy\n",
    "\n",
    "from currio.utils import get_multipole_expansion_from_line_currents\n",
    "from currio.utils import get_multipole_expansion_from_current_density\n",
    "\n",
    "from currio.tests.test_multipole import create_loop\n",
    "import magrec\n",
    "from magrec.misc.sampler import GridSampler\n",
    "from magrec.misc.plot import plot_vector_field_2d\n",
    "from magrec.misc.plot import get_gridspec\n"
   ]
  },
  {
   "cell_type": "markdown",
   "metadata": {},
   "source": [
    "# -"
   ]
  },
  {
   "cell_type": "code",
   "execution_count": 2,
   "metadata": {},
   "outputs": [
    {
     "data": {
      "text/plain": [
       "array([0.        , 0.        , 3.14136298])"
      ]
     },
     "execution_count": 2,
     "metadata": {},
     "output_type": "execute_result"
    }
   ],
   "source": [
    "pts, crs = create_loop(1, 1, n=300)\n",
    "\n",
    "# get_multipole_expansion(crs, pts, order=0)\n",
    "get_multipole_expansion_from_line_currents(crs, pts, order=1)"
   ]
  },
  {
   "cell_type": "code",
   "execution_count": 3,
   "metadata": {},
   "outputs": [
    {
     "data": {
      "text/plain": [
       "array([ 1.33895715, -1.10356946, -2.07820291])"
      ]
     },
     "execution_count": 3,
     "metadata": {},
     "output_type": "execute_result"
    }
   ],
   "source": [
    "J = np.random.normal(0, 1, (16, 3))\n",
    "pts = np.random.normal(0, 1, (16, 3))\n",
    "\n",
    "get_multipole_expansion_from_current_density(J, pts, volume_element=1, order=1)"
   ]
  },
  {
   "cell_type": "code",
   "execution_count": 6,
   "metadata": {},
   "outputs": [
    {
     "data": {
      "application/vnd.plotly.v1+json": {
       "config": {
        "plotlyServerURL": "https://plot.ly"
       },
       "data": [
        {
         "legendgroup": "Polyline(id=13367773840)",
         "line": {
          "color": "#2e91e5",
          "dash": "solid",
          "width": 2.2
         },
         "mode": "lines",
         "name": "Polyline (1A)",
         "opacity": 1,
         "showlegend": true,
         "type": "scatter3d",
         "x": {
          "bdata": "p9asTRYP6z8AAAAAAAD4f6y1ebYwxMQ//LXGZCIMyz+stXm2MMTEPxHiIQSOvNg/rLV5tjDExD8AAAAAAAD4f9H7b/L9rOC/0Ptv8v2s4L8AAAAAAAD4f3jK6vojNbQ/4rjqIfeRnD94yur6IzW0P6wpNqU9LLy/eMrq+iM1tD8AAAAAAAD4f26uKvFGuuU/cK4q8Ua65T8AAAAAAAD4fwNzxja8buo/UyCQKD/35j8Dc8Y2vG7qPxJ3vsJwBOw/A3PGNrxu6j8AAAAAAAD4f5Y3YnwxI+8/mDdifDEj7z8AAAAAAAD4f5j2eN8wZOg/GY8McHKt5T+Y9njfMGToP33edVq8ze0/mPZ43zBk6D8AAAAAAAD4f5i1j0IwpeE/mLWPQjCl4T8AAAAAAAD4f0CqHxRf8Lc/4KSNLIWPdr9Aqh8UX/C3P8DYMYVXC9g/QKofFF/wtz8AAAAAAAD4fxCWD/swUte/E5YP+zBS178AAAAAAAD4f/htR3xRUc+/hA/KTmI03L/4bUd8UVHPv/IRokowtri/+G1HfFFRz78AAAAAAAD4f5Rf3wSC/L+/iF/fBIL8v78AAAAAAAD4f3JFcpUqFeu/97DSTobV679yRXKVKhXrv7pP74b3GOG/ckVylSoV678AAAAAAAD4f3pPJHViFfm/dk8kdWIV+b8AAAAAAAD4f4bDk0iwZ/C/X72ZOLm88L+Gw5NIsGfwv3TO+gNVi/O/hsOTSLBn8L8AAAAAAAD4f1beDHD4596/Ut4McPjn3r8AAAAAAAD4f4BiynKkKqS/p0AJIJRpxb+AYspypCqkv5yXPQIcwra/gGLKcqQqpL8AAAAAAAD4f7JFWlNP3dk/skVaU0/d2T8AAAAAAAD4fxdk3NQaWcg/B6Kk+tf3wj8XZNzUGlnIP/AaggEWV9Q/F2Tc1BpZyD8AAAAAAAD4f6gZ3udHQ5i/oBne50dDmL8AAAAAAAD4fwLZm/OBlsE/9NjXbZMUsT8C2ZvzgZbBP9tTQgMpY8I/Atmb84GWwT8AAAAAAAD4f5y6GXK2GtM/nboZcrYa0z8AAAAAAAD4f1IrRrd+gMg/2L6d6bBzxz9SK0a3foDIPymCTf3eCM8/UitGt36AyD8AAAAAAAD4f9PCsRQhl7U/2MKxFCGXtT8AAAAAAAD4f3TD4twIPeQ/+pB0u7gO1D90w+LcCD3kP5TTH6umbuc/dMPi3Ag95D8AAAAAAAD4f0anl8uW4/I/RqeXy5bj8j8AAAAAAAD4fxNQrzY1TOM/JKDF0Cli3T8TUK82NUzjP0WcyN64S+8/E1CvNjVM4z8AAAAAAAD4fyAz6sWaJ5o/gDLqxZonmj8AAAAAAAD4f6UcZDT3Z+Q/lC/gTG+K4j+lHGQ092fkPyukcuw139w/pRxkNPdn5D8AAAAAAAD4f9tzTMlY//M/",
          "dtype": "f8"
         },
         "y": {
          "bdata": "wAvUG9lwm78AAAAAAAD4fyG+QdDtxOM/2K0McCUK2j8hvkHQ7cTjPyOZ1kSaROI/Ib5B0O3E4z8AAAAAAAD4f1AOsTSxMvQ/UA6xNLEy9D8AAAAAAAD4f8Dkav3SUZ4/Uatqs2VI1j/A5Gr90lGePx44EA7JIco/wORq/dJRnj8AAAAAAAD4fyq3xZwiQPO/KrfFnCJA878AAAAAAAD4f2fFCFvzHeK/Zpx2YBSh5b9nxQhb8x3iv2CYNUgmwua/Z8UIW/Md4r8AAAAAAAD4fzAczxv0IrI/KBzPG/Qisj8AAAAAAAD4fw/5AlKrsO2/EI3IqrMb6L8P+QJSq7DtvwZA2KM4fea/D/kCUquw7b8AAAAAAAD4f9Lqv5Pa0v6/0eq/k9rS/r8AAAAAAAD4f8Yr3ihKPfi/KU7tlXhv+r/GK94oSj34v85VKYBVrfi/xiveKEo9+L8AAAAAAAD4f7ts/L25p/G/umz8vbmn8b8AAAAAAAD4f2oBKTsQte6/uLMljAwr779qASk7ELXuv13scmg3C/C/agEpOxC17r8AAAAAAAD4f18pWfqsGuq/YClZ+qwa6r8AAAAAAAD4f5RLag8iUdU/EMMwuE0lkT+US2oPIlHVP90wjLbhTcg/lEtqDyJR1T8AAAAAAAD4f3q64YTntfc/fLrhhOe19z8AAAAAAAD4fwGhSTmggOQ/EJvWyRH46z8BoUk5oIDkPyJi7cinzec/AaFJOaCA5D8AAAAAAAD4f9TLwFw6qsm/ysvAXDqqyb8AAAAAAAD4fzTMrQfL+bE/+G5Mn1S9sT80zK0Hy/mxP/T8bbpJBaO/NMytB8v5sT8AAAAAAAD4f/9LN7IC0tU/AEw3sgLS1T8AAAAAAAD4f5gaRHsD9Oo/GAKKlFPs5j+YGkR7A/TqP0HRurrlkOg/mBpEewP06j8AAAAAAAD4f5hHts6Cf/U/mke2zoJ/9T8AAAAAAAD4f2yAajOxDPE/7AIqxKM/8j9sgGozsQzxP2Ualq1FofE/bIBqM7EM8T8AAAAAAAD4f3xyPTC/M+k/fHI9ML8z6T8AAAAAAAD4f4RoAEIQe+E/IkzS2yGd4j+EaABCEHvhP30iegerb+M/hGgAQhB74T8AAAAAAAD4fxi9hqfChNM/Er2Gp8KE0z8AAAAAAAD4f8loQwzS/Oe/Vtv2h1NE3r/JaEMM0vznv19HIi7MV+O/yWhDDNL8578AAAAAAAD4fw4YJbYC3vy/EBgltgLe/L8AAAAAAAD4f2AVqkOYqtW/COmpy1tu5r9gFapDmKrVvx4IL/zs/uG/YBWqQ5iq1b8AAAAAAAD4f2ANUJS2CPI/XQ1QlLYI8j8AAAAAAAD4fzrMJlJCMO2/fmfIj7WS2786zCZSQjDtv1IITavjfOK/OswmUkIw7b8AAAAAAAD4f8xsO3N8nAfA",
          "dtype": "f8"
         },
         "z": {
          "bdata": "eIZ7YIxK4z8AAAAAAAD4f9gDt/f9U+8/YrJ+GilT7D/YA7f3/VPvP46J1/4+hO0/2AO39/1T7z8AAAAAAAD4f5xAece3rvU/nEB5x7eu9T8AAAAAAAD4f5zV6N7zKPA/kMPyqO4i7j+c1eje8yjwP9YNkvnxdfM/nNXo3vMo8D8AAAAAAAD4fznVsOxfRuU/ONWw7F9G5T8AAAAAAAD4f7KJdY4x/t8/3FCEkyv74D+yiXWOMf7fPy8MutaIH+E/sol1jjH+3z8AAAAAAAD4f/VoiUOjb9U/+2iJQ6Nv1T8AAAAAAAD4f1EmQRT0xde/2kuHQ9sIxL9RJkEU9MXXvzA6B8oKctO/USZBFPTF178AAAAAAAD4f2ftAtviPvG/Zu0C2+I+8b8AAAAAAAD4f3wmrCYHn98/4sYYwUG8wT98JqwmB5/fP8jvN2QyRMw/fCasJgef3z8AAAAAAAD4f1KALDczhwBAUYAsNzOHAEAAAAAAAAD4f/4bnWsRU+Q/nfNrbksR7T/+G51rEVPkP3wGPcmI5e0//hudaxFT5D8AAAAAAAD4f0jJdwWqdum/S8l3Bap26b8AAAAAAAD4f+DMrqKLxp4/2r+Xtu6ixL/gzK6ii8aeP7TlCTBx5ru/4MyuoovGnj8AAAAAAAD4fxm2or8SY+s/FraivxJj6z8AAAAAAAD4f4woDEU2Bec/cvsIXis25j+MKAxFNgXnP90n5Slmk+k/jCgMRTYF5z8AAAAAAAD4fwKbdcpZp+I/AZt1ylmn4j8AAAAAAAD4f9wygS0Vf9c/n0nxW2hg2T/cMoEtFX/XPyjqoVsBJNs/3DKBLRV/1z8AAAAAAAD4f2xfLoztXsM/bF8ujO1ewz8AAAAAAAD4f/DNv04Prta/Hh0mZjYUz7/wzb9OD67Wv6j0fMjN39C/8M2/Tg+u1r8AAAAAAAD4f8tly7HKheu/zGXLscqF678AAAAAAAD4f8fGi2NTEfO/R7xXI46Q8r/HxotjUxHzv7ovSmy5cvG/x8aLY1MR878AAAAAAAD4f6jaMW7BX/i/qNoxbsFf+L8AAAAAAAD4f6T5goEbq/S/I+xPvcTX9b+k+YKBG6v0v1qUldfn+fS/pPmCgRur9L8AAAAAAAD4f6AY1JR19vC/oRjUlHX28L8AAAAAAAD4f663TaiCb+M/nhUJRDqY2D+ut02ogm/jP7JQBQTx6sQ/rrdNqIJv4z8AAAAAAAD4fyjokB78MgJAKOiQHvwyAkAAAAAAAAD4f/CxWwUBUOU/KUwlc9lI8D/wsVsFAVDlPwgrY4ZIpu4/8LFbBQFQ5T8AAAAAAAD4f748jG/uK+6/xjyMb+4r7r8AAAAAAAD4f2q8K6LnKN+/dny/RmJ71b9qvCui5yjfvzZX+4pnQeq/arwrouco378AAAAAAAD4f5D071Mmn5+/",
          "dtype": "f8"
         }
        },
        {
         "legendgroup": "Polyline(id=13367773840)",
         "line": {
          "color": "#2e91e5",
          "dash": "solid",
          "width": 4.4
         },
         "mode": "lines",
         "name": "Polyline (1A)",
         "opacity": 1,
         "showlegend": false,
         "type": "scatter3d",
         "x": {
          "bdata": "p9asTRYP6z/R+2/y/azgv3CuKvFGuuU/ljdifDEj7z+ZtY9CMKXhPxOWD/swUte/k1/fBIL8v795TyR1YhX5v1HeDHD4596/sUVaU0/d2T+gGd7nR0OYv5y6GXK2GtM/2cKxFCGXtT9Hp5fLluPyPwYz6sWaJ5o/2XNMyVj/8z8=",
          "dtype": "f8"
         },
         "y": {
          "bdata": "6gvUG9lwm79QDrE0sTL0Pyq3xZwiQPO/NxzPG/Qisj/T6r+T2tL+v7ls/L25p/G/YilZ+qwa6r96uuGE57X3P8rLwFw6qsm//0s3sgLS1T+ZR7bOgn/1P31yPTC/M+k/Fr2Gp8KE0z8PGCW2At78v18NUJS2CPI/zGw7c3ycB8A=",
          "dtype": "f8"
         },
         "z": {
          "bdata": "eYZ7YIxK4z+cQHnHt671PzjVsOxfRuU/9WiJQ6Nv1T9m7QLb4j7xv1KALDczhwBAS8l3Bap26b8YtqK/EmPrPwGbdcpZp+I/a18ujO1ewz/LZcuxyoXrv6jaMW7BX/i/oRjUlHX28L8o6JAe/DICQMI8jG/uK+6/AvXvUyafn78=",
          "dtype": "f8"
         }
        }
       ],
       "layout": {
        "legend": {
         "itemsizing": "constant"
        },
        "scene": {
         "aspectmode": "manual",
         "aspectratio": {
          "x": 1,
          "y": 1,
          "z": 1
         },
         "camera": {
          "eye": {
           "x": 1,
           "y": -1.5,
           "z": 1.4
          }
         },
         "xaxis": {
          "autorange": false,
          "range": [
           -2.3755999043382787,
           2.057719587353644
          ],
          "title": {
           "text": "x (m)"
          }
         },
         "yaxis": {
          "autorange": false,
          "range": [
           -2.951409244776732,
           1.4819102469151906
          ],
          "title": {
           "text": "y (m)"
          }
         },
         "zaxis": {
          "autorange": false,
          "range": [
           -1.8409011893135818,
           2.592418302378341
          ],
          "title": {
           "text": "z (m)"
          }
         }
        },
        "template": {
         "data": {
          "bar": [
           {
            "error_x": {
             "color": "#2a3f5f"
            },
            "error_y": {
             "color": "#2a3f5f"
            },
            "marker": {
             "line": {
              "color": "#E5ECF6",
              "width": 0.5
             },
             "pattern": {
              "fillmode": "overlay",
              "size": 10,
              "solidity": 0.2
             }
            },
            "type": "bar"
           }
          ],
          "barpolar": [
           {
            "marker": {
             "line": {
              "color": "#E5ECF6",
              "width": 0.5
             },
             "pattern": {
              "fillmode": "overlay",
              "size": 10,
              "solidity": 0.2
             }
            },
            "type": "barpolar"
           }
          ],
          "carpet": [
           {
            "aaxis": {
             "endlinecolor": "#2a3f5f",
             "gridcolor": "white",
             "linecolor": "white",
             "minorgridcolor": "white",
             "startlinecolor": "#2a3f5f"
            },
            "baxis": {
             "endlinecolor": "#2a3f5f",
             "gridcolor": "white",
             "linecolor": "white",
             "minorgridcolor": "white",
             "startlinecolor": "#2a3f5f"
            },
            "type": "carpet"
           }
          ],
          "choropleth": [
           {
            "colorbar": {
             "outlinewidth": 0,
             "ticks": ""
            },
            "type": "choropleth"
           }
          ],
          "contour": [
           {
            "colorbar": {
             "outlinewidth": 0,
             "ticks": ""
            },
            "colorscale": [
             [
              0,
              "#0d0887"
             ],
             [
              0.1111111111111111,
              "#46039f"
             ],
             [
              0.2222222222222222,
              "#7201a8"
             ],
             [
              0.3333333333333333,
              "#9c179e"
             ],
             [
              0.4444444444444444,
              "#bd3786"
             ],
             [
              0.5555555555555556,
              "#d8576b"
             ],
             [
              0.6666666666666666,
              "#ed7953"
             ],
             [
              0.7777777777777778,
              "#fb9f3a"
             ],
             [
              0.8888888888888888,
              "#fdca26"
             ],
             [
              1,
              "#f0f921"
             ]
            ],
            "type": "contour"
           }
          ],
          "contourcarpet": [
           {
            "colorbar": {
             "outlinewidth": 0,
             "ticks": ""
            },
            "type": "contourcarpet"
           }
          ],
          "heatmap": [
           {
            "colorbar": {
             "outlinewidth": 0,
             "ticks": ""
            },
            "colorscale": [
             [
              0,
              "#0d0887"
             ],
             [
              0.1111111111111111,
              "#46039f"
             ],
             [
              0.2222222222222222,
              "#7201a8"
             ],
             [
              0.3333333333333333,
              "#9c179e"
             ],
             [
              0.4444444444444444,
              "#bd3786"
             ],
             [
              0.5555555555555556,
              "#d8576b"
             ],
             [
              0.6666666666666666,
              "#ed7953"
             ],
             [
              0.7777777777777778,
              "#fb9f3a"
             ],
             [
              0.8888888888888888,
              "#fdca26"
             ],
             [
              1,
              "#f0f921"
             ]
            ],
            "type": "heatmap"
           }
          ],
          "histogram": [
           {
            "marker": {
             "pattern": {
              "fillmode": "overlay",
              "size": 10,
              "solidity": 0.2
             }
            },
            "type": "histogram"
           }
          ],
          "histogram2d": [
           {
            "colorbar": {
             "outlinewidth": 0,
             "ticks": ""
            },
            "colorscale": [
             [
              0,
              "#0d0887"
             ],
             [
              0.1111111111111111,
              "#46039f"
             ],
             [
              0.2222222222222222,
              "#7201a8"
             ],
             [
              0.3333333333333333,
              "#9c179e"
             ],
             [
              0.4444444444444444,
              "#bd3786"
             ],
             [
              0.5555555555555556,
              "#d8576b"
             ],
             [
              0.6666666666666666,
              "#ed7953"
             ],
             [
              0.7777777777777778,
              "#fb9f3a"
             ],
             [
              0.8888888888888888,
              "#fdca26"
             ],
             [
              1,
              "#f0f921"
             ]
            ],
            "type": "histogram2d"
           }
          ],
          "histogram2dcontour": [
           {
            "colorbar": {
             "outlinewidth": 0,
             "ticks": ""
            },
            "colorscale": [
             [
              0,
              "#0d0887"
             ],
             [
              0.1111111111111111,
              "#46039f"
             ],
             [
              0.2222222222222222,
              "#7201a8"
             ],
             [
              0.3333333333333333,
              "#9c179e"
             ],
             [
              0.4444444444444444,
              "#bd3786"
             ],
             [
              0.5555555555555556,
              "#d8576b"
             ],
             [
              0.6666666666666666,
              "#ed7953"
             ],
             [
              0.7777777777777778,
              "#fb9f3a"
             ],
             [
              0.8888888888888888,
              "#fdca26"
             ],
             [
              1,
              "#f0f921"
             ]
            ],
            "type": "histogram2dcontour"
           }
          ],
          "mesh3d": [
           {
            "colorbar": {
             "outlinewidth": 0,
             "ticks": ""
            },
            "type": "mesh3d"
           }
          ],
          "parcoords": [
           {
            "line": {
             "colorbar": {
              "outlinewidth": 0,
              "ticks": ""
             }
            },
            "type": "parcoords"
           }
          ],
          "pie": [
           {
            "automargin": true,
            "type": "pie"
           }
          ],
          "scatter": [
           {
            "fillpattern": {
             "fillmode": "overlay",
             "size": 10,
             "solidity": 0.2
            },
            "type": "scatter"
           }
          ],
          "scatter3d": [
           {
            "line": {
             "colorbar": {
              "outlinewidth": 0,
              "ticks": ""
             }
            },
            "marker": {
             "colorbar": {
              "outlinewidth": 0,
              "ticks": ""
             }
            },
            "type": "scatter3d"
           }
          ],
          "scattercarpet": [
           {
            "marker": {
             "colorbar": {
              "outlinewidth": 0,
              "ticks": ""
             }
            },
            "type": "scattercarpet"
           }
          ],
          "scattergeo": [
           {
            "marker": {
             "colorbar": {
              "outlinewidth": 0,
              "ticks": ""
             }
            },
            "type": "scattergeo"
           }
          ],
          "scattergl": [
           {
            "marker": {
             "colorbar": {
              "outlinewidth": 0,
              "ticks": ""
             }
            },
            "type": "scattergl"
           }
          ],
          "scattermap": [
           {
            "marker": {
             "colorbar": {
              "outlinewidth": 0,
              "ticks": ""
             }
            },
            "type": "scattermap"
           }
          ],
          "scattermapbox": [
           {
            "marker": {
             "colorbar": {
              "outlinewidth": 0,
              "ticks": ""
             }
            },
            "type": "scattermapbox"
           }
          ],
          "scatterpolar": [
           {
            "marker": {
             "colorbar": {
              "outlinewidth": 0,
              "ticks": ""
             }
            },
            "type": "scatterpolar"
           }
          ],
          "scatterpolargl": [
           {
            "marker": {
             "colorbar": {
              "outlinewidth": 0,
              "ticks": ""
             }
            },
            "type": "scatterpolargl"
           }
          ],
          "scatterternary": [
           {
            "marker": {
             "colorbar": {
              "outlinewidth": 0,
              "ticks": ""
             }
            },
            "type": "scatterternary"
           }
          ],
          "surface": [
           {
            "colorbar": {
             "outlinewidth": 0,
             "ticks": ""
            },
            "colorscale": [
             [
              0,
              "#0d0887"
             ],
             [
              0.1111111111111111,
              "#46039f"
             ],
             [
              0.2222222222222222,
              "#7201a8"
             ],
             [
              0.3333333333333333,
              "#9c179e"
             ],
             [
              0.4444444444444444,
              "#bd3786"
             ],
             [
              0.5555555555555556,
              "#d8576b"
             ],
             [
              0.6666666666666666,
              "#ed7953"
             ],
             [
              0.7777777777777778,
              "#fb9f3a"
             ],
             [
              0.8888888888888888,
              "#fdca26"
             ],
             [
              1,
              "#f0f921"
             ]
            ],
            "type": "surface"
           }
          ],
          "table": [
           {
            "cells": {
             "fill": {
              "color": "#EBF0F8"
             },
             "line": {
              "color": "white"
             }
            },
            "header": {
             "fill": {
              "color": "#C8D4E3"
             },
             "line": {
              "color": "white"
             }
            },
            "type": "table"
           }
          ]
         },
         "layout": {
          "annotationdefaults": {
           "arrowcolor": "#2a3f5f",
           "arrowhead": 0,
           "arrowwidth": 1
          },
          "autotypenumbers": "strict",
          "coloraxis": {
           "colorbar": {
            "outlinewidth": 0,
            "ticks": ""
           }
          },
          "colorscale": {
           "diverging": [
            [
             0,
             "#8e0152"
            ],
            [
             0.1,
             "#c51b7d"
            ],
            [
             0.2,
             "#de77ae"
            ],
            [
             0.3,
             "#f1b6da"
            ],
            [
             0.4,
             "#fde0ef"
            ],
            [
             0.5,
             "#f7f7f7"
            ],
            [
             0.6,
             "#e6f5d0"
            ],
            [
             0.7,
             "#b8e186"
            ],
            [
             0.8,
             "#7fbc41"
            ],
            [
             0.9,
             "#4d9221"
            ],
            [
             1,
             "#276419"
            ]
           ],
           "sequential": [
            [
             0,
             "#0d0887"
            ],
            [
             0.1111111111111111,
             "#46039f"
            ],
            [
             0.2222222222222222,
             "#7201a8"
            ],
            [
             0.3333333333333333,
             "#9c179e"
            ],
            [
             0.4444444444444444,
             "#bd3786"
            ],
            [
             0.5555555555555556,
             "#d8576b"
            ],
            [
             0.6666666666666666,
             "#ed7953"
            ],
            [
             0.7777777777777778,
             "#fb9f3a"
            ],
            [
             0.8888888888888888,
             "#fdca26"
            ],
            [
             1,
             "#f0f921"
            ]
           ],
           "sequentialminus": [
            [
             0,
             "#0d0887"
            ],
            [
             0.1111111111111111,
             "#46039f"
            ],
            [
             0.2222222222222222,
             "#7201a8"
            ],
            [
             0.3333333333333333,
             "#9c179e"
            ],
            [
             0.4444444444444444,
             "#bd3786"
            ],
            [
             0.5555555555555556,
             "#d8576b"
            ],
            [
             0.6666666666666666,
             "#ed7953"
            ],
            [
             0.7777777777777778,
             "#fb9f3a"
            ],
            [
             0.8888888888888888,
             "#fdca26"
            ],
            [
             1,
             "#f0f921"
            ]
           ]
          },
          "colorway": [
           "#636efa",
           "#EF553B",
           "#00cc96",
           "#ab63fa",
           "#FFA15A",
           "#19d3f3",
           "#FF6692",
           "#B6E880",
           "#FF97FF",
           "#FECB52"
          ],
          "font": {
           "color": "#2a3f5f"
          },
          "geo": {
           "bgcolor": "white",
           "lakecolor": "white",
           "landcolor": "#E5ECF6",
           "showlakes": true,
           "showland": true,
           "subunitcolor": "white"
          },
          "hoverlabel": {
           "align": "left"
          },
          "hovermode": "closest",
          "mapbox": {
           "style": "light"
          },
          "paper_bgcolor": "white",
          "plot_bgcolor": "#E5ECF6",
          "polar": {
           "angularaxis": {
            "gridcolor": "white",
            "linecolor": "white",
            "ticks": ""
           },
           "bgcolor": "#E5ECF6",
           "radialaxis": {
            "gridcolor": "white",
            "linecolor": "white",
            "ticks": ""
           }
          },
          "scene": {
           "xaxis": {
            "backgroundcolor": "#E5ECF6",
            "gridcolor": "white",
            "gridwidth": 2,
            "linecolor": "white",
            "showbackground": true,
            "ticks": "",
            "zerolinecolor": "white"
           },
           "yaxis": {
            "backgroundcolor": "#E5ECF6",
            "gridcolor": "white",
            "gridwidth": 2,
            "linecolor": "white",
            "showbackground": true,
            "ticks": "",
            "zerolinecolor": "white"
           },
           "zaxis": {
            "backgroundcolor": "#E5ECF6",
            "gridcolor": "white",
            "gridwidth": 2,
            "linecolor": "white",
            "showbackground": true,
            "ticks": "",
            "zerolinecolor": "white"
           }
          },
          "shapedefaults": {
           "line": {
            "color": "#2a3f5f"
           }
          },
          "ternary": {
           "aaxis": {
            "gridcolor": "white",
            "linecolor": "white",
            "ticks": ""
           },
           "baxis": {
            "gridcolor": "white",
            "linecolor": "white",
            "ticks": ""
           },
           "bgcolor": "#E5ECF6",
           "caxis": {
            "gridcolor": "white",
            "linecolor": "white",
            "ticks": ""
           }
          },
          "title": {
           "x": 0.05
          },
          "xaxis": {
           "automargin": true,
           "gridcolor": "white",
           "linecolor": "white",
           "ticks": "",
           "title": {
            "standoff": 15
           },
           "zerolinecolor": "white",
           "zerolinewidth": 2
          },
          "yaxis": {
           "automargin": true,
           "gridcolor": "white",
           "linecolor": "white",
           "ticks": "",
           "title": {
            "standoff": 15
           },
           "zerolinecolor": "white",
           "zerolinewidth": 2
          }
         }
        }
       }
      }
     },
     "metadata": {},
     "output_type": "display_data"
    }
   ],
   "source": [
    "loop = magpy.current.Polyline(vertices=pts, current=1)\n",
    "loop.show()"
   ]
  },
  {
   "cell_type": "code",
   "execution_count": 3,
   "metadata": {},
   "outputs": [],
   "source": [
    "Jxy = np.loadtxt('/Users/valeriodesio/Desktop/Jxy.csv', float, delimiter=',')"
   ]
  },
  {
   "cell_type": "code",
   "execution_count": 4,
   "metadata": {},
   "outputs": [],
   "source": [
    "Js = Jxy[:, 0]\n",
    "current_density = np.zeros((len(Js), 3))\n",
    "current_density[:, 0] = Js\n",
    "xs = Jxy[:, 1]\n",
    "ys = Jxy[:, 2]\n",
    "pts = np.stack([xs, ys, np.zeros_like(xs)], axis=1)\n",
    "\n"
   ]
  },
  {
   "cell_type": "markdown",
   "metadata": {},
   "source": [
    "# TODO:\n",
    "\n",
    "For Aug 7, 2025:\n",
    "\n",
    "1. Implement iterating through a custom grid spec over a current density and compute `get_multipole_expansion_from_current_density` on it. Return as a vector of size (`n_columns`, `n_rows`, `monopole_compoents` = 3)\n",
    "\n",
    "Only monopole will have 3 components (_z is 0)\n",
    "\n",
    "Function signature:\n",
    "\n",
    "```python\n",
    "def get_grid_monopole_expansion(current_density, grid_spec):\n",
    "    ```\n",
    "    grid_spec: a tuple with (n_columns, n_rows)\n",
    "    ```\n",
    "    pass\n",
    "```\n",
    "\n",
    "2. Add monopole expansion terms to the `plot_vector_field_2d` function: monopole vectors should be placed at the grid element centers and plotted with a different color and the scale bar for size (or something like this).\n",
    "\n",
    "3. Think how time comes into play: it will be additional dimension in the input. Your J density is `(2, 3, n_time_steps)`. Return as `(2, 3, n_time_steps, monopole_components)`. \n",
    "\n",
    "---\n",
    "\n",
    "4. Ask Alessandro for spiral current density.\n",
    "5. Compute the monopole expansion of the spiral current density.\n",
    "\n",
    "---\n",
    "\n",
    "For later\n",
    "\n",
    "MATH:\n",
    "\n",
    "6. Read about dipole moments. \n",
    "7. Implement dipole moment calculation from current density. Use the same grid spec. \n",
    "\n",
    "\n",
    "Send Valerio:\n",
    "phone number to contact me in WhatsApp\n",
    "paper about multipole expansion\n",
    "link to magrec and currio github repos"
   ]
  },
  {
   "cell_type": "markdown",
   "metadata": {},
   "source": [
    "## Task 1"
   ]
  },
  {
   "cell_type": "code",
   "execution_count": 5,
   "metadata": {},
   "outputs": [],
   "source": [
    "def get_grid_monopole_expansion(current_density, pts, grid_spec=None, cell_size=None, volume_element=1.0):\n",
    "    \"\"\"\n",
    "    The space is divided into a 2D grid and the monopole expansion is computed in each grid cell specified either with respect to the size or the number of elements.\n",
    "\n",
    "    Inputs:\n",
    "    - current_density: array of shape (N, 3), current density vector (A/m^2)\n",
    "    - pts: array of shape (N, 3), list of points between which the current is flowing\n",
    "    - grid_spec (optional): tuple (n_columns, n_rows), number of grid cells along x and y\n",
    "    - cell_size (optional): tuple (dx, dy), dimension of grid element\n",
    "\n",
    "    Output:\n",
    "    - grid_monopoles: array of shape (n_columns, n_rows, 3)\n",
    "    - grid_centers: array of shape (n_columns, n_rows, 2), coordinates of the centers for each element of the grid\n",
    "    \"\"\"\n",
    "\n",
    "    if (grid_spec is None and cell_size is None) or (grid_spec is not None and cell_size is not None):\n",
    "        raise ValueError(\"Provide either grid_spec or cell_size.\")\n",
    "\n",
    "    xs = pts[:, 0]\n",
    "    ys = pts[:, 1]\n",
    "\n",
    "    # Box definition\n",
    "    x_min, x_max = xs.min(), xs.max()\n",
    "    y_min, y_max = ys.min(), ys.max()\n",
    "\n",
    "    Lx, Ly= x_max-x_min, y_max-y_min\n",
    "\n",
    "    if grid_spec is not None:\n",
    "        n_columns, n_rows = grid_spec\n",
    "    else:\n",
    "        dx, dy = cell_size\n",
    "        n_columns = int(np.ceil(Lx / dx))\n",
    "        n_rows = int(np.ceil(Ly / dy))\n",
    "\n",
    "    # Grid points definition\n",
    "    x_edges = np.linspace(x_min, x_max, n_columns+1)\n",
    "    y_edges = np.linspace(y_min, y_max, n_rows+1)\n",
    "\n",
    "    # Output inizialization\n",
    "    grid_monopoles = np.zeros((n_columns, n_rows, 3))\n",
    "    grid_centers = np.zeros((n_columns, n_rows, 2))\n",
    "\n",
    "    for i in range(n_columns):\n",
    "        for j in range(n_rows):\n",
    "            x0, x1 = x_edges[i], x_edges[i+1]\n",
    "            y0, y1 = y_edges[j], y_edges[j+1]\n",
    "\n",
    "            # Store the center of the cell\n",
    "            center_x = (x0 + x1) / 2\n",
    "            center_y = (y0 + y1) / 2\n",
    "            grid_centers[i, j] = [center_x, center_y]\n",
    "\n",
    "            # Mask\n",
    "            cell = (\n",
    "                (xs >= x0) & (xs <= x1) &\n",
    "                (ys >= y0) & (ys <= y1)\n",
    "            )\n",
    "\n",
    "            J_cell = current_density[cell]\n",
    "            pts_cell = pts[cell]\n",
    "\n",
    "            if J_cell.shape[0] > 0:\n",
    "                grid_monopoles[i ,j] = get_multipole_expansion_from_current_density(J_cell, pts_cell, volume_element=volume_element, order=0)\n",
    "\n",
    "    return grid_monopoles, grid_centers\n",
    "\n"
   ]
  },
  {
   "cell_type": "code",
   "execution_count": 6,
   "metadata": {},
   "outputs": [
    {
     "data": {
      "text/plain": [
       "array([-8.7238376,  0.       ,  0.       ])"
      ]
     },
     "execution_count": 6,
     "metadata": {},
     "output_type": "execute_result"
    }
   ],
   "source": [
    "# Create a boolean mask for the region of interest\n",
    "mask = (xs >= 1.00) & (xs <= 25.90) & (ys >= 1) & (ys <= 25.90)\n",
    "\n",
    "# Filter pts and current_density\n",
    "pts_roi = pts[mask]\n",
    "J_roi = current_density[mask]\n",
    "\n",
    "monopole = get_multipole_expansion_from_current_density(J_roi, pts_roi, volume_element=1.0, order=0)\n",
    "monopole"
   ]
  },
  {
   "cell_type": "code",
   "execution_count": 8,
   "metadata": {},
   "outputs": [
    {
     "data": {
      "text/plain": [
       "array([-8.7238376,  0.       ,  0.       ])"
      ]
     },
     "execution_count": 8,
     "metadata": {},
     "output_type": "execute_result"
    }
   ],
   "source": [
    "grid_monopoles, grid_centers = get_grid_monopole_expansion(current_density, pts, grid_spec=(10,10), volume_element=1.0)\n",
    "grid_monopoles[0, 0, :]"
   ]
  },
  {
   "cell_type": "markdown",
   "metadata": {},
   "source": [
    "## Task 2"
   ]
  },
  {
   "cell_type": "code",
   "execution_count": null,
   "metadata": {},
   "outputs": [],
   "source": [
    "def get_grid_monopole_expansion_time(current_density_series, pts, cell_size=None, grid_spec=None, volume_element=1.0):\n",
    "    \"\"\"\n",
    "    Monopole expansion is computed for each element of the grid from a time series of current densities\n",
    "\n",
    "    Inputs:\n",
    "    - current_density_series: array of shape (N, 3, T), current density at each point over time\n",
    "    - pts: array of shape (N, 3), list of points between which the current is flowing\n",
    "    - grid_spec (optional): tuple (n_columns, n_rows), number of grid cells along x and y\n",
    "    - cell_size (optional): tuple (dx, dy), dimension of grid element\n",
    "\n",
    "    Output:\n",
    "    - grid_monopoles_series: array of shape (n_columns, n_rows, n_time_steps, 3)\n",
    "    \"\"\"\n",
    "\n",
    "    _, _, T = current_density_series.shape\n",
    "\n",
    "    if (grid_spec is None and cell_size is None) or (grid_spec is not None and cell_size is not None):\n",
    "        raise ValueError(\"Provide either grid_spec or cell_size.\")\n",
    "\n",
    "    xs = pts[:, 0]\n",
    "    ys = pts[:, 1]\n",
    "\n",
    "    # Box definition\n",
    "    x_min, x_max = xs.min(), xs.max()\n",
    "    y_min, y_max = ys.min(), ys.max()\n",
    "\n",
    "    Lx, Ly= x_max-x_min, y_max-y_min\n",
    "\n",
    "    if grid_spec is not None:\n",
    "        n_columns, n_rows = grid_spec\n",
    "        dx = Lx / n_columns\n",
    "        dy = Ly / n_rows\n",
    "    else:\n",
    "        dx, dy = cell_size\n",
    "        n_columns = int(np.ceil(Lx / dx))\n",
    "        n_rows = int(np.ceil(Ly / dy))\n",
    "\n",
    "    # Grid points definition\n",
    "    x_edges = np.linspace(x_min, x_max, n_columns+1)\n",
    "    y_edges = np.linspace(y_min, y_max, n_rows+1)\n",
    "\n",
    "    # Output inizialization\n",
    "    grid_monopoles_series = np.zeros((n_columns, n_rows, T, 3))\n",
    "\n",
    "    for t in range(T):\n",
    "        J_t = current_density_series[:, :, t]\n",
    "\n",
    "        for i in range(n_columns):\n",
    "            for j in range(n_rows):\n",
    "                x0, x1 = x_edges[i], x_edges[i+1]\n",
    "                y0, y1 = y_edges[j], y_edges[j+1]\n",
    "\n",
    "                # Mask\n",
    "                cell = (\n",
    "                    (xs >= x0) & (xs <= x1) &\n",
    "                    (ys >= y0) & (ys <= y1)\n",
    "                )\n",
    "\n",
    "                J_cell = J_t[cell]\n",
    "                pts_cell = pts[cell]\n",
    "\n",
    "                if J_cell.shape[0] > 0:\n",
    "                    grid_monopoles_series[i ,j, t, :] = get_multipole_expansion_from_current_density(J_cell, pts_cell, volume_element=volume_element, order=0)\n",
    "        \n",
    "    return grid_monopoles_series\n",
    "    \n",
    "    "
   ]
  },
  {
   "cell_type": "code",
   "execution_count": 10,
   "metadata": {},
   "outputs": [],
   "source": [
    "# Synthetic test setup\n",
    "N = 5  # 4 spatial points\n",
    "T = 3  # 3 time steps\n",
    "\n",
    "# Points in a 2x2 square grid, positions fixed\n",
    "pts = np.array([\n",
    "    [0, 0, 0],  # bottom-left\n",
    "    [0.3, 0, 0],\n",
    "    [1.1, 0, 0],  # bottom-right\n",
    "    [0, 1.1, 0],  # top-left\n",
    "    [1.1, 1.1, 0],  # top-right\n",
    "])\n",
    "\n",
    "# Current densities for each point over 3 time steps\n",
    "# Shape: (N, 3, T)\n",
    "current_density_series = np.zeros((N, 3, T))\n",
    "\n",
    "# Time step 0: all currents in +x\n",
    "current_density_series[:, 0, 0] = [1, 1, 2, 3, 4]  # Jx values\n",
    "# Time step 1: all currents in +y\n",
    "current_density_series[:, 1, 1] = [1, 1, 2, 3, 4]  # Jy values\n",
    "# Time step 2: diagonal currents\n",
    "current_density_series[:, 0, 2] = [1, 1, 1, 1, 1]  # Jx\n",
    "current_density_series[:, 1, 2] = [1, 0, 1, 1, 1]  # Jy"
   ]
  },
  {
   "cell_type": "code",
   "execution_count": 11,
   "metadata": {},
   "outputs": [
    {
     "name": "stdout",
     "output_type": "stream",
     "text": [
      "\n",
      "Time step 0, Cell (0, 0):\n",
      "  Cell bounds x: [0.00, 0.55], y: [0.00, 0.55]\n",
      "  Number of points in cell: 2\n",
      "  Points in cell:\n",
      "[[0.  0.  0. ]\n",
      " [0.3 0.  0. ]]\n",
      "  Current densities:\n",
      "[[1. 0. 0.]\n",
      " [1. 0. 0.]]\n",
      "  Monopole expansion: [2. 0. 0.]\n",
      "\n",
      "Time step 0, Cell (0, 1):\n",
      "  Cell bounds x: [0.00, 0.55], y: [0.55, 1.10]\n",
      "  Number of points in cell: 1\n",
      "  Points in cell:\n",
      "[[0.  1.1 0. ]]\n",
      "  Current densities:\n",
      "[[3. 0. 0.]]\n",
      "  Monopole expansion: [3. 0. 0.]\n",
      "\n",
      "Time step 0, Cell (1, 0):\n",
      "  Cell bounds x: [0.55, 1.10], y: [0.00, 0.55]\n",
      "  Number of points in cell: 1\n",
      "  Points in cell:\n",
      "[[1.1 0.  0. ]]\n",
      "  Current densities:\n",
      "[[2. 0. 0.]]\n",
      "  Monopole expansion: [2. 0. 0.]\n",
      "\n",
      "Time step 0, Cell (1, 1):\n",
      "  Cell bounds x: [0.55, 1.10], y: [0.55, 1.10]\n",
      "  Number of points in cell: 1\n",
      "  Points in cell:\n",
      "[[1.1 1.1 0. ]]\n",
      "  Current densities:\n",
      "[[4. 0. 0.]]\n",
      "  Monopole expansion: [4. 0. 0.]\n",
      "\n",
      "Time step 1, Cell (0, 0):\n",
      "  Cell bounds x: [0.00, 0.55], y: [0.00, 0.55]\n",
      "  Number of points in cell: 2\n",
      "  Points in cell:\n",
      "[[0.  0.  0. ]\n",
      " [0.3 0.  0. ]]\n",
      "  Current densities:\n",
      "[[0. 1. 0.]\n",
      " [0. 1. 0.]]\n",
      "  Monopole expansion: [0. 2. 0.]\n",
      "\n",
      "Time step 1, Cell (0, 1):\n",
      "  Cell bounds x: [0.00, 0.55], y: [0.55, 1.10]\n",
      "  Number of points in cell: 1\n",
      "  Points in cell:\n",
      "[[0.  1.1 0. ]]\n",
      "  Current densities:\n",
      "[[0. 3. 0.]]\n",
      "  Monopole expansion: [0. 3. 0.]\n",
      "\n",
      "Time step 1, Cell (1, 0):\n",
      "  Cell bounds x: [0.55, 1.10], y: [0.00, 0.55]\n",
      "  Number of points in cell: 1\n",
      "  Points in cell:\n",
      "[[1.1 0.  0. ]]\n",
      "  Current densities:\n",
      "[[0. 2. 0.]]\n",
      "  Monopole expansion: [0. 2. 0.]\n",
      "\n",
      "Time step 1, Cell (1, 1):\n",
      "  Cell bounds x: [0.55, 1.10], y: [0.55, 1.10]\n",
      "  Number of points in cell: 1\n",
      "  Points in cell:\n",
      "[[1.1 1.1 0. ]]\n",
      "  Current densities:\n",
      "[[0. 4. 0.]]\n",
      "  Monopole expansion: [0. 4. 0.]\n",
      "\n",
      "Time step 2, Cell (0, 0):\n",
      "  Cell bounds x: [0.00, 0.55], y: [0.00, 0.55]\n",
      "  Number of points in cell: 2\n",
      "  Points in cell:\n",
      "[[0.  0.  0. ]\n",
      " [0.3 0.  0. ]]\n",
      "  Current densities:\n",
      "[[1. 1. 0.]\n",
      " [1. 0. 0.]]\n",
      "  Monopole expansion: [2. 1. 0.]\n",
      "\n",
      "Time step 2, Cell (0, 1):\n",
      "  Cell bounds x: [0.00, 0.55], y: [0.55, 1.10]\n",
      "  Number of points in cell: 1\n",
      "  Points in cell:\n",
      "[[0.  1.1 0. ]]\n",
      "  Current densities:\n",
      "[[1. 1. 0.]]\n",
      "  Monopole expansion: [1. 1. 0.]\n",
      "\n",
      "Time step 2, Cell (1, 0):\n",
      "  Cell bounds x: [0.55, 1.10], y: [0.00, 0.55]\n",
      "  Number of points in cell: 1\n",
      "  Points in cell:\n",
      "[[1.1 0.  0. ]]\n",
      "  Current densities:\n",
      "[[1. 1. 0.]]\n",
      "  Monopole expansion: [1. 1. 0.]\n",
      "\n",
      "Time step 2, Cell (1, 1):\n",
      "  Cell bounds x: [0.55, 1.10], y: [0.55, 1.10]\n",
      "  Number of points in cell: 1\n",
      "  Points in cell:\n",
      "[[1.1 1.1 0. ]]\n",
      "  Current densities:\n",
      "[[1. 1. 0.]]\n",
      "  Monopole expansion: [1. 1. 0.]\n"
     ]
    }
   ],
   "source": [
    "grid_monopoles_series = get_grid_monopole_expansion_time(current_density_series, pts, grid_spec=(2,2), volume_element=1.0)"
   ]
  },
  {
   "cell_type": "markdown",
   "metadata": {},
   "source": [
    "## Task 3"
   ]
  },
  {
   "cell_type": "code",
   "execution_count": 220,
   "metadata": {},
   "outputs": [],
   "source": [
    "from matplotlib import gridspec\n",
    "\n",
    "CBAR_PORTION = 0.05  # portion of width allocated to each colorbar\n",
    "\n",
    "def get_gridspec_colormap_plot_colormap():\n",
    "    \"\"\"\n",
    "    Returns a GridSpec with 3 columns: colormap1 | plot | colormap2\n",
    "    \"\"\"\n",
    "    return gridspec.GridSpec(\n",
    "        nrows=1, \n",
    "        ncols=3,\n",
    "        width_ratios=[CBAR_PORTION, 1, CBAR_PORTION],\n",
    "        wspace=0.1\n",
    "    )"
   ]
  },
  {
   "cell_type": "code",
   "execution_count": null,
   "metadata": {},
   "outputs": [],
   "source": [
    "import numpy as np\n",
    "import matplotlib.pyplot as plt\n",
    "from mpl_toolkits.axes_grid1 import make_axes_locatable\n",
    "from mpl_toolkits.axes_grid1.inset_locator import inset_axes\n",
    "import torch\n",
    "\n",
    "def plot_vector_field_2d_monopoles(current_distribution, grid_monopoles, grid_centers, ax: plt.Axes = None, \n",
    "                         interpolation='none', cmap='plasma', monopole_cmap='viridis' ,color='black', units=None,\n",
    "                         units_mono=None, title=None, show=False, num_arrows=20, zoom_in_region=None):\n",
    "    \"\"\"\n",
    "    Visualizes the current distribution in 2D as a heatmap of magnitudes and arrows representing the flow direction.\n",
    "    On top of the heatmap, the monopoles are plotted with direction given by the components and magnitude by the colormap\n",
    "    \n",
    "    Parameters:\n",
    "    ----------\n",
    "    current_distribution : ndarray\n",
    "        An array of shape (2, W, H) representing current distribution vectors.\n",
    "\n",
    "    grid_monopoles : ndarray\n",
    "        An array of shape (n_columns, n_rows, 3) representing the monopoles computed for each element in the grid\n",
    "\n",
    "    grid_centers : ndarray\n",
    "        An array of shape (n_columns, n_rows, 2), representing the coordinates for the centers of each element in the grid\n",
    "    \n",
    "    interpolation : str, optional\n",
    "        The interpolation method to be used for the heatmap. Options are as provided by matplotlib's `imshow`.\n",
    "        Default is 'none'.\n",
    "    \n",
    "    cmap : str, optional\n",
    "        The colormap to be used for the heatmap. Options are as provided by matplotlib's colormaps.\n",
    "        Default is 'plasma'.\n",
    "\n",
    "    monopole_cmap : str, optional\n",
    "        The colormap to be used for the monopoles magnitude. Options are as provided by matplotlib's colormaps.\n",
    "        Default is 'viridis'.\n",
    "\n",
    "    The 'inferno' & 'cool' combination provides ease of view for the quivers with respect to the background. \n",
    "        \n",
    "    color : str, optional\n",
    "        The color of the arrows. Default is 'black'.\n",
    "            \n",
    "    units : str, optional\n",
    "        Show units on the colorbar for the current distribution. Default is None (no units).\n",
    "\n",
    "    units_mono : str, optional\n",
    "        Show units on the colorbar for the monopoles magnitude. Default is None (no units).\n",
    "        \n",
    "    title: str, optional\n",
    "        Title of the plot. Default is None (no title).\n",
    "    \n",
    "    show : bool, optional\n",
    "        If True, the plot is displayed using `plt.show()`. Otherwise, the plot is returned without being shown.\n",
    "        Default is False.\n",
    "    \n",
    "    num_arrows : int, optional\n",
    "        The approximate number of arrows to be used for the quiver plot across the width of the image.\n",
    "        The function will adjust the number of arrows to avoid overcrowding. Default is 20.\n",
    "    \n",
    "    zoom_in_region : tuple of two tuples, optional\n",
    "        A tuple representing the top-left and bottom-right corners of the rectangle for the inset. The format is \n",
    "        ((index_x_origin, index_y_origin), (index_x_diagonal, index_y_diagonal)). If provided, the function will render \n",
    "        the specified inset region with an arrow indicating the average flow direction. Default is None.\n",
    "    \n",
    "    Returns:\n",
    "    -------\n",
    "    fig : Figure\n",
    "        A matplotlib figure containing the visualizations.\n",
    "\n",
    "    Notes:\n",
    "    -----\n",
    "    - The main visualization provides a heatmap of the magnitudes and arrows indicating the flow direction of the \n",
    "      current distribution, and on top of that the arrows for the monopoles computed are plotted with the magnitude given by the colormap.\n",
    "    - The inset, if specified, provides a zoomed-in view of a particular region of the main visualization, allowing for \n",
    "      a closer inspection of details.\n",
    "\n",
    "    Examples:\n",
    "    --------\n",
    "    >>> dist = np.random.rand(2, 100, 100)\n",
    "    >>> fig = plot_vector_field_2d(dist, interpolation='bilinear', cmap='inferno', show=True, num_arrows=30, inset_region=((20, 20), (40, 40)))\n",
    "    \"\"\"  \n",
    "    # PARAMS\n",
    "    # figsize = get_figsize(n_components=1, n_maps=1, alignment='horizontal')\n",
    "    \n",
    "    # Create a figure with an axis if none is provided\n",
    "    if ax is None:\n",
    "        fig = plt.figure(frameon=False)\n",
    "        gs = get_gridspec_colormap_plot_colormap()\n",
    "\n",
    "        # Main plot\n",
    "        ax = fig.add_subplot(gs[1])\n",
    "\n",
    "        # Main plot position\n",
    "        ax_pos = ax.get_position()\n",
    "\n",
    "        # Customization parameters\n",
    "        cbar_height_ratio = 0.7  \n",
    "        cbar_width = 0.03      \n",
    "        cbar_padding = 0.1    \n",
    "\n",
    "        # The colorbars are positioned with respect to the center of the plot\n",
    "        ax_center_y = ax_pos.y0 + 0.5 * ax_pos.height\n",
    "        cbar_height = ax_pos.height * cbar_height_ratio\n",
    "        cbar_bottom = ax_center_y - 0.5 * cbar_height\n",
    "\n",
    "        left_cbar_x = ax_pos.x0 - cbar_width - cbar_padding\n",
    "        cax_left = fig.add_axes([left_cbar_x, cbar_bottom, cbar_width, cbar_height])\n",
    "\n",
    "        right_cbar_x = ax_pos.x1 + cbar_padding\n",
    "        cax_right = fig.add_axes([right_cbar_x, cbar_bottom, cbar_width, cbar_height])\n",
    "    else:\n",
    "        fig = ax.get_figure()\n",
    "        try:\n",
    "            cax_right = ax.cax2\n",
    "            cax_left = ax.cax1\n",
    "        except AttributeError:\n",
    "            divider = make_axes_locatable(ax)\n",
    "            cax_right = divider.append_axes(\"right\", size=\"5%\", pad=0.05)\n",
    "            cax_left = divider.append_axes(\"left\", size=\"5%\", pad=0.05)\n",
    "\n",
    "        \n",
    "    if isinstance(current_distribution, torch.Tensor):\n",
    "        current_distribution = current_distribution.detach().cpu().numpy()\n",
    "        \n",
    "    W, H = current_distribution.shape[-2:]\n",
    "    step_size = max(W, H) // num_arrows\n",
    "    \n",
    "    # Create averaged grid\n",
    "    x_centers = np.arange(step_size // 2, W, step_size)\n",
    "    y_centers = np.arange(step_size // 2, H, step_size)\n",
    "    \n",
    "    x_grid, y_grid = np.meshgrid(x_centers, y_centers, indexing='ij')\n",
    "    \n",
    "    # Initialize averaged fields\n",
    "    avg_u = np.zeros((len(x_centers), len(y_centers)))\n",
    "    avg_v = np.zeros((len(x_centers), len(y_centers)))\n",
    "    avg_m = np.zeros((len(x_centers), len(y_centers)))\n",
    "    \n",
    "    # Loop through and average\n",
    "    for i, x in enumerate(x_centers):\n",
    "        for j, y in enumerate(y_centers):\n",
    "            x_low, x_high = x - step_size // 2, x + step_size // 2 + 1\n",
    "            y_low, y_high = y - step_size // 2, y + step_size // 2 + 1\n",
    "            \n",
    "            avg_u[i, j] = np.mean(current_distribution[0, x_low:x_high, y_low:y_high])\n",
    "            avg_v[i, j] = np.mean(current_distribution[1, x_low:x_high, y_low:y_high])\n",
    "            avg_m[i, j] = np.sqrt(avg_v[i, j] ** 2 + avg_u[i, j] ** 2)\n",
    "    \n",
    "    magnitudes = np.hypot(current_distribution[0], current_distribution[1]).transpose(1, 0)\n",
    "    \n",
    "    im = ax.imshow(magnitudes, interpolation=interpolation, vmin=0, cmap=cmap, origin='lower')\n",
    "    \n",
    "    cbar = fig.colorbar(im, cax=cax_left, orientation='vertical')\n",
    "    cax_left.yaxis.set_ticks_position('left')\n",
    "    cax_left.yaxis.set_label_position('left')\n",
    "    if units:\n",
    "        cax_left.set_title(f\"Current field [{units}]\", fontsize=9, loc='center')\n",
    "        \n",
    "    if title:\n",
    "        if isinstance(title, str):\n",
    "            # Use .annotate() method to add the title text at the top of the figure\n",
    "            ax.annotate(title, xy=(0.5, 1.1), xycoords='axes fraction',\n",
    "                        xytext=(0, 0), textcoords='offset points',\n",
    "                        ha='center', va='baseline')\n",
    "    \n",
    "    # Compute scale of the arrow length. \n",
    "    # Scale gives number of data points per arrow length unit, \n",
    "    # e.g. A/mm^2 per plot width. We want the maximum arrow length to be 1/num_arrows of the plot width.\n",
    "    # How much data units per arrow length unit? \n",
    "    scale = 1.1 * avg_m.max() * num_arrows  # 1.1 to make the length of the longest arrow a bit shorter \n",
    "                                            # than the spacing between arrows blocks.  \n",
    "    \n",
    "    ax.quiver(\n",
    "        x_grid, y_grid, avg_u, avg_v, color=color,\n",
    "        pivot='mid', units='width', angles='uv',\n",
    "        scale=scale, scale_units='width',\n",
    "    )\n",
    "    \n",
    "    # --- Monopole Quivers ---\n",
    "    X = grid_centers[:, :, 0].flatten()\n",
    "    Y = grid_centers[:, :, 1].flatten()\n",
    "    U = grid_monopoles[:, :, 0].flatten()\n",
    "    V = grid_monopoles[:, :, 1].flatten()\n",
    "    W = grid_monopoles[:, :, 2].flatten()\n",
    "    magnitudes_mono = np.sqrt(U**2 + V**2 + W**2)\n",
    "\n",
    "    # To avoid overcrowding of the plot, the quivers for the monopoles direction have a length that is half the distance with the nearest \n",
    "    # element of the cell\n",
    "    dx = np.mean(np.diff(grid_centers[:, 0, 0]))  \n",
    "    dy = np.mean(np.diff(grid_centers[0, :, 1]))  \n",
    "\n",
    "    spacing = min(dx, dy)\n",
    "\n",
    "    # Normalize direction\n",
    "    norms_xy = np.sqrt(U**2 + V**2)\n",
    "    U_norm = np.divide(U, norms_xy, out=np.zeros_like(U), where=norms_xy != 0)\n",
    "    V_norm = np.divide(V, norms_xy, out=np.zeros_like(V), where=norms_xy != 0)\n",
    "\n",
    "    # Fixed arrow length\n",
    "    arrow_length = spacing * 0.5 # The value can be tweaked according to preference\n",
    "    U_fixed = U_norm * arrow_length\n",
    "    V_fixed = V_norm * arrow_length\n",
    "\n",
    "    # Plot arrows e\n",
    "    q = ax.quiver(\n",
    "        X, Y, U_fixed, V_fixed, magnitudes_mono,\n",
    "        cmap=monopole_cmap,\n",
    "        scale_units='xy',  \n",
    "        scale=1,          \n",
    "        width=0.004,\n",
    "        headlength=6,\n",
    "        headaxislength=5,\n",
    "        headwidth=4\n",
    ")\n",
    "\n",
    "    \n",
    "    cb2 = fig.colorbar(q, cax=cax_right, orientation='vertical')\n",
    "    if units_mono:\n",
    "        cax_right.set_title(f\"Monopole [{units}]\", fontsize=9, loc='center')\n",
    "\n",
    "    if zoom_in_region is not None:\n",
    "        x0, y0 = zoom_in_region[0]\n",
    "        x1, y1 = zoom_in_region[1]\n",
    "        axins = inset_axes(ax, width=\"30%\", height=\"30%\", loc='upper left')\n",
    "        axins.imshow(magnitudes[x0:x1, y0:y1], cmap=cmap, origin='lower')\n",
    "        \n",
    "        axins.set_xticks([])\n",
    "        axins.set_yticks([])\n",
    "        \n",
    "    ax.set_xlabel(\"x\")\n",
    "    ax.set_ylabel(\"y\")\n",
    "    ax.set_aspect('equal')\n",
    "    \n",
    "    if not show:\n",
    "        plt.close()\n",
    "        \n",
    "    return fig\n",
    "\n"
   ]
  },
  {
   "cell_type": "code",
   "execution_count": 257,
   "metadata": {},
   "outputs": [
    {
     "data": {
      "image/png": "[encoded data removed]",
      "text/plain": [
       "<Figure size 640x480 with 3 Axes>"
      ]
     },
     "execution_count": 257,
     "metadata": {},
     "output_type": "execute_result"
    }
   ],
   "source": [
    "plot_vector_field_2d_monopoles(GridSampler.pts_to_grid(current_density, 250, 250)[0:2, :, :].permute(0, 2, 1), grid_monopoles, grid_centers, color='white', units=r'A/mm$^2$', units_mono=r'A/mm$^2$', monopole_cmap='cool', cmap='inferno')"
   ]
  },
  {
   "cell_type": "markdown",
   "metadata": {},
   "source": [
    "# -"
   ]
  },
  {
   "cell_type": "code",
   "execution_count": 35,
   "metadata": {},
   "outputs": [
    {
     "data": {
      "text/plain": [
       "array([42642.41480104,     0.        ,     0.        ])"
      ]
     },
     "execution_count": 35,
     "metadata": {},
     "output_type": "execute_result"
    }
   ],
   "source": [
    "get_multipole_expansion_from_current_density(current_density, pts, volume_element=1, order=0)"
   ]
  },
  {
   "cell_type": "code",
   "execution_count": 36,
   "metadata": {},
   "outputs": [
    {
     "data": {
      "text/plain": [
       "array([       0.        ,        0.        , -2675811.52876557])"
      ]
     },
     "execution_count": 36,
     "metadata": {},
     "output_type": "execute_result"
    }
   ],
   "source": [
    "get_multipole_expansion_from_current_density(current_density, pts, volume_element=1, order=1)"
   ]
  },
  {
   "cell_type": "code",
   "execution_count": 37,
   "metadata": {},
   "outputs": [
    {
     "ename": "ValueError",
     "evalue": "Number of points must be one more than number of segments, got `pts` with length 10000 and `currents` with length 100",
     "output_type": "error",
     "traceback": [
      "\u001b[0;31m---------------------------------------------------------------------------\u001b[0m",
      "\u001b[0;31mValueError\u001b[0m                                Traceback (most recent call last)",
      "Cell \u001b[0;32mIn[37], line 10\u001b[0m\n\u001b[1;32m      7\u001b[0m r0 \u001b[38;5;241m=\u001b[39m np\u001b[38;5;241m.\u001b[39marray([\u001b[38;5;241m0\u001b[39m, \u001b[38;5;241m0\u001b[39m, \u001b[38;5;241m0\u001b[39m])\n\u001b[1;32m      9\u001b[0m order \u001b[38;5;241m=\u001b[39m \u001b[38;5;241m1\u001b[39m\n\u001b[0;32m---> 10\u001b[0m result \u001b[38;5;241m=\u001b[39m \u001b[43mget_multipole_expansion_from_line_currents\u001b[49m\u001b[43m(\u001b[49m\u001b[43mcurrents\u001b[49m\u001b[43m,\u001b[49m\u001b[43m \u001b[49m\u001b[43mpts\u001b[49m\u001b[43m,\u001b[49m\u001b[43m \u001b[49m\u001b[43morder\u001b[49m\u001b[43m,\u001b[49m\u001b[43m \u001b[49m\u001b[43mr0\u001b[49m\u001b[38;5;241;43m=\u001b[39;49m\u001b[43mnp\u001b[49m\u001b[38;5;241;43m.\u001b[39;49m\u001b[43marray\u001b[49m\u001b[43m(\u001b[49m\u001b[43m[\u001b[49m\u001b[38;5;241;43m0\u001b[39;49m\u001b[43m,\u001b[49m\u001b[43m \u001b[49m\u001b[38;5;241;43m0\u001b[39;49m\u001b[43m,\u001b[49m\u001b[43m \u001b[49m\u001b[38;5;241;43m0\u001b[39;49m\u001b[43m]\u001b[49m\u001b[43m)\u001b[49m\u001b[43m)\u001b[49m\n\u001b[1;32m     11\u001b[0m \u001b[38;5;28mprint\u001b[39m(result)\n",
      "File \u001b[0;32m~/Desktop/Università/Master's Thesis/Python/currio/currio/utils.py:133\u001b[0m, in \u001b[0;36mget_multipole_expansion_from_line_currents\u001b[0;34m(currents, pts, order, r0)\u001b[0m\n\u001b[1;32m    130\u001b[0m nsegs \u001b[38;5;241m=\u001b[39m \u001b[38;5;28mlen\u001b[39m(currents)\n\u001b[1;32m    132\u001b[0m \u001b[38;5;28;01mif\u001b[39;00m npts \u001b[38;5;241m-\u001b[39m \u001b[38;5;241m1\u001b[39m \u001b[38;5;241m!=\u001b[39m nsegs:\n\u001b[0;32m--> 133\u001b[0m     \u001b[38;5;28;01mraise\u001b[39;00m \u001b[38;5;167;01mValueError\u001b[39;00m(\u001b[38;5;124m\"\u001b[39m\u001b[38;5;124mNumber of points must be one more than number of segments, \u001b[39m\u001b[38;5;124m\"\u001b[39m\n\u001b[1;32m    134\u001b[0m                     \u001b[38;5;124m\"\u001b[39m\u001b[38;5;124mgot `pts` with length \u001b[39m\u001b[38;5;132;01m{}\u001b[39;00m\u001b[38;5;124m and `currents` with length \u001b[39m\u001b[38;5;132;01m{}\u001b[39;00m\u001b[38;5;124m\"\u001b[39m\u001b[38;5;241m.\u001b[39mformat(npts, nsegs))\n\u001b[1;32m    136\u001b[0m \u001b[38;5;28;01mif\u001b[39;00m order \u001b[38;5;241m==\u001b[39m \u001b[38;5;241m0\u001b[39m:\n\u001b[1;32m    137\u001b[0m \u001b[38;5;250m    \u001b[39m\u001b[38;5;124;03m\"\"\"Compute monopole expansion, i.e. the vector sum of all the currents.\"\"\"\u001b[39;00m\n",
      "\u001b[0;31mValueError\u001b[0m: Number of points must be one more than number of segments, got `pts` with length 10000 and `currents` with length 100"
     ]
    }
   ],
   "source": [
    "# Get dipole moment of a current wire\n",
    "N = 100\n",
    "currents = np.stack([np.ones(N), np.zeros(N), np.zeros(N)], axis=1)\n",
    "xs, ys = np.meshgrid(np.linspace(0, 1, N), np.linspace(0, 1, N))\n",
    "pts = np.stack([xs, ys, np.zeros_like(xs)], axis=2)\n",
    "pts = pts.reshape(-1, 3)\n",
    "r0 = np.array([0, 0, 0])\n",
    "\n",
    "order = 1\n",
    "result = get_multipole_expansion_from_line_currents(currents, pts, order, r0=np.array([0, 0, 0]))\n",
    "print(result)"
   ]
  },
  {
   "cell_type": "code",
   "execution_count": null,
   "metadata": {},
   "outputs": [
    {
     "data": {
      "text/plain": [
       "(100, 3)"
      ]
     },
     "execution_count": 29,
     "metadata": {},
     "output_type": "execute_result"
    }
   ],
   "source": [
    "currents.shape"
   ]
  },
  {
   "cell_type": "code",
   "execution_count": 32,
   "metadata": {},
   "outputs": [
    {
     "data": {
      "image/png": "[encoded data removed]",
      "text/plain": [
       "<Figure size 640x480 with 2 Axes>"
      ]
     },
     "execution_count": 32,
     "metadata": {},
     "output_type": "execute_result"
    }
   ],
   "source": [
    "plot_vector_field_2d(GridSampler.pts_to_grid(current_density, 250, 250)[0:2, :, :].permute(0, 2, 1), color='white', units=r'A/mm$^2$')"
   ]
  },
  {
   "cell_type": "code",
   "execution_count": 8,
   "metadata": {},
   "outputs": [
    {
     "data": {
      "application/vnd.plotly.v1+json": {
       "config": {
        "plotlyServerURL": "https://plot.ly"
       },
       "data": [
        {
         "legendgroup": "Circle(id=13470365456)",
         "line": {
          "color": "#2e91e5",
          "dash": "solid",
          "width": 2.2
         },
         "mode": "lines",
         "name": "Circle (1A)",
         "opacity": 1,
         "showlegend": true,
         "type": "scatter3d",
         "x": {
          "bdata": "7FG4HoXr4b8AAAAAAADgvylcj8L1KNy/",
          "dtype": "f8"
         },
         "y": {
          "bdata": "n5mZmZmZuT8HXBQzJqaRPJ6ZmZmZmbk/",
          "dtype": "f8"
         },
         "z": {
          "bdata": "AAAAAAAAAAAAAAAAAAAAAAAAAAAAAAAA",
          "dtype": "f8"
         }
        },
        {
         "legendgroup": "Circle(id=13470365456)",
         "line": {
          "color": "#2e91e5",
          "dash": "solid",
          "width": 4.4
         },
         "mode": "lines",
         "name": "Circle (1A)",
         "opacity": 1,
         "showlegend": false,
         "type": "scatter3d",
         "x": {
          "bdata": "AAAAAAAA4D8OO5l48d/fP7q4jxwGgN8/gza1Gf7g3j/8PHgQGATeP/btgZUO69w/w876uhSY2z9CKmeo0Q3aP0lS70lbT9g/mgO6ITBg1j+k1LtHMETUP7lrAqaV/9E/T+YTAtctzz9qoSe6Ch7KP91ueKXq2cQ/6sG4mAfYvj8DskPVbb6zP8Pg3JCK+qA/ZmleIyynhr9Gvfvnx0Ksv7gA3MaSUbm/W4tEu4Mnwr+KRm+P3oHHv4ui6U0grcy/8nrP4HbP0L9mDB5prybTv2l7ry6JV9W/YtivgKBd179aVgZa5zTZv00RDoGt2dq/EcFi66dI3L80CfNW937dv8pDIAsuet6/k01ktlQ4378Anb1e7rffvxI4/Vz799+/Ejj9XPv3378Anb1e7rffv5RNZLZUON+/y0MgCy563r82CfNW937dvxLBYuunSNy/ThEOga3Z2r9bVgZa5zTZv2PYr4CgXde/a3uvLolX1b9nDB5prybTv/R6z+B2z9C/iKLpTSCtzL+KRm+P3oHHv1+LRLuDJ8K/0ADcxpJRub9Ivfvnx0Ksv6xpXiMsp4a/ouDckIr6oD/qsUPVbb6zP+nBuJgH2L4/2W54perZxD9ioSe6Ch7KP1LmEwLXLc8/uGsCppX/0T+h1LtHMETUP5UDuiEwYNY/SVLvSVtP2D9BKmeo0Q3aP8HO+roUmNs/9+2BlQ7r3D/8PHgQGATeP4I2tRn+4N4/ubiPHAaA3z8OO5l48d/fPwAAAAAAAOA/",
          "dtype": "f8"
         },
         "y": {
          "bdata": "AAAAAAAAAABR1twaFKCmP2kv/cBpibY/XKEKFdHKwD+Ng9pnSC/GP2zkvQRNZ8s/1mOmEjU00D9HhPmBTJTSP1QkS3kqz9Q/w2RLNlfg1j9M7/p+rsPYPz+04e1nddo/mTZJhh7y2z/5D0uB1zbdP41iE0YIQd4/QkhhgZsO3z+1nhFS9Z3fPw9QV4L27d8/x7orx/793z8QTXYB7s3fPwLhZ34kXt8/aOiINoKv3j8H+/wMZcPdP7TXfhKmm9w/4VyR0ZU62z86c1Cr96LZP5N+LE7819c/UuWnUTvd1T/UAOUDrLbTP17kb3edaNE/iztfwlvvzT8+yZWvgtHIP+upEw7wgcM/CWJbq48WvD/PPciZ+PCwP8QAKNPApZY/oQAo08Cllr/HPciZ+PCwvwBiW6uPFry/56kTDvCBw78yyZWvgtHIv4c7X8Jb782/XORvd51o0b/SAOUDrLbTv1Dlp1E73dW/kn4sTvzX1784c1Cr96LZv99ckdGVOtu/tdd+Eqab3L8H+/wMZcPdv2joiDaCr96/AeFnfiRe378QTXYB7s3fv8e6K8f+/d+/D1BXgvbt37+2nhFS9Z3fv0JIYYGbDt+/jmITRghB3r/7D0uB1zbdv5g2SYYe8tu/QLTh7Wd12r9O7/p+rsPYv8hkSzZX4Na/VCRLeSrP1L9JhPmBTJTSv9pjphI1NNC/a+S9BE1ny7+Qg9pnSC/Gv2KhChXRysC/fy/9wGmJtr9Q1twaFKCmvwdcFDMmpqG8",
          "dtype": "f8"
         },
         "z": {
          "bdata": "AAAAAAAAAAAAAAAAAAAAAAAAAAAAAAAAAAAAAAAAAAAAAAAAAAAAAAAAAAAAAAAAAAAAAAAAAAAAAAAAAAAAAAAAAAAAAAAAAAAAAAAAAAAAAAAAAAAAAAAAAAAAAAAAAAAAAAAAAAAAAAAAAAAAAAAAAAAAAAAAAAAAAAAAAAAAAAAAAAAAAAAAAAAAAAAAAAAAAAAAAAAAAAAAAAAAAAAAAAAAAAAAAAAAAAAAAAAAAAAAAAAAAAAAAAAAAAAAAAAAAAAAAAAAAAAAAAAAAAAAAAAAAAAAAAAAAAAAAAAAAAAAAAAAAAAAAAAAAAAAAAAAAAAAAAAAAAAAAAAAAAAAAAAAAAAAAAAAAAAAAAAAAAAAAAAAAAAAAAAAAAAAAAAAAAAAAAAAAAAAAAAAAAAAAAAAAAAAAAAAAAAAAAAAAAAAAAAAAAAAAAAAAAAAAAAAAAAAAAAAAAAAAAAAAAAAAAAAAAAAAAAAAAAAAAAAAAAAAAAAAAAAAAAAAAAAAAAAAAAAAAAAAAAAAAAAAAAAAAAAAAAAAAAAAAAAAAAAAAAAAAAAAAAAAAAAAAAAAAAAAAAAAAAAAAAAAAAAAAAAAAAAAAAAAAAAAAAAAAAAAAAAAAAAAAAAAAAAAAAAAAAAAAAAAAAAAAAAAAAAAAAAAAAAAAAAAAAAAAAAAAAAAAAAAAAAAAAAAAAAAAAAAAAAAAAAAAAAAAAAAAAAAAAAAAAAAAAAAAAAAAAAAAAAAAAAAAAAAAAAAAAAAAAA",
          "dtype": "f8"
         }
        }
       ],
       "layout": {
        "legend": {
         "itemsizing": "constant"
        },
        "scene": {
         "aspectmode": "manual",
         "aspectratio": {
          "x": 1,
          "y": 1,
          "z": 1
         },
         "camera": {
          "eye": {
           "x": 1,
           "y": -1.5,
           "z": 1.4
          }
         },
         "xaxis": {
          "autorange": false,
          "range": [
           -0.56,
           0.5
          ],
          "title": {
           "text": "x (m)"
          }
         },
         "yaxis": {
          "autorange": false,
          "range": [
           -0.53,
           0.53
          ],
          "title": {
           "text": "y (m)"
          }
         },
         "zaxis": {
          "autorange": false,
          "range": [
           -0.53,
           0.53
          ],
          "title": {
           "text": "z (m)"
          }
         }
        },
        "template": {
         "data": {
          "bar": [
           {
            "error_x": {
             "color": "#2a3f5f"
            },
            "error_y": {
             "color": "#2a3f5f"
            },
            "marker": {
             "line": {
              "color": "#E5ECF6",
              "width": 0.5
             },
             "pattern": {
              "fillmode": "overlay",
              "size": 10,
              "solidity": 0.2
             }
            },
            "type": "bar"
           }
          ],
          "barpolar": [
           {
            "marker": {
             "line": {
              "color": "#E5ECF6",
              "width": 0.5
             },
             "pattern": {
              "fillmode": "overlay",
              "size": 10,
              "solidity": 0.2
             }
            },
            "type": "barpolar"
           }
          ],
          "carpet": [
           {
            "aaxis": {
             "endlinecolor": "#2a3f5f",
             "gridcolor": "white",
             "linecolor": "white",
             "minorgridcolor": "white",
             "startlinecolor": "#2a3f5f"
            },
            "baxis": {
             "endlinecolor": "#2a3f5f",
             "gridcolor": "white",
             "linecolor": "white",
             "minorgridcolor": "white",
             "startlinecolor": "#2a3f5f"
            },
            "type": "carpet"
           }
          ],
          "choropleth": [
           {
            "colorbar": {
             "outlinewidth": 0,
             "ticks": ""
            },
            "type": "choropleth"
           }
          ],
          "contour": [
           {
            "colorbar": {
             "outlinewidth": 0,
             "ticks": ""
            },
            "colorscale": [
             [
              0,
              "#0d0887"
             ],
             [
              0.1111111111111111,
              "#46039f"
             ],
             [
              0.2222222222222222,
              "#7201a8"
             ],
             [
              0.3333333333333333,
              "#9c179e"
             ],
             [
              0.4444444444444444,
              "#bd3786"
             ],
             [
              0.5555555555555556,
              "#d8576b"
             ],
             [
              0.6666666666666666,
              "#ed7953"
             ],
             [
              0.7777777777777778,
              "#fb9f3a"
             ],
             [
              0.8888888888888888,
              "#fdca26"
             ],
             [
              1,
              "#f0f921"
             ]
            ],
            "type": "contour"
           }
          ],
          "contourcarpet": [
           {
            "colorbar": {
             "outlinewidth": 0,
             "ticks": ""
            },
            "type": "contourcarpet"
           }
          ],
          "heatmap": [
           {
            "colorbar": {
             "outlinewidth": 0,
             "ticks": ""
            },
            "colorscale": [
             [
              0,
              "#0d0887"
             ],
             [
              0.1111111111111111,
              "#46039f"
             ],
             [
              0.2222222222222222,
              "#7201a8"
             ],
             [
              0.3333333333333333,
              "#9c179e"
             ],
             [
              0.4444444444444444,
              "#bd3786"
             ],
             [
              0.5555555555555556,
              "#d8576b"
             ],
             [
              0.6666666666666666,
              "#ed7953"
             ],
             [
              0.7777777777777778,
              "#fb9f3a"
             ],
             [
              0.8888888888888888,
              "#fdca26"
             ],
             [
              1,
              "#f0f921"
             ]
            ],
            "type": "heatmap"
           }
          ],
          "histogram": [
           {
            "marker": {
             "pattern": {
              "fillmode": "overlay",
              "size": 10,
              "solidity": 0.2
             }
            },
            "type": "histogram"
           }
          ],
          "histogram2d": [
           {
            "colorbar": {
             "outlinewidth": 0,
             "ticks": ""
            },
            "colorscale": [
             [
              0,
              "#0d0887"
             ],
             [
              0.1111111111111111,
              "#46039f"
             ],
             [
              0.2222222222222222,
              "#7201a8"
             ],
             [
              0.3333333333333333,
              "#9c179e"
             ],
             [
              0.4444444444444444,
              "#bd3786"
             ],
             [
              0.5555555555555556,
              "#d8576b"
             ],
             [
              0.6666666666666666,
              "#ed7953"
             ],
             [
              0.7777777777777778,
              "#fb9f3a"
             ],
             [
              0.8888888888888888,
              "#fdca26"
             ],
             [
              1,
              "#f0f921"
             ]
            ],
            "type": "histogram2d"
           }
          ],
          "histogram2dcontour": [
           {
            "colorbar": {
             "outlinewidth": 0,
             "ticks": ""
            },
            "colorscale": [
             [
              0,
              "#0d0887"
             ],
             [
              0.1111111111111111,
              "#46039f"
             ],
             [
              0.2222222222222222,
              "#7201a8"
             ],
             [
              0.3333333333333333,
              "#9c179e"
             ],
             [
              0.4444444444444444,
              "#bd3786"
             ],
             [
              0.5555555555555556,
              "#d8576b"
             ],
             [
              0.6666666666666666,
              "#ed7953"
             ],
             [
              0.7777777777777778,
              "#fb9f3a"
             ],
             [
              0.8888888888888888,
              "#fdca26"
             ],
             [
              1,
              "#f0f921"
             ]
            ],
            "type": "histogram2dcontour"
           }
          ],
          "mesh3d": [
           {
            "colorbar": {
             "outlinewidth": 0,
             "ticks": ""
            },
            "type": "mesh3d"
           }
          ],
          "parcoords": [
           {
            "line": {
             "colorbar": {
              "outlinewidth": 0,
              "ticks": ""
             }
            },
            "type": "parcoords"
           }
          ],
          "pie": [
           {
            "automargin": true,
            "type": "pie"
           }
          ],
          "scatter": [
           {
            "fillpattern": {
             "fillmode": "overlay",
             "size": 10,
             "solidity": 0.2
            },
            "type": "scatter"
           }
          ],
          "scatter3d": [
           {
            "line": {
             "colorbar": {
              "outlinewidth": 0,
              "ticks": ""
             }
            },
            "marker": {
             "colorbar": {
              "outlinewidth": 0,
              "ticks": ""
             }
            },
            "type": "scatter3d"
           }
          ],
          "scattercarpet": [
           {
            "marker": {
             "colorbar": {
              "outlinewidth": 0,
              "ticks": ""
             }
            },
            "type": "scattercarpet"
           }
          ],
          "scattergeo": [
           {
            "marker": {
             "colorbar": {
              "outlinewidth": 0,
              "ticks": ""
             }
            },
            "type": "scattergeo"
           }
          ],
          "scattergl": [
           {
            "marker": {
             "colorbar": {
              "outlinewidth": 0,
              "ticks": ""
             }
            },
            "type": "scattergl"
           }
          ],
          "scattermap": [
           {
            "marker": {
             "colorbar": {
              "outlinewidth": 0,
              "ticks": ""
             }
            },
            "type": "scattermap"
           }
          ],
          "scattermapbox": [
           {
            "marker": {
             "colorbar": {
              "outlinewidth": 0,
              "ticks": ""
             }
            },
            "type": "scattermapbox"
           }
          ],
          "scatterpolar": [
           {
            "marker": {
             "colorbar": {
              "outlinewidth": 0,
              "ticks": ""
             }
            },
            "type": "scatterpolar"
           }
          ],
          "scatterpolargl": [
           {
            "marker": {
             "colorbar": {
              "outlinewidth": 0,
              "ticks": ""
             }
            },
            "type": "scatterpolargl"
           }
          ],
          "scatterternary": [
           {
            "marker": {
             "colorbar": {
              "outlinewidth": 0,
              "ticks": ""
             }
            },
            "type": "scatterternary"
           }
          ],
          "surface": [
           {
            "colorbar": {
             "outlinewidth": 0,
             "ticks": ""
            },
            "colorscale": [
             [
              0,
              "#0d0887"
             ],
             [
              0.1111111111111111,
              "#46039f"
             ],
             [
              0.2222222222222222,
              "#7201a8"
             ],
             [
              0.3333333333333333,
              "#9c179e"
             ],
             [
              0.4444444444444444,
              "#bd3786"
             ],
             [
              0.5555555555555556,
              "#d8576b"
             ],
             [
              0.6666666666666666,
              "#ed7953"
             ],
             [
              0.7777777777777778,
              "#fb9f3a"
             ],
             [
              0.8888888888888888,
              "#fdca26"
             ],
             [
              1,
              "#f0f921"
             ]
            ],
            "type": "surface"
           }
          ],
          "table": [
           {
            "cells": {
             "fill": {
              "color": "#EBF0F8"
             },
             "line": {
              "color": "white"
             }
            },
            "header": {
             "fill": {
              "color": "#C8D4E3"
             },
             "line": {
              "color": "white"
             }
            },
            "type": "table"
           }
          ]
         },
         "layout": {
          "annotationdefaults": {
           "arrowcolor": "#2a3f5f",
           "arrowhead": 0,
           "arrowwidth": 1
          },
          "autotypenumbers": "strict",
          "coloraxis": {
           "colorbar": {
            "outlinewidth": 0,
            "ticks": ""
           }
          },
          "colorscale": {
           "diverging": [
            [
             0,
             "#8e0152"
            ],
            [
             0.1,
             "#c51b7d"
            ],
            [
             0.2,
             "#de77ae"
            ],
            [
             0.3,
             "#f1b6da"
            ],
            [
             0.4,
             "#fde0ef"
            ],
            [
             0.5,
             "#f7f7f7"
            ],
            [
             0.6,
             "#e6f5d0"
            ],
            [
             0.7,
             "#b8e186"
            ],
            [
             0.8,
             "#7fbc41"
            ],
            [
             0.9,
             "#4d9221"
            ],
            [
             1,
             "#276419"
            ]
           ],
           "sequential": [
            [
             0,
             "#0d0887"
            ],
            [
             0.1111111111111111,
             "#46039f"
            ],
            [
             0.2222222222222222,
             "#7201a8"
            ],
            [
             0.3333333333333333,
             "#9c179e"
            ],
            [
             0.4444444444444444,
             "#bd3786"
            ],
            [
             0.5555555555555556,
             "#d8576b"
            ],
            [
             0.6666666666666666,
             "#ed7953"
            ],
            [
             0.7777777777777778,
             "#fb9f3a"
            ],
            [
             0.8888888888888888,
             "#fdca26"
            ],
            [
             1,
             "#f0f921"
            ]
           ],
           "sequentialminus": [
            [
             0,
             "#0d0887"
            ],
            [
             0.1111111111111111,
             "#46039f"
            ],
            [
             0.2222222222222222,
             "#7201a8"
            ],
            [
             0.3333333333333333,
             "#9c179e"
            ],
            [
             0.4444444444444444,
             "#bd3786"
            ],
            [
             0.5555555555555556,
             "#d8576b"
            ],
            [
             0.6666666666666666,
             "#ed7953"
            ],
            [
             0.7777777777777778,
             "#fb9f3a"
            ],
            [
             0.8888888888888888,
             "#fdca26"
            ],
            [
             1,
             "#f0f921"
            ]
           ]
          },
          "colorway": [
           "#636efa",
           "#EF553B",
           "#00cc96",
           "#ab63fa",
           "#FFA15A",
           "#19d3f3",
           "#FF6692",
           "#B6E880",
           "#FF97FF",
           "#FECB52"
          ],
          "font": {
           "color": "#2a3f5f"
          },
          "geo": {
           "bgcolor": "white",
           "lakecolor": "white",
           "landcolor": "#E5ECF6",
           "showlakes": true,
           "showland": true,
           "subunitcolor": "white"
          },
          "hoverlabel": {
           "align": "left"
          },
          "hovermode": "closest",
          "mapbox": {
           "style": "light"
          },
          "paper_bgcolor": "white",
          "plot_bgcolor": "#E5ECF6",
          "polar": {
           "angularaxis": {
            "gridcolor": "white",
            "linecolor": "white",
            "ticks": ""
           },
           "bgcolor": "#E5ECF6",
           "radialaxis": {
            "gridcolor": "white",
            "linecolor": "white",
            "ticks": ""
           }
          },
          "scene": {
           "xaxis": {
            "backgroundcolor": "#E5ECF6",
            "gridcolor": "white",
            "gridwidth": 2,
            "linecolor": "white",
            "showbackground": true,
            "ticks": "",
            "zerolinecolor": "white"
           },
           "yaxis": {
            "backgroundcolor": "#E5ECF6",
            "gridcolor": "white",
            "gridwidth": 2,
            "linecolor": "white",
            "showbackground": true,
            "ticks": "",
            "zerolinecolor": "white"
           },
           "zaxis": {
            "backgroundcolor": "#E5ECF6",
            "gridcolor": "white",
            "gridwidth": 2,
            "linecolor": "white",
            "showbackground": true,
            "ticks": "",
            "zerolinecolor": "white"
           }
          },
          "shapedefaults": {
           "line": {
            "color": "#2a3f5f"
           }
          },
          "ternary": {
           "aaxis": {
            "gridcolor": "white",
            "linecolor": "white",
            "ticks": ""
           },
           "baxis": {
            "gridcolor": "white",
            "linecolor": "white",
            "ticks": ""
           },
           "bgcolor": "#E5ECF6",
           "caxis": {
            "gridcolor": "white",
            "linecolor": "white",
            "ticks": ""
           }
          },
          "title": {
           "x": 0.05
          },
          "xaxis": {
           "automargin": true,
           "gridcolor": "white",
           "linecolor": "white",
           "ticks": "",
           "title": {
            "standoff": 15
           },
           "zerolinecolor": "white",
           "zerolinewidth": 2
          },
          "yaxis": {
           "automargin": true,
           "gridcolor": "white",
           "linecolor": "white",
           "ticks": "",
           "title": {
            "standoff": 15
           },
           "zerolinecolor": "white",
           "zerolinewidth": 2
          }
         }
        }
       }
      }
     },
     "metadata": {},
     "output_type": "display_data"
    }
   ],
   "source": [
    "loop = magpy.current.Circle(current=1, diameter=1)\n",
    "\n",
    "loop.show()"
   ]
  },
  {
   "cell_type": "code",
   "execution_count": 7,
   "metadata": {},
   "outputs": [
    {
     "data": {
      "application/vnd.plotly.v1+json": {
       "config": {
        "plotlyServerURL": "https://plot.ly"
       },
       "data": [
        {
         "legendgroup": "Circle(id=13415888720)",
         "line": {
          "color": "#2e91e5",
          "dash": "solid",
          "width": 2.2
         },
         "mode": "lines",
         "name": "Circle (1A)",
         "opacity": 1,
         "showlegend": true,
         "type": "scatter3d",
         "x": {
          "bdata": "7FG4HoXr4b8AAAAAAADgvylcj8L1KNy/",
          "dtype": "f8"
         },
         "y": {
          "bdata": "n5mZmZmZuT8HXBQzJqaRPJ6ZmZmZmbk/",
          "dtype": "f8"
         },
         "z": {
          "bdata": "AAAAAAAAAAAAAAAAAAAAAAAAAAAAAAAA",
          "dtype": "f8"
         }
        },
        {
         "legendgroup": "Circle(id=13415888720)",
         "line": {
          "color": "#2e91e5",
          "dash": "solid",
          "width": 4.4
         },
         "mode": "lines",
         "name": "Circle (1A)",
         "opacity": 1,
         "showlegend": false,
         "type": "scatter3d",
         "x": {
          "bdata": "AAAAAAAA4D8OO5l48d/fP7q4jxwGgN8/gza1Gf7g3j/8PHgQGATeP/btgZUO69w/w876uhSY2z9CKmeo0Q3aP0lS70lbT9g/mgO6ITBg1j+k1LtHMETUP7lrAqaV/9E/T+YTAtctzz9qoSe6Ch7KP91ueKXq2cQ/6sG4mAfYvj8DskPVbb6zP8Pg3JCK+qA/ZmleIyynhr9Gvfvnx0Ksv7gA3MaSUbm/W4tEu4Mnwr+KRm+P3oHHv4ui6U0grcy/8nrP4HbP0L9mDB5prybTv2l7ry6JV9W/YtivgKBd179aVgZa5zTZv00RDoGt2dq/EcFi66dI3L80CfNW937dv8pDIAsuet6/k01ktlQ4378Anb1e7rffvxI4/Vz799+/Ejj9XPv3378Anb1e7rffv5RNZLZUON+/y0MgCy563r82CfNW937dvxLBYuunSNy/ThEOga3Z2r9bVgZa5zTZv2PYr4CgXde/a3uvLolX1b9nDB5prybTv/R6z+B2z9C/iKLpTSCtzL+KRm+P3oHHv1+LRLuDJ8K/0ADcxpJRub9Ivfvnx0Ksv6xpXiMsp4a/ouDckIr6oD/qsUPVbb6zP+nBuJgH2L4/2W54perZxD9ioSe6Ch7KP1LmEwLXLc8/uGsCppX/0T+h1LtHMETUP5UDuiEwYNY/SVLvSVtP2D9BKmeo0Q3aP8HO+roUmNs/9+2BlQ7r3D/8PHgQGATeP4I2tRn+4N4/ubiPHAaA3z8OO5l48d/fPwAAAAAAAOA/",
          "dtype": "f8"
         },
         "y": {
          "bdata": "AAAAAAAAAABR1twaFKCmP2kv/cBpibY/XKEKFdHKwD+Ng9pnSC/GP2zkvQRNZ8s/1mOmEjU00D9HhPmBTJTSP1QkS3kqz9Q/w2RLNlfg1j9M7/p+rsPYPz+04e1nddo/mTZJhh7y2z/5D0uB1zbdP41iE0YIQd4/QkhhgZsO3z+1nhFS9Z3fPw9QV4L27d8/x7orx/793z8QTXYB7s3fPwLhZ34kXt8/aOiINoKv3j8H+/wMZcPdP7TXfhKmm9w/4VyR0ZU62z86c1Cr96LZP5N+LE7819c/UuWnUTvd1T/UAOUDrLbTP17kb3edaNE/iztfwlvvzT8+yZWvgtHIP+upEw7wgcM/CWJbq48WvD/PPciZ+PCwP8QAKNPApZY/oQAo08Cllr/HPciZ+PCwvwBiW6uPFry/56kTDvCBw78yyZWvgtHIv4c7X8Jb782/XORvd51o0b/SAOUDrLbTv1Dlp1E73dW/kn4sTvzX1784c1Cr96LZv99ckdGVOtu/tdd+Eqab3L8H+/wMZcPdv2joiDaCr96/AeFnfiRe378QTXYB7s3fv8e6K8f+/d+/D1BXgvbt37+2nhFS9Z3fv0JIYYGbDt+/jmITRghB3r/7D0uB1zbdv5g2SYYe8tu/QLTh7Wd12r9O7/p+rsPYv8hkSzZX4Na/VCRLeSrP1L9JhPmBTJTSv9pjphI1NNC/a+S9BE1ny7+Qg9pnSC/Gv2KhChXRysC/fy/9wGmJtr9Q1twaFKCmvwdcFDMmpqG8",
          "dtype": "f8"
         },
         "z": {
          "bdata": "AAAAAAAAAAAAAAAAAAAAAAAAAAAAAAAAAAAAAAAAAAAAAAAAAAAAAAAAAAAAAAAAAAAAAAAAAAAAAAAAAAAAAAAAAAAAAAAAAAAAAAAAAAAAAAAAAAAAAAAAAAAAAAAAAAAAAAAAAAAAAAAAAAAAAAAAAAAAAAAAAAAAAAAAAAAAAAAAAAAAAAAAAAAAAAAAAAAAAAAAAAAAAAAAAAAAAAAAAAAAAAAAAAAAAAAAAAAAAAAAAAAAAAAAAAAAAAAAAAAAAAAAAAAAAAAAAAAAAAAAAAAAAAAAAAAAAAAAAAAAAAAAAAAAAAAAAAAAAAAAAAAAAAAAAAAAAAAAAAAAAAAAAAAAAAAAAAAAAAAAAAAAAAAAAAAAAAAAAAAAAAAAAAAAAAAAAAAAAAAAAAAAAAAAAAAAAAAAAAAAAAAAAAAAAAAAAAAAAAAAAAAAAAAAAAAAAAAAAAAAAAAAAAAAAAAAAAAAAAAAAAAAAAAAAAAAAAAAAAAAAAAAAAAAAAAAAAAAAAAAAAAAAAAAAAAAAAAAAAAAAAAAAAAAAAAAAAAAAAAAAAAAAAAAAAAAAAAAAAAAAAAAAAAAAAAAAAAAAAAAAAAAAAAAAAAAAAAAAAAAAAAAAAAAAAAAAAAAAAAAAAAAAAAAAAAAAAAAAAAAAAAAAAAAAAAAAAAAAAAAAAAAAAAAAAAAAAAAAAAAAAAAAAAAAAAAAAAAAAAAAAAAAAAAAAAAAAAAAAAAAAAAAAAAAAAAAAAAAAAAAAAAAAAA",
          "dtype": "f8"
         }
        }
       ],
       "layout": {
        "legend": {
         "itemsizing": "constant"
        },
        "scene": {
         "aspectmode": "manual",
         "aspectratio": {
          "x": 1,
          "y": 1,
          "z": 1
         },
         "camera": {
          "eye": {
           "x": 1,
           "y": -1.5,
           "z": 1.4
          }
         },
         "xaxis": {
          "autorange": false,
          "range": [
           -0.56,
           0.5
          ],
          "title": {
           "text": "x (m)"
          }
         },
         "yaxis": {
          "autorange": false,
          "range": [
           -0.53,
           0.53
          ],
          "title": {
           "text": "y (m)"
          }
         },
         "zaxis": {
          "autorange": false,
          "range": [
           -0.53,
           0.53
          ],
          "title": {
           "text": "z (m)"
          }
         }
        },
        "template": {
         "data": {
          "bar": [
           {
            "error_x": {
             "color": "#2a3f5f"
            },
            "error_y": {
             "color": "#2a3f5f"
            },
            "marker": {
             "line": {
              "color": "#E5ECF6",
              "width": 0.5
             },
             "pattern": {
              "fillmode": "overlay",
              "size": 10,
              "solidity": 0.2
             }
            },
            "type": "bar"
           }
          ],
          "barpolar": [
           {
            "marker": {
             "line": {
              "color": "#E5ECF6",
              "width": 0.5
             },
             "pattern": {
              "fillmode": "overlay",
              "size": 10,
              "solidity": 0.2
             }
            },
            "type": "barpolar"
           }
          ],
          "carpet": [
           {
            "aaxis": {
             "endlinecolor": "#2a3f5f",
             "gridcolor": "white",
             "linecolor": "white",
             "minorgridcolor": "white",
             "startlinecolor": "#2a3f5f"
            },
            "baxis": {
             "endlinecolor": "#2a3f5f",
             "gridcolor": "white",
             "linecolor": "white",
             "minorgridcolor": "white",
             "startlinecolor": "#2a3f5f"
            },
            "type": "carpet"
           }
          ],
          "choropleth": [
           {
            "colorbar": {
             "outlinewidth": 0,
             "ticks": ""
            },
            "type": "choropleth"
           }
          ],
          "contour": [
           {
            "colorbar": {
             "outlinewidth": 0,
             "ticks": ""
            },
            "colorscale": [
             [
              0,
              "#0d0887"
             ],
             [
              0.1111111111111111,
              "#46039f"
             ],
             [
              0.2222222222222222,
              "#7201a8"
             ],
             [
              0.3333333333333333,
              "#9c179e"
             ],
             [
              0.4444444444444444,
              "#bd3786"
             ],
             [
              0.5555555555555556,
              "#d8576b"
             ],
             [
              0.6666666666666666,
              "#ed7953"
             ],
             [
              0.7777777777777778,
              "#fb9f3a"
             ],
             [
              0.8888888888888888,
              "#fdca26"
             ],
             [
              1,
              "#f0f921"
             ]
            ],
            "type": "contour"
           }
          ],
          "contourcarpet": [
           {
            "colorbar": {
             "outlinewidth": 0,
             "ticks": ""
            },
            "type": "contourcarpet"
           }
          ],
          "heatmap": [
           {
            "colorbar": {
             "outlinewidth": 0,
             "ticks": ""
            },
            "colorscale": [
             [
              0,
              "#0d0887"
             ],
             [
              0.1111111111111111,
              "#46039f"
             ],
             [
              0.2222222222222222,
              "#7201a8"
             ],
             [
              0.3333333333333333,
              "#9c179e"
             ],
             [
              0.4444444444444444,
              "#bd3786"
             ],
             [
              0.5555555555555556,
              "#d8576b"
             ],
             [
              0.6666666666666666,
              "#ed7953"
             ],
             [
              0.7777777777777778,
              "#fb9f3a"
             ],
             [
              0.8888888888888888,
              "#fdca26"
             ],
             [
              1,
              "#f0f921"
             ]
            ],
            "type": "heatmap"
           }
          ],
          "histogram": [
           {
            "marker": {
             "pattern": {
              "fillmode": "overlay",
              "size": 10,
              "solidity": 0.2
             }
            },
            "type": "histogram"
           }
          ],
          "histogram2d": [
           {
            "colorbar": {
             "outlinewidth": 0,
             "ticks": ""
            },
            "colorscale": [
             [
              0,
              "#0d0887"
             ],
             [
              0.1111111111111111,
              "#46039f"
             ],
             [
              0.2222222222222222,
              "#7201a8"
             ],
             [
              0.3333333333333333,
              "#9c179e"
             ],
             [
              0.4444444444444444,
              "#bd3786"
             ],
             [
              0.5555555555555556,
              "#d8576b"
             ],
             [
              0.6666666666666666,
              "#ed7953"
             ],
             [
              0.7777777777777778,
              "#fb9f3a"
             ],
             [
              0.8888888888888888,
              "#fdca26"
             ],
             [
              1,
              "#f0f921"
             ]
            ],
            "type": "histogram2d"
           }
          ],
          "histogram2dcontour": [
           {
            "colorbar": {
             "outlinewidth": 0,
             "ticks": ""
            },
            "colorscale": [
             [
              0,
              "#0d0887"
             ],
             [
              0.1111111111111111,
              "#46039f"
             ],
             [
              0.2222222222222222,
              "#7201a8"
             ],
             [
              0.3333333333333333,
              "#9c179e"
             ],
             [
              0.4444444444444444,
              "#bd3786"
             ],
             [
              0.5555555555555556,
              "#d8576b"
             ],
             [
              0.6666666666666666,
              "#ed7953"
             ],
             [
              0.7777777777777778,
              "#fb9f3a"
             ],
             [
              0.8888888888888888,
              "#fdca26"
             ],
             [
              1,
              "#f0f921"
             ]
            ],
            "type": "histogram2dcontour"
           }
          ],
          "mesh3d": [
           {
            "colorbar": {
             "outlinewidth": 0,
             "ticks": ""
            },
            "type": "mesh3d"
           }
          ],
          "parcoords": [
           {
            "line": {
             "colorbar": {
              "outlinewidth": 0,
              "ticks": ""
             }
            },
            "type": "parcoords"
           }
          ],
          "pie": [
           {
            "automargin": true,
            "type": "pie"
           }
          ],
          "scatter": [
           {
            "fillpattern": {
             "fillmode": "overlay",
             "size": 10,
             "solidity": 0.2
            },
            "type": "scatter"
           }
          ],
          "scatter3d": [
           {
            "line": {
             "colorbar": {
              "outlinewidth": 0,
              "ticks": ""
             }
            },
            "marker": {
             "colorbar": {
              "outlinewidth": 0,
              "ticks": ""
             }
            },
            "type": "scatter3d"
           }
          ],
          "scattercarpet": [
           {
            "marker": {
             "colorbar": {
              "outlinewidth": 0,
              "ticks": ""
             }
            },
            "type": "scattercarpet"
           }
          ],
          "scattergeo": [
           {
            "marker": {
             "colorbar": {
              "outlinewidth": 0,
              "ticks": ""
             }
            },
            "type": "scattergeo"
           }
          ],
          "scattergl": [
           {
            "marker": {
             "colorbar": {
              "outlinewidth": 0,
              "ticks": ""
             }
            },
            "type": "scattergl"
           }
          ],
          "scattermap": [
           {
            "marker": {
             "colorbar": {
              "outlinewidth": 0,
              "ticks": ""
             }
            },
            "type": "scattermap"
           }
          ],
          "scattermapbox": [
           {
            "marker": {
             "colorbar": {
              "outlinewidth": 0,
              "ticks": ""
             }
            },
            "type": "scattermapbox"
           }
          ],
          "scatterpolar": [
           {
            "marker": {
             "colorbar": {
              "outlinewidth": 0,
              "ticks": ""
             }
            },
            "type": "scatterpolar"
           }
          ],
          "scatterpolargl": [
           {
            "marker": {
             "colorbar": {
              "outlinewidth": 0,
              "ticks": ""
             }
            },
            "type": "scatterpolargl"
           }
          ],
          "scatterternary": [
           {
            "marker": {
             "colorbar": {
              "outlinewidth": 0,
              "ticks": ""
             }
            },
            "type": "scatterternary"
           }
          ],
          "surface": [
           {
            "colorbar": {
             "outlinewidth": 0,
             "ticks": ""
            },
            "colorscale": [
             [
              0,
              "#0d0887"
             ],
             [
              0.1111111111111111,
              "#46039f"
             ],
             [
              0.2222222222222222,
              "#7201a8"
             ],
             [
              0.3333333333333333,
              "#9c179e"
             ],
             [
              0.4444444444444444,
              "#bd3786"
             ],
             [
              0.5555555555555556,
              "#d8576b"
             ],
             [
              0.6666666666666666,
              "#ed7953"
             ],
             [
              0.7777777777777778,
              "#fb9f3a"
             ],
             [
              0.8888888888888888,
              "#fdca26"
             ],
             [
              1,
              "#f0f921"
             ]
            ],
            "type": "surface"
           }
          ],
          "table": [
           {
            "cells": {
             "fill": {
              "color": "#EBF0F8"
             },
             "line": {
              "color": "white"
             }
            },
            "header": {
             "fill": {
              "color": "#C8D4E3"
             },
             "line": {
              "color": "white"
             }
            },
            "type": "table"
           }
          ]
         },
         "layout": {
          "annotationdefaults": {
           "arrowcolor": "#2a3f5f",
           "arrowhead": 0,
           "arrowwidth": 1
          },
          "autotypenumbers": "strict",
          "coloraxis": {
           "colorbar": {
            "outlinewidth": 0,
            "ticks": ""
           }
          },
          "colorscale": {
           "diverging": [
            [
             0,
             "#8e0152"
            ],
            [
             0.1,
             "#c51b7d"
            ],
            [
             0.2,
             "#de77ae"
            ],
            [
             0.3,
             "#f1b6da"
            ],
            [
             0.4,
             "#fde0ef"
            ],
            [
             0.5,
             "#f7f7f7"
            ],
            [
             0.6,
             "#e6f5d0"
            ],
            [
             0.7,
             "#b8e186"
            ],
            [
             0.8,
             "#7fbc41"
            ],
            [
             0.9,
             "#4d9221"
            ],
            [
             1,
             "#276419"
            ]
           ],
           "sequential": [
            [
             0,
             "#0d0887"
            ],
            [
             0.1111111111111111,
             "#46039f"
            ],
            [
             0.2222222222222222,
             "#7201a8"
            ],
            [
             0.3333333333333333,
             "#9c179e"
            ],
            [
             0.4444444444444444,
             "#bd3786"
            ],
            [
             0.5555555555555556,
             "#d8576b"
            ],
            [
             0.6666666666666666,
             "#ed7953"
            ],
            [
             0.7777777777777778,
             "#fb9f3a"
            ],
            [
             0.8888888888888888,
             "#fdca26"
            ],
            [
             1,
             "#f0f921"
            ]
           ],
           "sequentialminus": [
            [
             0,
             "#0d0887"
            ],
            [
             0.1111111111111111,
             "#46039f"
            ],
            [
             0.2222222222222222,
             "#7201a8"
            ],
            [
             0.3333333333333333,
             "#9c179e"
            ],
            [
             0.4444444444444444,
             "#bd3786"
            ],
            [
             0.5555555555555556,
             "#d8576b"
            ],
            [
             0.6666666666666666,
             "#ed7953"
            ],
            [
             0.7777777777777778,
             "#fb9f3a"
            ],
            [
             0.8888888888888888,
             "#fdca26"
            ],
            [
             1,
             "#f0f921"
            ]
           ]
          },
          "colorway": [
           "#636efa",
           "#EF553B",
           "#00cc96",
           "#ab63fa",
           "#FFA15A",
           "#19d3f3",
           "#FF6692",
           "#B6E880",
           "#FF97FF",
           "#FECB52"
          ],
          "font": {
           "color": "#2a3f5f"
          },
          "geo": {
           "bgcolor": "white",
           "lakecolor": "white",
           "landcolor": "#E5ECF6",
           "showlakes": true,
           "showland": true,
           "subunitcolor": "white"
          },
          "hoverlabel": {
           "align": "left"
          },
          "hovermode": "closest",
          "mapbox": {
           "style": "light"
          },
          "paper_bgcolor": "white",
          "plot_bgcolor": "#E5ECF6",
          "polar": {
           "angularaxis": {
            "gridcolor": "white",
            "linecolor": "white",
            "ticks": ""
           },
           "bgcolor": "#E5ECF6",
           "radialaxis": {
            "gridcolor": "white",
            "linecolor": "white",
            "ticks": ""
           }
          },
          "scene": {
           "xaxis": {
            "backgroundcolor": "#E5ECF6",
            "gridcolor": "white",
            "gridwidth": 2,
            "linecolor": "white",
            "showbackground": true,
            "ticks": "",
            "zerolinecolor": "white"
           },
           "yaxis": {
            "backgroundcolor": "#E5ECF6",
            "gridcolor": "white",
            "gridwidth": 2,
            "linecolor": "white",
            "showbackground": true,
            "ticks": "",
            "zerolinecolor": "white"
           },
           "zaxis": {
            "backgroundcolor": "#E5ECF6",
            "gridcolor": "white",
            "gridwidth": 2,
            "linecolor": "white",
            "showbackground": true,
            "ticks": "",
            "zerolinecolor": "white"
           }
          },
          "shapedefaults": {
           "line": {
            "color": "#2a3f5f"
           }
          },
          "ternary": {
           "aaxis": {
            "gridcolor": "white",
            "linecolor": "white",
            "ticks": ""
           },
           "baxis": {
            "gridcolor": "white",
            "linecolor": "white",
            "ticks": ""
           },
           "bgcolor": "#E5ECF6",
           "caxis": {
            "gridcolor": "white",
            "linecolor": "white",
            "ticks": ""
           }
          },
          "title": {
           "x": 0.05
          },
          "xaxis": {
           "automargin": true,
           "gridcolor": "white",
           "linecolor": "white",
           "ticks": "",
           "title": {
            "standoff": 15
           },
           "zerolinecolor": "white",
           "zerolinewidth": 2
          },
          "yaxis": {
           "automargin": true,
           "gridcolor": "white",
           "linecolor": "white",
           "ticks": "",
           "title": {
            "standoff": 15
           },
           "zerolinecolor": "white",
           "zerolinewidth": 2
          }
         }
        }
       }
      }
     },
     "metadata": {},
     "output_type": "display_data"
    }
   ],
   "source": [
    "loop = magpy.current.Circle(current=1, diameter=1)\n",
    "\n",
    "loop.show()"
   ]
  },
  {
   "cell_type": "code",
   "execution_count": null,
   "metadata": {},
   "outputs": [],
   "source": []
  }
 ],
 "metadata": {
  "kernelspec": {
   "display_name": "magrec",
   "language": "python",
   "name": "python3"
  },
  "language_info": {
   "codemirror_mode": {
    "name": "ipython",
    "version": 3
   },
   "file_extension": ".py",
   "mimetype": "text/x-python",
   "name": "python",
   "nbconvert_exporter": "python",
   "pygments_lexer": "ipython3",
   "version": "3.11.13"
  }
 },
 "nbformat": 4,
 "nbformat_minor": 2
}
