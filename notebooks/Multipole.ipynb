{
 "cells": [
  {
   "cell_type": "code",
   "execution_count": 2,
   "metadata": {},
   "outputs": [],
   "source": [
    "import numpy as np\n",
    "import magpylib as magpy\n",
    "\n",
    "from currio.utils import get_multipole_expansion_from_line_currents\n",
    "from currio.utils import get_multipole_expansion_from_current_density\n",
    "from currio.sensor import RegularGridSensor\n",
    "\n",
    "from currio.tests.test_multipole import create_loop\n",
    "import magrec\n",
    "from magrec.misc.sampler import GridSampler\n",
    "from magrec.misc.plot import plot_vector_field_2d\n",
    "from magrec.misc.plot import get_gridspec\n",
    "from magrec.misc.plot import plot_n_components\n"
   ]
  },
  {
   "cell_type": "markdown",
   "metadata": {},
   "source": [
    "# -"
   ]
  },
  {
   "cell_type": "code",
   "execution_count": 2,
   "metadata": {},
   "outputs": [
    {
     "data": {
      "text/plain": [
       "array([0.        , 0.        , 3.14136298])"
      ]
     },
     "execution_count": 2,
     "metadata": {},
     "output_type": "execute_result"
    }
   ],
   "source": [
    "pts, crs = create_loop(1, 1, n=300)\n",
    "\n",
    "# get_multipole_expansion(crs, pts, order=0)\n",
    "get_multipole_expansion_from_line_currents(crs, pts, order=1)"
   ]
  },
  {
   "cell_type": "code",
   "execution_count": 3,
   "metadata": {},
   "outputs": [
    {
     "data": {
      "text/plain": [
       "array([ 1.33895715, -1.10356946, -2.07820291])"
      ]
     },
     "execution_count": 3,
     "metadata": {},
     "output_type": "execute_result"
    }
   ],
   "source": [
    "J = np.random.normal(0, 1, (16, 3))\n",
    "pts = np.random.normal(0, 1, (16, 3))\n",
    "\n",
    "get_multipole_expansion_from_current_density(J, pts, volume_element=1, order=1)"
   ]
  },
  {
   "cell_type": "code",
   "execution_count": 6,
   "metadata": {},
   "outputs": [
    {
     "data": {
      "application/vnd.plotly.v1+json": {
       "config": {
        "plotlyServerURL": "https://plot.ly"
       },
       "data": [
        {
         "legendgroup": "Polyline(id=13367773840)",
         "line": {
          "color": "#2e91e5",
          "dash": "solid",
          "width": 2.2
         },
         "mode": "lines",
         "name": "Polyline (1A)",
         "opacity": 1,
         "showlegend": true,
         "type": "scatter3d",
         "x": {
          "bdata": "p9asTRYP6z8AAAAAAAD4f6y1ebYwxMQ//LXGZCIMyz+stXm2MMTEPxHiIQSOvNg/rLV5tjDExD8AAAAAAAD4f9H7b/L9rOC/0Ptv8v2s4L8AAAAAAAD4f3jK6vojNbQ/4rjqIfeRnD94yur6IzW0P6wpNqU9LLy/eMrq+iM1tD8AAAAAAAD4f26uKvFGuuU/cK4q8Ua65T8AAAAAAAD4fwNzxja8buo/UyCQKD/35j8Dc8Y2vG7qPxJ3vsJwBOw/A3PGNrxu6j8AAAAAAAD4f5Y3YnwxI+8/mDdifDEj7z8AAAAAAAD4f5j2eN8wZOg/GY8McHKt5T+Y9njfMGToP33edVq8ze0/mPZ43zBk6D8AAAAAAAD4f5i1j0IwpeE/mLWPQjCl4T8AAAAAAAD4f0CqHxRf8Lc/4KSNLIWPdr9Aqh8UX/C3P8DYMYVXC9g/QKofFF/wtz8AAAAAAAD4fxCWD/swUte/E5YP+zBS178AAAAAAAD4f/htR3xRUc+/hA/KTmI03L/4bUd8UVHPv/IRokowtri/+G1HfFFRz78AAAAAAAD4f5Rf3wSC/L+/iF/fBIL8v78AAAAAAAD4f3JFcpUqFeu/97DSTobV679yRXKVKhXrv7pP74b3GOG/ckVylSoV678AAAAAAAD4f3pPJHViFfm/dk8kdWIV+b8AAAAAAAD4f4bDk0iwZ/C/X72ZOLm88L+Gw5NIsGfwv3TO+gNVi/O/hsOTSLBn8L8AAAAAAAD4f1beDHD4596/Ut4McPjn3r8AAAAAAAD4f4BiynKkKqS/p0AJIJRpxb+AYspypCqkv5yXPQIcwra/gGLKcqQqpL8AAAAAAAD4f7JFWlNP3dk/skVaU0/d2T8AAAAAAAD4fxdk3NQaWcg/B6Kk+tf3wj8XZNzUGlnIP/AaggEWV9Q/F2Tc1BpZyD8AAAAAAAD4f6gZ3udHQ5i/oBne50dDmL8AAAAAAAD4fwLZm/OBlsE/9NjXbZMUsT8C2ZvzgZbBP9tTQgMpY8I/Atmb84GWwT8AAAAAAAD4f5y6GXK2GtM/nboZcrYa0z8AAAAAAAD4f1IrRrd+gMg/2L6d6bBzxz9SK0a3foDIPymCTf3eCM8/UitGt36AyD8AAAAAAAD4f9PCsRQhl7U/2MKxFCGXtT8AAAAAAAD4f3TD4twIPeQ/+pB0u7gO1D90w+LcCD3kP5TTH6umbuc/dMPi3Ag95D8AAAAAAAD4f0anl8uW4/I/RqeXy5bj8j8AAAAAAAD4fxNQrzY1TOM/JKDF0Cli3T8TUK82NUzjP0WcyN64S+8/E1CvNjVM4z8AAAAAAAD4fyAz6sWaJ5o/gDLqxZonmj8AAAAAAAD4f6UcZDT3Z+Q/lC/gTG+K4j+lHGQ092fkPyukcuw139w/pRxkNPdn5D8AAAAAAAD4f9tzTMlY//M/",
          "dtype": "f8"
         },
         "y": {
          "bdata": "wAvUG9lwm78AAAAAAAD4fyG+QdDtxOM/2K0McCUK2j8hvkHQ7cTjPyOZ1kSaROI/Ib5B0O3E4z8AAAAAAAD4f1AOsTSxMvQ/UA6xNLEy9D8AAAAAAAD4f8Dkav3SUZ4/Uatqs2VI1j/A5Gr90lGePx44EA7JIco/wORq/dJRnj8AAAAAAAD4fyq3xZwiQPO/KrfFnCJA878AAAAAAAD4f2fFCFvzHeK/Zpx2YBSh5b9nxQhb8x3iv2CYNUgmwua/Z8UIW/Md4r8AAAAAAAD4fzAczxv0IrI/KBzPG/Qisj8AAAAAAAD4fw/5AlKrsO2/EI3IqrMb6L8P+QJSq7DtvwZA2KM4fea/D/kCUquw7b8AAAAAAAD4f9Lqv5Pa0v6/0eq/k9rS/r8AAAAAAAD4f8Yr3ihKPfi/KU7tlXhv+r/GK94oSj34v85VKYBVrfi/xiveKEo9+L8AAAAAAAD4f7ts/L25p/G/umz8vbmn8b8AAAAAAAD4f2oBKTsQte6/uLMljAwr779qASk7ELXuv13scmg3C/C/agEpOxC17r8AAAAAAAD4f18pWfqsGuq/YClZ+qwa6r8AAAAAAAD4f5RLag8iUdU/EMMwuE0lkT+US2oPIlHVP90wjLbhTcg/lEtqDyJR1T8AAAAAAAD4f3q64YTntfc/fLrhhOe19z8AAAAAAAD4fwGhSTmggOQ/EJvWyRH46z8BoUk5oIDkPyJi7cinzec/AaFJOaCA5D8AAAAAAAD4f9TLwFw6qsm/ysvAXDqqyb8AAAAAAAD4fzTMrQfL+bE/+G5Mn1S9sT80zK0Hy/mxP/T8bbpJBaO/NMytB8v5sT8AAAAAAAD4f/9LN7IC0tU/AEw3sgLS1T8AAAAAAAD4f5gaRHsD9Oo/GAKKlFPs5j+YGkR7A/TqP0HRurrlkOg/mBpEewP06j8AAAAAAAD4f5hHts6Cf/U/mke2zoJ/9T8AAAAAAAD4f2yAajOxDPE/7AIqxKM/8j9sgGozsQzxP2Ualq1FofE/bIBqM7EM8T8AAAAAAAD4f3xyPTC/M+k/fHI9ML8z6T8AAAAAAAD4f4RoAEIQe+E/IkzS2yGd4j+EaABCEHvhP30iegerb+M/hGgAQhB74T8AAAAAAAD4fxi9hqfChNM/Er2Gp8KE0z8AAAAAAAD4f8loQwzS/Oe/Vtv2h1NE3r/JaEMM0vznv19HIi7MV+O/yWhDDNL8578AAAAAAAD4fw4YJbYC3vy/EBgltgLe/L8AAAAAAAD4f2AVqkOYqtW/COmpy1tu5r9gFapDmKrVvx4IL/zs/uG/YBWqQ5iq1b8AAAAAAAD4f2ANUJS2CPI/XQ1QlLYI8j8AAAAAAAD4fzrMJlJCMO2/fmfIj7WS2786zCZSQjDtv1IITavjfOK/OswmUkIw7b8AAAAAAAD4f8xsO3N8nAfA",
          "dtype": "f8"
         },
         "z": {
          "bdata": "eIZ7YIxK4z8AAAAAAAD4f9gDt/f9U+8/YrJ+GilT7D/YA7f3/VPvP46J1/4+hO0/2AO39/1T7z8AAAAAAAD4f5xAece3rvU/nEB5x7eu9T8AAAAAAAD4f5zV6N7zKPA/kMPyqO4i7j+c1eje8yjwP9YNkvnxdfM/nNXo3vMo8D8AAAAAAAD4fznVsOxfRuU/ONWw7F9G5T8AAAAAAAD4f7KJdY4x/t8/3FCEkyv74D+yiXWOMf7fPy8MutaIH+E/sol1jjH+3z8AAAAAAAD4f/VoiUOjb9U/+2iJQ6Nv1T8AAAAAAAD4f1EmQRT0xde/2kuHQ9sIxL9RJkEU9MXXvzA6B8oKctO/USZBFPTF178AAAAAAAD4f2ftAtviPvG/Zu0C2+I+8b8AAAAAAAD4f3wmrCYHn98/4sYYwUG8wT98JqwmB5/fP8jvN2QyRMw/fCasJgef3z8AAAAAAAD4f1KALDczhwBAUYAsNzOHAEAAAAAAAAD4f/4bnWsRU+Q/nfNrbksR7T/+G51rEVPkP3wGPcmI5e0//hudaxFT5D8AAAAAAAD4f0jJdwWqdum/S8l3Bap26b8AAAAAAAD4f+DMrqKLxp4/2r+Xtu6ixL/gzK6ii8aeP7TlCTBx5ru/4MyuoovGnj8AAAAAAAD4fxm2or8SY+s/FraivxJj6z8AAAAAAAD4f4woDEU2Bec/cvsIXis25j+MKAxFNgXnP90n5Slmk+k/jCgMRTYF5z8AAAAAAAD4fwKbdcpZp+I/AZt1ylmn4j8AAAAAAAD4f9wygS0Vf9c/n0nxW2hg2T/cMoEtFX/XPyjqoVsBJNs/3DKBLRV/1z8AAAAAAAD4f2xfLoztXsM/bF8ujO1ewz8AAAAAAAD4f/DNv04Prta/Hh0mZjYUz7/wzb9OD67Wv6j0fMjN39C/8M2/Tg+u1r8AAAAAAAD4f8tly7HKheu/zGXLscqF678AAAAAAAD4f8fGi2NTEfO/R7xXI46Q8r/HxotjUxHzv7ovSmy5cvG/x8aLY1MR878AAAAAAAD4f6jaMW7BX/i/qNoxbsFf+L8AAAAAAAD4f6T5goEbq/S/I+xPvcTX9b+k+YKBG6v0v1qUldfn+fS/pPmCgRur9L8AAAAAAAD4f6AY1JR19vC/oRjUlHX28L8AAAAAAAD4f663TaiCb+M/nhUJRDqY2D+ut02ogm/jP7JQBQTx6sQ/rrdNqIJv4z8AAAAAAAD4fyjokB78MgJAKOiQHvwyAkAAAAAAAAD4f/CxWwUBUOU/KUwlc9lI8D/wsVsFAVDlPwgrY4ZIpu4/8LFbBQFQ5T8AAAAAAAD4f748jG/uK+6/xjyMb+4r7r8AAAAAAAD4f2q8K6LnKN+/dny/RmJ71b9qvCui5yjfvzZX+4pnQeq/arwrouco378AAAAAAAD4f5D071Mmn5+/",
          "dtype": "f8"
         }
        },
        {
         "legendgroup": "Polyline(id=13367773840)",
         "line": {
          "color": "#2e91e5",
          "dash": "solid",
          "width": 4.4
         },
         "mode": "lines",
         "name": "Polyline (1A)",
         "opacity": 1,
         "showlegend": false,
         "type": "scatter3d",
         "x": {
          "bdata": "p9asTRYP6z/R+2/y/azgv3CuKvFGuuU/ljdifDEj7z+ZtY9CMKXhPxOWD/swUte/k1/fBIL8v795TyR1YhX5v1HeDHD4596/sUVaU0/d2T+gGd7nR0OYv5y6GXK2GtM/2cKxFCGXtT9Hp5fLluPyPwYz6sWaJ5o/2XNMyVj/8z8=",
          "dtype": "f8"
         },
         "y": {
          "bdata": "6gvUG9lwm79QDrE0sTL0Pyq3xZwiQPO/NxzPG/Qisj/T6r+T2tL+v7ls/L25p/G/YilZ+qwa6r96uuGE57X3P8rLwFw6qsm//0s3sgLS1T+ZR7bOgn/1P31yPTC/M+k/Fr2Gp8KE0z8PGCW2At78v18NUJS2CPI/zGw7c3ycB8A=",
          "dtype": "f8"
         },
         "z": {
          "bdata": "eYZ7YIxK4z+cQHnHt671PzjVsOxfRuU/9WiJQ6Nv1T9m7QLb4j7xv1KALDczhwBAS8l3Bap26b8YtqK/EmPrPwGbdcpZp+I/a18ujO1ewz/LZcuxyoXrv6jaMW7BX/i/oRjUlHX28L8o6JAe/DICQMI8jG/uK+6/AvXvUyafn78=",
          "dtype": "f8"
         }
        }
       ],
       "layout": {
        "legend": {
         "itemsizing": "constant"
        },
        "scene": {
         "aspectmode": "manual",
         "aspectratio": {
          "x": 1,
          "y": 1,
          "z": 1
         },
         "camera": {
          "eye": {
           "x": 1,
           "y": -1.5,
           "z": 1.4
          }
         },
         "xaxis": {
          "autorange": false,
          "range": [
           -2.3755999043382787,
           2.057719587353644
          ],
          "title": {
           "text": "x (m)"
          }
         },
         "yaxis": {
          "autorange": false,
          "range": [
           -2.951409244776732,
           1.4819102469151906
          ],
          "title": {
           "text": "y (m)"
          }
         },
         "zaxis": {
          "autorange": false,
          "range": [
           -1.8409011893135818,
           2.592418302378341
          ],
          "title": {
           "text": "z (m)"
          }
         }
        },
        "template": {
         "data": {
          "bar": [
           {
            "error_x": {
             "color": "#2a3f5f"
            },
            "error_y": {
             "color": "#2a3f5f"
            },
            "marker": {
             "line": {
              "color": "#E5ECF6",
              "width": 0.5
             },
             "pattern": {
              "fillmode": "overlay",
              "size": 10,
              "solidity": 0.2
             }
            },
            "type": "bar"
           }
          ],
          "barpolar": [
           {
            "marker": {
             "line": {
              "color": "#E5ECF6",
              "width": 0.5
             },
             "pattern": {
              "fillmode": "overlay",
              "size": 10,
              "solidity": 0.2
             }
            },
            "type": "barpolar"
           }
          ],
          "carpet": [
           {
            "aaxis": {
             "endlinecolor": "#2a3f5f",
             "gridcolor": "white",
             "linecolor": "white",
             "minorgridcolor": "white",
             "startlinecolor": "#2a3f5f"
            },
            "baxis": {
             "endlinecolor": "#2a3f5f",
             "gridcolor": "white",
             "linecolor": "white",
             "minorgridcolor": "white",
             "startlinecolor": "#2a3f5f"
            },
            "type": "carpet"
           }
          ],
          "choropleth": [
           {
            "colorbar": {
             "outlinewidth": 0,
             "ticks": ""
            },
            "type": "choropleth"
           }
          ],
          "contour": [
           {
            "colorbar": {
             "outlinewidth": 0,
             "ticks": ""
            },
            "colorscale": [
             [
              0,
              "#0d0887"
             ],
             [
              0.1111111111111111,
              "#46039f"
             ],
             [
              0.2222222222222222,
              "#7201a8"
             ],
             [
              0.3333333333333333,
              "#9c179e"
             ],
             [
              0.4444444444444444,
              "#bd3786"
             ],
             [
              0.5555555555555556,
              "#d8576b"
             ],
             [
              0.6666666666666666,
              "#ed7953"
             ],
             [
              0.7777777777777778,
              "#fb9f3a"
             ],
             [
              0.8888888888888888,
              "#fdca26"
             ],
             [
              1,
              "#f0f921"
             ]
            ],
            "type": "contour"
           }
          ],
          "contourcarpet": [
           {
            "colorbar": {
             "outlinewidth": 0,
             "ticks": ""
            },
            "type": "contourcarpet"
           }
          ],
          "heatmap": [
           {
            "colorbar": {
             "outlinewidth": 0,
             "ticks": ""
            },
            "colorscale": [
             [
              0,
              "#0d0887"
             ],
             [
              0.1111111111111111,
              "#46039f"
             ],
             [
              0.2222222222222222,
              "#7201a8"
             ],
             [
              0.3333333333333333,
              "#9c179e"
             ],
             [
              0.4444444444444444,
              "#bd3786"
             ],
             [
              0.5555555555555556,
              "#d8576b"
             ],
             [
              0.6666666666666666,
              "#ed7953"
             ],
             [
              0.7777777777777778,
              "#fb9f3a"
             ],
             [
              0.8888888888888888,
              "#fdca26"
             ],
             [
              1,
              "#f0f921"
             ]
            ],
            "type": "heatmap"
           }
          ],
          "histogram": [
           {
            "marker": {
             "pattern": {
              "fillmode": "overlay",
              "size": 10,
              "solidity": 0.2
             }
            },
            "type": "histogram"
           }
          ],
          "histogram2d": [
           {
            "colorbar": {
             "outlinewidth": 0,
             "ticks": ""
            },
            "colorscale": [
             [
              0,
              "#0d0887"
             ],
             [
              0.1111111111111111,
              "#46039f"
             ],
             [
              0.2222222222222222,
              "#7201a8"
             ],
             [
              0.3333333333333333,
              "#9c179e"
             ],
             [
              0.4444444444444444,
              "#bd3786"
             ],
             [
              0.5555555555555556,
              "#d8576b"
             ],
             [
              0.6666666666666666,
              "#ed7953"
             ],
             [
              0.7777777777777778,
              "#fb9f3a"
             ],
             [
              0.8888888888888888,
              "#fdca26"
             ],
             [
              1,
              "#f0f921"
             ]
            ],
            "type": "histogram2d"
           }
          ],
          "histogram2dcontour": [
           {
            "colorbar": {
             "outlinewidth": 0,
             "ticks": ""
            },
            "colorscale": [
             [
              0,
              "#0d0887"
             ],
             [
              0.1111111111111111,
              "#46039f"
             ],
             [
              0.2222222222222222,
              "#7201a8"
             ],
             [
              0.3333333333333333,
              "#9c179e"
             ],
             [
              0.4444444444444444,
              "#bd3786"
             ],
             [
              0.5555555555555556,
              "#d8576b"
             ],
             [
              0.6666666666666666,
              "#ed7953"
             ],
             [
              0.7777777777777778,
              "#fb9f3a"
             ],
             [
              0.8888888888888888,
              "#fdca26"
             ],
             [
              1,
              "#f0f921"
             ]
            ],
            "type": "histogram2dcontour"
           }
          ],
          "mesh3d": [
           {
            "colorbar": {
             "outlinewidth": 0,
             "ticks": ""
            },
            "type": "mesh3d"
           }
          ],
          "parcoords": [
           {
            "line": {
             "colorbar": {
              "outlinewidth": 0,
              "ticks": ""
             }
            },
            "type": "parcoords"
           }
          ],
          "pie": [
           {
            "automargin": true,
            "type": "pie"
           }
          ],
          "scatter": [
           {
            "fillpattern": {
             "fillmode": "overlay",
             "size": 10,
             "solidity": 0.2
            },
            "type": "scatter"
           }
          ],
          "scatter3d": [
           {
            "line": {
             "colorbar": {
              "outlinewidth": 0,
              "ticks": ""
             }
            },
            "marker": {
             "colorbar": {
              "outlinewidth": 0,
              "ticks": ""
             }
            },
            "type": "scatter3d"
           }
          ],
          "scattercarpet": [
           {
            "marker": {
             "colorbar": {
              "outlinewidth": 0,
              "ticks": ""
             }
            },
            "type": "scattercarpet"
           }
          ],
          "scattergeo": [
           {
            "marker": {
             "colorbar": {
              "outlinewidth": 0,
              "ticks": ""
             }
            },
            "type": "scattergeo"
           }
          ],
          "scattergl": [
           {
            "marker": {
             "colorbar": {
              "outlinewidth": 0,
              "ticks": ""
             }
            },
            "type": "scattergl"
           }
          ],
          "scattermap": [
           {
            "marker": {
             "colorbar": {
              "outlinewidth": 0,
              "ticks": ""
             }
            },
            "type": "scattermap"
           }
          ],
          "scattermapbox": [
           {
            "marker": {
             "colorbar": {
              "outlinewidth": 0,
              "ticks": ""
             }
            },
            "type": "scattermapbox"
           }
          ],
          "scatterpolar": [
           {
            "marker": {
             "colorbar": {
              "outlinewidth": 0,
              "ticks": ""
             }
            },
            "type": "scatterpolar"
           }
          ],
          "scatterpolargl": [
           {
            "marker": {
             "colorbar": {
              "outlinewidth": 0,
              "ticks": ""
             }
            },
            "type": "scatterpolargl"
           }
          ],
          "scatterternary": [
           {
            "marker": {
             "colorbar": {
              "outlinewidth": 0,
              "ticks": ""
             }
            },
            "type": "scatterternary"
           }
          ],
          "surface": [
           {
            "colorbar": {
             "outlinewidth": 0,
             "ticks": ""
            },
            "colorscale": [
             [
              0,
              "#0d0887"
             ],
             [
              0.1111111111111111,
              "#46039f"
             ],
             [
              0.2222222222222222,
              "#7201a8"
             ],
             [
              0.3333333333333333,
              "#9c179e"
             ],
             [
              0.4444444444444444,
              "#bd3786"
             ],
             [
              0.5555555555555556,
              "#d8576b"
             ],
             [
              0.6666666666666666,
              "#ed7953"
             ],
             [
              0.7777777777777778,
              "#fb9f3a"
             ],
             [
              0.8888888888888888,
              "#fdca26"
             ],
             [
              1,
              "#f0f921"
             ]
            ],
            "type": "surface"
           }
          ],
          "table": [
           {
            "cells": {
             "fill": {
              "color": "#EBF0F8"
             },
             "line": {
              "color": "white"
             }
            },
            "header": {
             "fill": {
              "color": "#C8D4E3"
             },
             "line": {
              "color": "white"
             }
            },
            "type": "table"
           }
          ]
         },
         "layout": {
          "annotationdefaults": {
           "arrowcolor": "#2a3f5f",
           "arrowhead": 0,
           "arrowwidth": 1
          },
          "autotypenumbers": "strict",
          "coloraxis": {
           "colorbar": {
            "outlinewidth": 0,
            "ticks": ""
           }
          },
          "colorscale": {
           "diverging": [
            [
             0,
             "#8e0152"
            ],
            [
             0.1,
             "#c51b7d"
            ],
            [
             0.2,
             "#de77ae"
            ],
            [
             0.3,
             "#f1b6da"
            ],
            [
             0.4,
             "#fde0ef"
            ],
            [
             0.5,
             "#f7f7f7"
            ],
            [
             0.6,
             "#e6f5d0"
            ],
            [
             0.7,
             "#b8e186"
            ],
            [
             0.8,
             "#7fbc41"
            ],
            [
             0.9,
             "#4d9221"
            ],
            [
             1,
             "#276419"
            ]
           ],
           "sequential": [
            [
             0,
             "#0d0887"
            ],
            [
             0.1111111111111111,
             "#46039f"
            ],
            [
             0.2222222222222222,
             "#7201a8"
            ],
            [
             0.3333333333333333,
             "#9c179e"
            ],
            [
             0.4444444444444444,
             "#bd3786"
            ],
            [
             0.5555555555555556,
             "#d8576b"
            ],
            [
             0.6666666666666666,
             "#ed7953"
            ],
            [
             0.7777777777777778,
             "#fb9f3a"
            ],
            [
             0.8888888888888888,
             "#fdca26"
            ],
            [
             1,
             "#f0f921"
            ]
           ],
           "sequentialminus": [
            [
             0,
             "#0d0887"
            ],
            [
             0.1111111111111111,
             "#46039f"
            ],
            [
             0.2222222222222222,
             "#7201a8"
            ],
            [
             0.3333333333333333,
             "#9c179e"
            ],
            [
             0.4444444444444444,
             "#bd3786"
            ],
            [
             0.5555555555555556,
             "#d8576b"
            ],
            [
             0.6666666666666666,
             "#ed7953"
            ],
            [
             0.7777777777777778,
             "#fb9f3a"
            ],
            [
             0.8888888888888888,
             "#fdca26"
            ],
            [
             1,
             "#f0f921"
            ]
           ]
          },
          "colorway": [
           "#636efa",
           "#EF553B",
           "#00cc96",
           "#ab63fa",
           "#FFA15A",
           "#19d3f3",
           "#FF6692",
           "#B6E880",
           "#FF97FF",
           "#FECB52"
          ],
          "font": {
           "color": "#2a3f5f"
          },
          "geo": {
           "bgcolor": "white",
           "lakecolor": "white",
           "landcolor": "#E5ECF6",
           "showlakes": true,
           "showland": true,
           "subunitcolor": "white"
          },
          "hoverlabel": {
           "align": "left"
          },
          "hovermode": "closest",
          "mapbox": {
           "style": "light"
          },
          "paper_bgcolor": "white",
          "plot_bgcolor": "#E5ECF6",
          "polar": {
           "angularaxis": {
            "gridcolor": "white",
            "linecolor": "white",
            "ticks": ""
           },
           "bgcolor": "#E5ECF6",
           "radialaxis": {
            "gridcolor": "white",
            "linecolor": "white",
            "ticks": ""
           }
          },
          "scene": {
           "xaxis": {
            "backgroundcolor": "#E5ECF6",
            "gridcolor": "white",
            "gridwidth": 2,
            "linecolor": "white",
            "showbackground": true,
            "ticks": "",
            "zerolinecolor": "white"
           },
           "yaxis": {
            "backgroundcolor": "#E5ECF6",
            "gridcolor": "white",
            "gridwidth": 2,
            "linecolor": "white",
            "showbackground": true,
            "ticks": "",
            "zerolinecolor": "white"
           },
           "zaxis": {
            "backgroundcolor": "#E5ECF6",
            "gridcolor": "white",
            "gridwidth": 2,
            "linecolor": "white",
            "showbackground": true,
            "ticks": "",
            "zerolinecolor": "white"
           }
          },
          "shapedefaults": {
           "line": {
            "color": "#2a3f5f"
           }
          },
          "ternary": {
           "aaxis": {
            "gridcolor": "white",
            "linecolor": "white",
            "ticks": ""
           },
           "baxis": {
            "gridcolor": "white",
            "linecolor": "white",
            "ticks": ""
           },
           "bgcolor": "#E5ECF6",
           "caxis": {
            "gridcolor": "white",
            "linecolor": "white",
            "ticks": ""
           }
          },
          "title": {
           "x": 0.05
          },
          "xaxis": {
           "automargin": true,
           "gridcolor": "white",
           "linecolor": "white",
           "ticks": "",
           "title": {
            "standoff": 15
           },
           "zerolinecolor": "white",
           "zerolinewidth": 2
          },
          "yaxis": {
           "automargin": true,
           "gridcolor": "white",
           "linecolor": "white",
           "ticks": "",
           "title": {
            "standoff": 15
           },
           "zerolinecolor": "white",
           "zerolinewidth": 2
          }
         }
        }
       }
      }
     },
     "metadata": {},
     "output_type": "display_data"
    }
   ],
   "source": [
    "loop = magpy.current.Polyline(vertices=pts, current=1)\n",
    "loop.show()"
   ]
  },
  {
   "cell_type": "code",
   "execution_count": null,
   "metadata": {},
   "outputs": [
    {
     "data": {
      "text/plain": [
       "(62500, 3)"
      ]
     },
     "execution_count": 36,
     "metadata": {},
     "output_type": "execute_result"
    }
   ],
   "source": [
    "Jxy = np.loadtxt('/Users/ValerioDeSio/Desktop/PythonThesis/Jxy.csv', float, delimiter=',')\n",
    "Jxy.shape"
   ]
  },
  {
   "cell_type": "code",
   "execution_count": 37,
   "metadata": {},
   "outputs": [],
   "source": [
    "Js = Jxy[:, 0]\n",
    "current_density = np.zeros((len(Js), 3))\n",
    "current_density[:, 0] = Js\n",
    "xs = Jxy[:, 1]\n",
    "ys = Jxy[:, 2]\n",
    "pts = np.stack([xs, ys, np.zeros_like(xs)], axis=1)\n",
    "\n"
   ]
  },
  {
   "cell_type": "code",
   "execution_count": 28,
   "metadata": {},
   "outputs": [
    {
     "data": {
      "text/plain": [
       "(62500,)"
      ]
     },
     "execution_count": 28,
     "metadata": {},
     "output_type": "execute_result"
    }
   ],
   "source": [
    "pts[:,0].shape"
   ]
  },
  {
   "cell_type": "markdown",
   "metadata": {},
   "source": [
    "# TODO:\n",
    "\n",
    "For Aug 7, 2025:\n",
    "\n",
    "1. Implement iterating through a custom grid spec over a current density and compute `get_multipole_expansion_from_current_density` on it. Return as a vector of size (`n_columns`, `n_rows`, `monopole_compoents` = 3)\n",
    "\n",
    "Only monopole will have 3 components (_z is 0)\n",
    "\n",
    "Function signature:\n",
    "\n",
    "```python\n",
    "def get_grid_monopole_expansion(current_density, grid_spec):\n",
    "    ```\n",
    "    grid_spec: a tuple with (n_columns, n_rows)\n",
    "    ```\n",
    "    pass\n",
    "```\n",
    "\n",
    "2. Add monopole expansion terms to the `plot_vector_field_2d` function: monopole vectors should be placed at the grid element centers and plotted with a different color and the scale bar for size (or something like this).\n",
    "\n",
    "3. Think how time comes into play: it will be additional dimension in the input. Your J density is `(2, 3, n_time_steps)`. Return as `(2, 3, n_time_steps, monopole_components)`. \n",
    "\n",
    "---\n",
    "\n",
    "4. Ask Alessandro for spiral current density.\n",
    "5. Compute the monopole expansion of the spiral current density.\n",
    "\n",
    "---\n",
    "\n",
    "For later\n",
    "\n",
    "MATH:\n",
    "\n",
    "6. Read about dipole moments. \n",
    "7. Implement dipole moment calculation from current density. Use the same grid spec. \n",
    "\n",
    "\n",
    "Send Valerio:\n",
    "phone number to contact me in WhatsApp\n",
    "paper about multipole expansion\n",
    "link to magrec and currio github repos"
   ]
  },
  {
   "cell_type": "markdown",
   "metadata": {},
   "source": [
    "## Task 1"
   ]
  },
  {
   "cell_type": "code",
   "execution_count": 3,
   "metadata": {},
   "outputs": [],
   "source": [
    "def get_grid_multipole_expansion(current_density, pts, grid_spec=None, cell_size=None, volume_element=1.0, order=0):\n",
    "    \"\"\"\n",
    "    The space is divided into a 2D grid and the monopole expansion is computed in each grid cell specified either with respect to the size or the number of elements.\n",
    "\n",
    "    Inputs:\n",
    "    - current_density: array of shape (N, 3), current density vector (A/m^2)\n",
    "    - pts: array of shape (N, 3), list of points between which the current is flowing\n",
    "    - grid_spec (optional): tuple (n_columns, n_rows), number of grid cells along x and y\n",
    "    - cell_size (optional): tuple (dx, dy), dimension of grid element\n",
    "\n",
    "    Output:\n",
    "    - grid_monopoles: array of shape (n_columns, n_rows, 3)\n",
    "    - grid_centers: array of shape (n_columns, n_rows, 2), coordinates of the centers for each element of the grid\n",
    "    \"\"\"\n",
    "\n",
    "    if (grid_spec is None and cell_size is None) or (grid_spec is not None and cell_size is not None):\n",
    "        raise ValueError(\"Provide either grid_spec or cell_size.\")\n",
    "\n",
    "    xs = pts[:, 0]\n",
    "    ys = pts[:, 1]\n",
    "\n",
    "    # Box definition\n",
    "    x_min, x_max = xs.min(), xs.max()\n",
    "    y_min, y_max = ys.min(), ys.max()\n",
    "\n",
    "    Lx, Ly= x_max-x_min, y_max-y_min\n",
    "\n",
    "    if grid_spec is not None:\n",
    "        n_columns, n_rows = grid_spec\n",
    "    else:\n",
    "        dx, dy = cell_size\n",
    "        n_columns = int(np.ceil(Lx / dx))\n",
    "        n_rows = int(np.ceil(Ly / dy))\n",
    "\n",
    "    # Grid points definition\n",
    "    x_edges = np.linspace(x_min, x_max, n_columns+1)\n",
    "    y_edges = np.linspace(y_min, y_max, n_rows+1)\n",
    "\n",
    "    # Output inizialization\n",
    "    grid_monopoles = np.zeros((n_columns, n_rows, 3))\n",
    "    grid_centers = np.zeros((n_columns, n_rows, 2))\n",
    "\n",
    "    for i in range(n_columns):\n",
    "        for j in range(n_rows):\n",
    "            x0, x1 = x_edges[i], x_edges[i+1]\n",
    "            y0, y1 = y_edges[j], y_edges[j+1]\n",
    "\n",
    "            # Store the center of the cell\n",
    "            center_x = (x0 + x1) / 2\n",
    "            center_y = (y0 + y1) / 2\n",
    "            grid_centers[i, j] = [center_x, center_y]\n",
    "\n",
    "            # Mask\n",
    "            cell = (\n",
    "                (xs >= x0) & (xs <= x1) &\n",
    "                (ys >= y0) & (ys <= y1)\n",
    "            )\n",
    "\n",
    "            J_cell = current_density[cell]\n",
    "            pts_cell = pts[cell]\n",
    "\n",
    "            if J_cell.shape[0] > 0:\n",
    "                grid_monopoles[i ,j] = get_multipole_expansion_from_current_density(J_cell, pts_cell, volume_element=volume_element, order=order)\n",
    "\n",
    "    return grid_monopoles, grid_centers\n",
    "\n"
   ]
  },
  {
   "cell_type": "code",
   "execution_count": null,
   "metadata": {},
   "outputs": [],
   "source": [
    "# Create a boolean mask for the region of interest\n",
    "mask = (xs >= 1.00) & (xs <= 25.90) & (ys >= 1) & (ys <= 25.90)\n",
    "\n",
    "# Filter pts and current_density\n",
    "pts_roi = pts[mask]\n",
    "J_roi = current_density[mask]\n",
    "\n",
    "monopole = get_multipole_expansion_from_current_density(J_roi, pts_roi, volume_element=1.0, order=0)\n",
    "monopole"
   ]
  },
  {
   "cell_type": "code",
   "execution_count": null,
   "metadata": {},
   "outputs": [
    {
     "data": {
      "text/plain": [
       "array([-1.10485382,  0.        ,  0.        ])"
      ]
     },
     "execution_count": 39,
     "metadata": {},
     "output_type": "execute_result"
    }
   ],
   "source": [
    "grid_monopoles, grid_centers = get_grid_multipole_expansion(current_density, pts, grid_spec=(15,15), volume_element=1.0)\n",
    "grid_monopoles[0, 0, :]"
   ]
  },
  {
   "cell_type": "markdown",
   "metadata": {},
   "source": [
    "## Task 2"
   ]
  },
  {
   "cell_type": "code",
   "execution_count": 4,
   "metadata": {},
   "outputs": [],
   "source": [
    "def get_grid_multipole_expansion_time(current_density_series, pts, cell_size=None, grid_spec=None, volume_element=1.0, order=0):\n",
    "    \"\"\"\n",
    "    Monopole expansion is computed for each element of the grid from a time series of current densities.\n",
    "\n",
    "    Inputs:\n",
    "    - current_density_series: array (N, 3, T), current density at each point over time\n",
    "    - pts: array (N, 3), point coordinates\n",
    "    - grid_spec (optional): tuple (n_columns, n_rows)\n",
    "    - cell_size (optional): tuple (dx, dy)\n",
    "    - volume_element: float\n",
    "\n",
    "    Outputs:\n",
    "    - grid_monopoles_series: array (n_columns, n_rows, T, 3)\n",
    "    - grid_centers_series:  array (n_columns, n_rows, T, 2)  # centers repeated over time\n",
    "    \"\"\"\n",
    "\n",
    "    _, _, T = current_density_series.shape\n",
    "\n",
    "    if (grid_spec is None and cell_size is None) or (grid_spec is not None and cell_size is not None):\n",
    "        raise ValueError(\"Provide either grid_spec or cell_size, not both.\")\n",
    "\n",
    "    xs = pts[:, 0]\n",
    "    ys = pts[:, 1]\n",
    "\n",
    "    # Bounding box\n",
    "    x_min, x_max = xs.min(), xs.max()\n",
    "    y_min, y_max = ys.min(), ys.max()\n",
    "    Lx, Ly = x_max - x_min, y_max - y_min\n",
    "\n",
    "    if grid_spec is not None:\n",
    "        n_columns, n_rows = grid_spec\n",
    "        # (dx, dy) not strictly needed further, but computed for completeness\n",
    "        dx = Lx / n_columns\n",
    "        dy = Ly / n_rows\n",
    "    else:\n",
    "        dx, dy = cell_size\n",
    "        n_columns = int(np.ceil(Lx / dx))\n",
    "        n_rows   = int(np.ceil(Ly / dy))\n",
    "\n",
    "    # Grid edges and centers\n",
    "    x_edges = np.linspace(x_min, x_max, n_columns + 1)\n",
    "    y_edges = np.linspace(y_min, y_max, n_rows + 1)\n",
    "\n",
    "    # Precompute centers (time-invariant)\n",
    "    grid_centers = np.zeros((n_columns, n_rows, 2))\n",
    "    for i in range(n_columns):\n",
    "        for j in range(n_rows):\n",
    "            x0, x1 = x_edges[i],   x_edges[i + 1]\n",
    "            y0, y1 = y_edges[j],   y_edges[j + 1]\n",
    "            grid_centers[i, j, 0] = 0.5 * (x0 + x1)\n",
    "            grid_centers[i, j, 1] = 0.5 * (y0 + y1)\n",
    "\n",
    "    # Allocate outputs\n",
    "    grid_monopoles_series = np.zeros((n_columns, n_rows, T, 3))\n",
    "    # Repeat centers along time so caller can index [:, :, t, :]\n",
    "    grid_centers_series = np.repeat(grid_centers[:, :, np.newaxis, :], T, axis=2)\n",
    "\n",
    "    # Time loop\n",
    "    for t in range(T):\n",
    "        J_t = current_density_series[:, :, t]  # (N, 3)\n",
    "\n",
    "        for i in range(n_columns):\n",
    "            for j in range(n_rows):\n",
    "                x0, x1 = x_edges[i],   x_edges[i + 1]\n",
    "                y0, y1 = y_edges[j],   y_edges[j + 1]\n",
    "\n",
    "                # Select points in the cell\n",
    "                mask = (\n",
    "                    (xs >= x0) & (xs <= x1) &\n",
    "                    (ys >= y0) & (ys <= y1)\n",
    "                )\n",
    "                J_cell   = J_t[mask]\n",
    "                pts_cell = pts[mask]\n",
    "\n",
    "                if J_cell.shape[0] > 0:\n",
    "                    grid_monopoles_series[i, j, t, :] = get_multipole_expansion_from_current_density(\n",
    "                        J_cell, pts_cell, volume_element=volume_element, order=order\n",
    "                    )\n",
    "\n",
    "    return grid_monopoles_series, grid_centers_series\n",
    "    \n",
    "    "
   ]
  },
  {
   "cell_type": "code",
   "execution_count": 5,
   "metadata": {},
   "outputs": [],
   "source": [
    "# Synthetic test setup\n",
    "N = 5  # 4 spatial points\n",
    "T = 3  # 3 time steps\n",
    "\n",
    "# Points in a 2x2 square grid, positions fixed\n",
    "pts = np.array([\n",
    "    [0, 0, 0],  # bottom-left\n",
    "    [0.3, 0, 0],\n",
    "    [1.1, 0, 0],  # bottom-right\n",
    "    [0, 1.1, 0],  # top-left\n",
    "    [1.1, 1.1, 0],  # top-right\n",
    "])\n",
    "\n",
    "# Current densities for each point over 3 time steps\n",
    "# Shape: (N, 3, T)\n",
    "current_density_series = np.zeros((N, 3, T))\n",
    "\n",
    "# Time step 0: all currents in +x\n",
    "current_density_series[:, 0, 0] = [1, 1, 2, 3, 4]  # Jx values\n",
    "# Time step 1: all currents in +y\n",
    "current_density_series[:, 1, 1] = [1, 1, 2, 3, 4]  # Jy values\n",
    "# Time step 2: diagonal currents\n",
    "current_density_series[:, 0, 2] = [1, 1, 1, 1, 1]  # Jx\n",
    "current_density_series[:, 1, 2] = [1, 0, 1, 1, 1]  # Jy"
   ]
  },
  {
   "cell_type": "code",
   "execution_count": null,
   "metadata": {},
   "outputs": [],
   "source": [
    "grid_monopoles_series, centers = get_grid_multipole_expansion_time(current_density_series, pts, grid_spec=(2,2))"
   ]
  },
  {
   "cell_type": "markdown",
   "metadata": {},
   "source": [
    "## Task 3"
   ]
  },
  {
   "cell_type": "code",
   "execution_count": 6,
   "metadata": {},
   "outputs": [],
   "source": [
    "from matplotlib import gridspec\n",
    "\n",
    "CBAR_PORTION = 0.05  # portion of width allocated to each colorbar\n",
    "\n",
    "def get_gridspec_colormap_plot_colormap():\n",
    "    \"\"\"\n",
    "    Returns a GridSpec with 3 columns: colormap1 | plot | colormap2\n",
    "    \"\"\"\n",
    "    return gridspec.GridSpec(\n",
    "        nrows=1, \n",
    "        ncols=3,\n",
    "        width_ratios=[CBAR_PORTION, 1, CBAR_PORTION],\n",
    "        wspace=0.1\n",
    "    )"
   ]
  },
  {
   "cell_type": "code",
   "execution_count": 7,
   "metadata": {},
   "outputs": [],
   "source": [
    "import numpy as np\n",
    "import matplotlib.pyplot as plt\n",
    "from mpl_toolkits.axes_grid1 import make_axes_locatable\n",
    "from mpl_toolkits.axes_grid1.inset_locator import inset_axes\n",
    "import torch\n",
    "\n",
    "def plot_vector_field_2d_monopoles(current_distribution, grid_monopoles, grid_centers, ax: plt.Axes = None, \n",
    "                         interpolation='none', cmap='plasma', monopole_cmap='viridis' ,color='black', units=None,\n",
    "                         units_mono=None, title=None, show=False, num_arrows=20, zoom_in_region=None):\n",
    "    \"\"\"\n",
    "    Visualizes the current distribution in 2D as a heatmap of magnitudes and arrows representing the flow direction.\n",
    "    On top of the heatmap, the monopoles are plotted with direction given by the components and magnitude by the colormap\n",
    "    \n",
    "    Parameters:\n",
    "    ----------\n",
    "    current_distribution : ndarray\n",
    "        An array of shape (2, W, H) representing current distribution vectors.\n",
    "\n",
    "    grid_monopoles : ndarray\n",
    "        An array of shape (n_columns, n_rows, 3) representing the monopoles computed for each element in the grid\n",
    "\n",
    "    grid_centers : ndarray\n",
    "        An array of shape (n_columns, n_rows, 2), representing the coordinates for the centers of each element in the grid\n",
    "    \n",
    "    interpolation : str, optional\n",
    "        The interpolation method to be used for the heatmap. Options are as provided by matplotlib's `imshow`.\n",
    "        Default is 'none'.\n",
    "    \n",
    "    cmap : str, optional\n",
    "        The colormap to be used for the heatmap. Options are as provided by matplotlib's colormaps.\n",
    "        Default is 'plasma'.\n",
    "\n",
    "    monopole_cmap : str, optional\n",
    "        The colormap to be used for the monopoles magnitude. Options are as provided by matplotlib's colormaps.\n",
    "        Default is 'viridis'.\n",
    "\n",
    "    The 'inferno' & 'cool' combination provides ease of view for the quivers with respect to the background. \n",
    "        \n",
    "    color : str, optional\n",
    "        The color of the arrows. Default is 'black'.\n",
    "            \n",
    "    units : str, optional\n",
    "        Show units on the colorbar for the current distribution. Default is None (no units).\n",
    "\n",
    "    units_mono : str, optional\n",
    "        Show units on the colorbar for the monopoles magnitude. Default is None (no units).\n",
    "        \n",
    "    title: str, optional\n",
    "        Title of the plot. Default is None (no title).\n",
    "    \n",
    "    show : bool, optional\n",
    "        If True, the plot is displayed using `plt.show()`. Otherwise, the plot is returned without being shown.\n",
    "        Default is False.\n",
    "    \n",
    "    num_arrows : int, optional\n",
    "        The approximate number of arrows to be used for the quiver plot across the width of the image.\n",
    "        The function will adjust the number of arrows to avoid overcrowding. Default is 20.\n",
    "    \n",
    "    zoom_in_region : tuple of two tuples, optional\n",
    "        A tuple representing the top-left and bottom-right corners of the rectangle for the inset. The format is \n",
    "        ((index_x_origin, index_y_origin), (index_x_diagonal, index_y_diagonal)). If provided, the function will render \n",
    "        the specified inset region with an arrow indicating the average flow direction. Default is None.\n",
    "    \n",
    "    Returns:\n",
    "    -------\n",
    "    fig : Figure\n",
    "        A matplotlib figure containing the visualizations.\n",
    "\n",
    "    Notes:\n",
    "    -----\n",
    "    - The main visualization provides a heatmap of the magnitudes and arrows indicating the flow direction of the \n",
    "      current distribution, and on top of that the arrows for the monopoles computed are plotted with the magnitude given by the colormap.\n",
    "    - The inset, if specified, provides a zoomed-in view of a particular region of the main visualization, allowing for \n",
    "      a closer inspection of details.\n",
    "\n",
    "    Examples:\n",
    "    --------\n",
    "    >>> dist = np.random.rand(2, 100, 100)\n",
    "    >>> fig = plot_vector_field_2d(dist, interpolation='bilinear', cmap='inferno', show=True, num_arrows=30, inset_region=((20, 20), (40, 40)))\n",
    "    \"\"\"  \n",
    "    # PARAMS\n",
    "    # figsize = get_figsize(n_components=1, n_maps=1, alignment='horizontal')\n",
    "    \n",
    "    # Create a figure with an axis if none is provided\n",
    "    if ax is None:\n",
    "        fig = plt.figure(frameon=False)\n",
    "        gs = get_gridspec_colormap_plot_colormap()\n",
    "\n",
    "        # Main plot\n",
    "        ax = fig.add_subplot(gs[1])\n",
    "\n",
    "        # Main plot position\n",
    "        ax_pos = ax.get_position()\n",
    "\n",
    "        # Customization parameters\n",
    "        cbar_height_ratio = 0.7  \n",
    "        cbar_width = 0.03      \n",
    "        cbar_padding = 0.1    \n",
    "\n",
    "        # The colorbars are positioned with respect to the center of the plot\n",
    "        ax_center_y = ax_pos.y0 + 0.5 * ax_pos.height\n",
    "        cbar_height = ax_pos.height * cbar_height_ratio\n",
    "        cbar_bottom = ax_center_y - 0.5 * cbar_height\n",
    "\n",
    "        left_cbar_x = ax_pos.x0 - cbar_width - cbar_padding\n",
    "        cax_left = fig.add_axes([left_cbar_x, cbar_bottom, cbar_width, cbar_height])\n",
    "\n",
    "        right_cbar_x = ax_pos.x1 + cbar_padding\n",
    "        cax_right = fig.add_axes([right_cbar_x, cbar_bottom, cbar_width, cbar_height])\n",
    "    else:\n",
    "        fig = ax.get_figure()\n",
    "        try:\n",
    "            cax_right = ax.cax2\n",
    "            cax_left = ax.cax1\n",
    "        except AttributeError:\n",
    "            divider = make_axes_locatable(ax)\n",
    "            cax_right = divider.append_axes(\"right\", size=\"5%\", pad=0.05)\n",
    "            cax_left = divider.append_axes(\"left\", size=\"5%\", pad=0.05)\n",
    "\n",
    "        \n",
    "    if isinstance(current_distribution, torch.Tensor):\n",
    "        current_distribution = current_distribution.detach().cpu().numpy()\n",
    "        \n",
    "    W, H = current_distribution.shape[-2:]\n",
    "    step_size = max(W, H) // num_arrows\n",
    "    \n",
    "    # Create averaged grid\n",
    "    x_centers = np.arange(step_size // 2, W, step_size)\n",
    "    y_centers = np.arange(step_size // 2, H, step_size)\n",
    "    \n",
    "    x_grid, y_grid = np.meshgrid(x_centers, y_centers, indexing='ij')\n",
    "    \n",
    "    # Initialize averaged fields\n",
    "    avg_u = np.zeros((len(x_centers), len(y_centers)))\n",
    "    avg_v = np.zeros((len(x_centers), len(y_centers)))\n",
    "    avg_m = np.zeros((len(x_centers), len(y_centers)))\n",
    "    \n",
    "    # Loop through and average\n",
    "    for i, x in enumerate(x_centers):\n",
    "        for j, y in enumerate(y_centers):\n",
    "            x_low, x_high = x - step_size // 2, x + step_size // 2 + 1\n",
    "            y_low, y_high = y - step_size // 2, y + step_size // 2 + 1\n",
    "            \n",
    "            avg_u[i, j] = np.mean(current_distribution[0, x_low:x_high, y_low:y_high])\n",
    "            avg_v[i, j] = np.mean(current_distribution[1, x_low:x_high, y_low:y_high])\n",
    "            avg_m[i, j] = np.sqrt(avg_v[i, j] ** 2 + avg_u[i, j] ** 2)\n",
    "    \n",
    "    magnitudes = np.hypot(current_distribution[0], current_distribution[1]).transpose(1, 0)\n",
    "    \n",
    "    im = ax.imshow(magnitudes, interpolation=interpolation, vmin=0, cmap=cmap, origin='lower')\n",
    "    \n",
    "    cbar = fig.colorbar(im, cax=cax_left, orientation='vertical')\n",
    "    cax_left.yaxis.set_ticks_position('left')\n",
    "    cax_left.yaxis.set_label_position('left')\n",
    "    if units:\n",
    "        cax_left.set_title(f\"Current field [{units}]\", fontsize=9, loc='center')\n",
    "        \n",
    "    if title:\n",
    "        if isinstance(title, str):\n",
    "            # Use .annotate() method to add the title text at the top of the figure\n",
    "            ax.annotate(title, xy=(0.5, 1.1), xycoords='axes fraction',\n",
    "                        xytext=(0, 0), textcoords='offset points',\n",
    "                        ha='center', va='baseline')\n",
    "    \n",
    "    # Compute scale of the arrow length. \n",
    "    # Scale gives number of data points per arrow length unit, \n",
    "    # e.g. A/mm^2 per plot width. We want the maximum arrow length to be 1/num_arrows of the plot width.\n",
    "    # How much data units per arrow length unit? \n",
    "    scale = 1.1 * avg_m.max() * num_arrows  # 1.1 to make the length of the longest arrow a bit shorter \n",
    "                                            # than the spacing between arrows blocks.  \n",
    "    \n",
    "    ax.quiver(\n",
    "        x_grid, y_grid, avg_u, avg_v, color=color,\n",
    "        pivot='mid', units='width', angles='uv',\n",
    "        scale=scale, scale_units='width',\n",
    "    )\n",
    "    \n",
    "    # --- Monopole Quivers ---\n",
    "    X = grid_centers[:, :, 0].flatten()\n",
    "    Y = grid_centers[:, :, 1].flatten()\n",
    "    U = grid_monopoles[:, :, 0].flatten()\n",
    "    V = grid_monopoles[:, :, 1].flatten()\n",
    "    W = grid_monopoles[:, :, 2].flatten()\n",
    "    magnitudes_mono = np.sqrt(U**2 + V**2 + W**2)\n",
    "\n",
    "    # To avoid overcrowding of the plot, the quivers for the monopoles direction have a length that is half the distance with the nearest \n",
    "    # element of the cell\n",
    "    dx = np.mean(np.diff(grid_centers[:, 0, 0]))  \n",
    "    dy = np.mean(np.diff(grid_centers[0, :, 1]))  \n",
    "\n",
    "    spacing = min(dx, dy)\n",
    "\n",
    "    # Normalize direction\n",
    "    norms_xy = np.sqrt(U**2 + V**2)\n",
    "    U_norm = np.divide(U, norms_xy, out=np.zeros_like(U), where=norms_xy != 0)\n",
    "    V_norm = np.divide(V, norms_xy, out=np.zeros_like(V), where=norms_xy != 0)\n",
    "\n",
    "    # Fixed arrow length\n",
    "    arrow_length = spacing * 0.5 # The value can be tweaked according to preference\n",
    "    U_fixed = U_norm * arrow_length\n",
    "    V_fixed = V_norm * arrow_length\n",
    "\n",
    "    # Plot arrows e\n",
    "    q = ax.quiver(\n",
    "        X, Y, U_fixed, V_fixed, magnitudes_mono,\n",
    "        cmap=monopole_cmap,\n",
    "        scale_units='xy',  \n",
    "        scale=1,          \n",
    "        width=0.004,\n",
    "        headlength=6,\n",
    "        headaxislength=5,\n",
    "        headwidth=4\n",
    ")\n",
    "\n",
    "    \n",
    "    cb2 = fig.colorbar(q, cax=cax_right, orientation='vertical')\n",
    "    if units_mono:\n",
    "        cax_right.set_title(f\"Monopole [{units_mono}]\", fontsize=9, loc='center')\n",
    "\n",
    "    if zoom_in_region is not None:\n",
    "        x0, y0 = zoom_in_region[0]\n",
    "        x1, y1 = zoom_in_region[1]\n",
    "        axins = inset_axes(ax, width=\"30%\", height=\"30%\", loc='upper left')\n",
    "        axins.imshow(magnitudes[x0:x1, y0:y1], cmap=cmap, origin='lower')\n",
    "        \n",
    "        axins.set_xticks([])\n",
    "        axins.set_yticks([])\n",
    "        \n",
    "    ax.set_xlabel(\"x\")\n",
    "    ax.set_ylabel(\"y\")\n",
    "    ax.set_aspect('equal')\n",
    "    \n",
    "    if not show:\n",
    "        plt.close()\n",
    "        \n",
    "    return fig\n",
    "\n"
   ]
  },
  {
   "cell_type": "code",
   "execution_count": 155,
   "metadata": {},
   "outputs": [
    {
     "data": {
      "image/png": "[encoded data removed]",
      "text/plain": [
       "<Figure size 640x480 with 3 Axes>"
      ]
     },
     "execution_count": 155,
     "metadata": {},
     "output_type": "execute_result"
    }
   ],
   "source": [
    "plot_vector_field_2d_monopoles(GridSampler.pts_to_grid(current_density, 250, 250)[0:2, :, :].permute(0, 2, 1), grid_monopoles, grid_centers, color='white', units=r'A/m$^2$', units_mono=r'Am', monopole_cmap='cool', cmap='inferno')"
   ]
  },
  {
   "cell_type": "markdown",
   "metadata": {},
   "source": [
    "## Task 4"
   ]
  },
  {
   "cell_type": "code",
   "execution_count": 8,
   "metadata": {},
   "outputs": [],
   "source": [
    "def time_shifted_plane_wave(J, shift_px=1, T=30, axis='x'):\n",
    "    \"\"\"\n",
    "    Create a time series J(x,y,t) by spatially shifting J(x,y). Only works for plane waves\n",
    "     \n",
    "    Inputs:\n",
    "    Jxy: array of shape (N,3), with columns Jx (or Jy), x and y\n",
    "    shift_px (optional): scalar value that indicates how many pixels (grid points) to shift the current for time step. Standard value is 1\n",
    "    T (optional): scalar value that indicates how many time steps are created. Standard value is 30\n",
    "    axis (optional): string that indicates the axis where shifting happens, i.e. the axis along which the wave propagates\n",
    "\n",
    "    Outputs:\n",
    "    current_density_series: array of shape (N,3,t), gives the current density expanded in time\n",
    "    pts: array of shape (N,3), gives every combination of grid points (e.g. if the grid is 250x250 with a resolution of 1, then N=62500). The z component is neglected\n",
    "    \"\"\"\n",
    "    # --- unpack input ---\n",
    "    Js = J[:, 0]             # current along x (your file uses this convention)\n",
    "    xs = J[:, 1]\n",
    "    ys = J[:, 2]\n",
    "\n",
    "    # infer grid\n",
    "    x_vals = np.unique(xs)\n",
    "    y_vals = np.unique(ys)\n",
    "    nx, ny = len(x_vals), len(y_vals)\n",
    "    N = nx*ny\n",
    "    assert N == len(Js), \"Points do not look like a regular grid.\"\n",
    "\n",
    "    # order points by (y, then x) to reshape to [ny, nx]\n",
    "    order = np.lexsort((xs, ys))          # primary key = ys, secondary = xs\n",
    "    inv_order = np.empty_like(order)\n",
    "    inv_order[order] = np.arange(N)\n",
    "\n",
    "    Js_grid = Js[order].reshape(ny, nx)\n",
    "\n",
    "    # choose roll axis\n",
    "    roll_axis = 1 if axis.lower() == 'x' else 0\n",
    "\n",
    "    # allocate time series (N, 3, T); only Jx is nonzero here\n",
    "    current_density_series = np.zeros((N, 3, T), dtype=Js.dtype)\n",
    "\n",
    "    for t in range(T):\n",
    "        shift = t * shift_px\n",
    "        Js_t_grid = np.roll(Js_grid, shift=shift, axis=roll_axis)  # wrap-around shift\n",
    "\n",
    "        # flatten back to original point order\n",
    "        Js_t_flat = Js_t_grid.reshape(N)[inv_order]\n",
    "\n",
    "        # fill Jx component, Jy,Jz = 0\n",
    "        current_density_series[:, 0, t] = Js_t_flat\n",
    "\n",
    "    # pts (x,y,0) unchanged\n",
    "    pts = np.stack([xs, ys, np.zeros_like(xs)], axis=1)\n",
    "    return current_density_series, pts\n"
   ]
  },
  {
   "cell_type": "code",
   "execution_count": null,
   "metadata": {},
   "outputs": [],
   "source": [
    "# build a 60-frame time series that shifts 2 pixels right every frame\n",
    "current_density_series, pts = time_shifted_plane_wave(\n",
    "    Jxy, shift_px=2, T=100, axis='x'\n",
    ")\n",
    "\n",
    "grid_monopoles_series, grid_centers_time = get_grid_multipole_expansion_time(current_density_series, pts, grid_spec=(15,15))"
   ]
  },
  {
   "cell_type": "code",
   "execution_count": 48,
   "metadata": {},
   "outputs": [
    {
     "data": {
      "image/png": "[encoded data removed]",
      "text/plain": [
       "<Figure size 640x480 with 3 Axes>"
      ]
     },
     "execution_count": 48,
     "metadata": {},
     "output_type": "execute_result"
    }
   ],
   "source": [
    "cds = current_density_series[:,:,0]\n",
    "gds = grid_monopoles_series[:,:,0]\n",
    "gcs = grid_centers_time[:,:,0]\n",
    "\n",
    "plot_vector_field_2d_monopoles(GridSampler.pts_to_grid(cds, 250, 250)[0:2, :, :].permute(0, 2, 1), gds, gcs, color='white', units=r'A/m$^2$', units_mono=r'A/m$^2$', monopole_cmap='cool', cmap='inferno')"
   ]
  },
  {
   "cell_type": "markdown",
   "metadata": {},
   "source": [
    "## Task 5"
   ]
  },
  {
   "cell_type": "code",
   "execution_count": 9,
   "metadata": {},
   "outputs": [],
   "source": [
    "def get_grid_multipole_expansion_time_3d(current_density_series, pts,\n",
    "                                        cell_size=None, grid_spec=None,\n",
    "                                        volume_element=None, order=0):\n",
    "    \"\"\"\n",
    "    Compute monopole expansion for each 3D cell (voxel) from time series of current densities. \n",
    "\n",
    "    Inputs:\n",
    "    - current_density_series: (N, 3, T) array, current density at each point over time\n",
    "    - pts: (N, 3) array, point coordinates\n",
    "    - grid_spec (optional): (nx, ny, nz) number of cells along each axis\n",
    "    - cell_size (optional): (dx, dy, dz) size of each cell\n",
    "    - volume_element: float, volume per sample\n",
    "\n",
    "    Outputs:\n",
    "    - grid_monopoles_series: (nx, ny, nz, T, 3)\n",
    "    - grid_centers_series: (nx, ny, nz, T, 3) centers repeated along time\n",
    "    \"\"\"\n",
    "\n",
    "    _, _, T = current_density_series.shape\n",
    "\n",
    "    if (grid_spec is None and cell_size is None) or (grid_spec is not None and cell_size is not None):\n",
    "        raise ValueError(\"Provide either grid_spec or cell_size, not both.\")\n",
    "\n",
    "    xs, ys, zs = pts[:, 0], pts[:, 1], pts[:, 2]\n",
    "    x_min, x_max = xs.min(), xs.max()\n",
    "    y_min, y_max = ys.min(), ys.max()\n",
    "    z_min, z_max = zs.min(), zs.max()\n",
    "    Lx, Ly, Lz = x_max - x_min, y_max - y_min, z_max - z_min\n",
    "\n",
    "    if grid_spec is not None:\n",
    "        nx, ny, nz = grid_spec\n",
    "        dx = Lx / nx\n",
    "        dy = Ly / ny\n",
    "        dz = Lz / nz\n",
    "    else:\n",
    "        dx, dy, dz = cell_size\n",
    "        nx = int(np.ceil(Lx / dx))\n",
    "        ny = int(np.ceil(Ly / dy))\n",
    "        nz = int(np.ceil(Lz / dz))\n",
    "\n",
    "    # Edges and centers\n",
    "    x_edges = np.linspace(x_min, x_max, nx + 1)\n",
    "    y_edges = np.linspace(y_min, y_max, ny + 1)\n",
    "    z_edges = np.linspace(z_min, z_max, nz + 1)\n",
    "\n",
    "    grid_centers = np.zeros((nx, ny, nz, 3))\n",
    "    for i in range(nx):\n",
    "        for j in range(ny):\n",
    "            for k in range(nz):\n",
    "                grid_centers[i, j, k, 0] = 0.5 * (x_edges[i] + x_edges[i+1])\n",
    "                grid_centers[i, j, k, 1] = 0.5 * (y_edges[j] + y_edges[j+1])\n",
    "                grid_centers[i, j, k, 2] = 0.5 * (z_edges[k] + z_edges[k+1])\n",
    "\n",
    "    grid_monopoles_series = np.zeros((nx, ny, nz, T, 3))\n",
    "    grid_centers_series = np.repeat(grid_centers[:, :, :, np.newaxis, :], T, axis=3)\n",
    "\n",
    "    for t in range(T):\n",
    "        J_t = current_density_series[:, :, t]  # (N, 3)\n",
    "        for i in range(nx):\n",
    "            for j in range(ny):\n",
    "                for k in range(nz):\n",
    "                    mask = (\n",
    "                        (xs >= x_edges[i]) & (xs <= x_edges[i+1]) &\n",
    "                        (ys >= y_edges[j]) & (ys <= y_edges[j+1]) &\n",
    "                        (zs >= z_edges[k]) & (zs <= z_edges[k+1])\n",
    "                    )\n",
    "                    if np.any(mask):\n",
    "                        r0_cell = grid_centers[i, j, k, :]\n",
    "                        grid_monopoles_series[i, j, k, t, :] = get_multipole_expansion_from_current_density(\n",
    "                            J_t[mask], pts[mask], volume_element=volume_element, order=order, r0=r0_cell\n",
    "                        )\n",
    "\n",
    "    return grid_monopoles_series, grid_centers_series\n"
   ]
  },
  {
   "cell_type": "code",
   "execution_count": 10,
   "metadata": {},
   "outputs": [],
   "source": [
    "def rescale_centers_to_index(grid_centers_xy, x_vals, y_vals, *, origin_lower=True, clip=True):\n",
    "    \"\"\"\n",
    "    Map physical (x,y) centers to image index space [0..nx-1]x[0..ny-1]. The plot is given in the index space rather than in cartesian coordinates\n",
    "\n",
    "    grid_centers_xy : (..., 2) array with [x, y] per center (slice already chosen).\n",
    "    x_vals, y_vals  : 1D arrays of the coordinates used in the grid.\n",
    "    origin_lower    : True if the plot has origin='lower' (matplotlib default for imshow with origin='lower'), otherwise False.\n",
    "    \"\"\"\n",
    "    xs_unique = np.asarray(x_vals)\n",
    "    ys_unique = np.asarray(y_vals)\n",
    "    if xs_unique.size == 0 or ys_unique.size == 0:\n",
    "        raise ValueError(\"x_vals / y_vals are empty\")\n",
    "    nx, ny = len(xs_unique), len(ys_unique)\n",
    "\n",
    "    x_min, x_max = xs_unique.min(), xs_unique.max()\n",
    "    y_min, y_max = ys_unique.min(), ys_unique.max()\n",
    "    dx = (x_max - x_min)\n",
    "    dy = (y_max - y_min)\n",
    "\n",
    "    gc = np.asarray(grid_centers_xy, dtype=float).copy()\n",
    "    # x index grows left→right\n",
    "    gc[..., 0] = (gc[..., 0] - x_min) / dx * (nx - 1)\n",
    "\n",
    "    # y index: choose direction based on plotting origin\n",
    "    if origin_lower:\n",
    "        # y increases bottom→top (imshow(origin='lower'))\n",
    "        gc[..., 1] = (gc[..., 1] - y_min) / dy * (ny - 1)\n",
    "    else:\n",
    "        # y increases top→bottom\n",
    "        gc[..., 1] = (y_max - gc[..., 1]) / dy * (ny - 1)\n",
    "\n",
    "    if clip:\n",
    "        gc[..., 0] = np.clip(gc[..., 0], 0, nx - 1)\n",
    "        gc[..., 1] = np.clip(gc[..., 1], 0, ny - 1)\n",
    "    return gc\n"
   ]
  },
  {
   "cell_type": "code",
   "execution_count": 75,
   "metadata": {},
   "outputs": [
    {
     "name": "stdout",
     "output_type": "stream",
     "text": [
      "(121203, 3)\n",
      "(121203, 3, 151)\n"
     ]
    }
   ],
   "source": [
    "N = 121203 # Number of points\n",
    "T = 151 # Time steps\n",
    "\n",
    "# shape is (N, 3*T)\n",
    "current_density_series_flat = np.loadtxt(\"/Users/ValerioDeSio/Desktop/PythonThesis/current_density_series2.csv\", delimiter=\",\")\n",
    "\n",
    "# Reshape to (N, 3, T)\n",
    "cds = current_density_series_flat.reshape(N, 3, T, order=\"F\")  # ← key fix\n",
    "\n",
    "pts = np.loadtxt(\"/Users/ValerioDeSio/Desktop/PythonThesis/pts2.csv\", delimiter=\",\")\n",
    "\n",
    "# unique sorted coordinates\n",
    "x_u = np.unique(np.round(pts[:,0], 12))\n",
    "y_u = np.unique(np.round(pts[:,1], 12))\n",
    "z_u = np.unique(np.round(pts[:,2], 12))\n",
    "\n",
    "# grid spacings (robust: median of diffs)\n",
    "dx = np.median(np.diff(x_u))\n",
    "dy = np.median(np.diff(y_u))\n",
    "dz = np.median(np.diff(z_u))\n",
    "\n",
    "volume_element = dx*dy*dz\n",
    "\n",
    "print(pts.shape)\n",
    "print(cds.shape)\n"
   ]
  },
  {
   "cell_type": "code",
   "execution_count": 76,
   "metadata": {},
   "outputs": [],
   "source": [
    "gds, gcs = get_grid_multipole_expansion_time_3d(\n",
    "    cds,\n",
    "    pts,\n",
    "    grid_spec=(19,19,1),  # 3D grid spec (x, y,z)\n",
    "    volume_element=volume_element\n",
    ")\n",
    "\n",
    "# Mask for z=0.0001 plane (midplane)\n",
    "mask_z0 = np.isclose(pts[:, 2], 0.0001, atol=1e-12)\n",
    "\n",
    "# Apply mask\n",
    "pts_z0 = pts[mask_z0]\n",
    "cds_z0 = cds[mask_z0]  # shape: (N_z0, 3, T)\n",
    "\n",
    "z_centers = gcs[:, :, :, 0, 2]\n",
    "z_idx = np.where(np.isclose(z_centers[0, 0, :], 0.0001, atol=1e-12))[0]\n",
    "z_idx = z_idx[0]\n",
    "\n",
    "gds_z0 = gds[:, :, z_idx, :, :]\n",
    "gcs_z0 = gcs[:, :, z_idx, :, :]"
   ]
  },
  {
   "cell_type": "code",
   "execution_count": 23,
   "metadata": {},
   "outputs": [],
   "source": [
    "t_idx = 50 # Change according to the time step we evaluate\n",
    "cds_t = cds_z0[:,:,t_idx]\n",
    "gds_t = gds_z0[:,:,t_idx]\n",
    "gcs_t = gcs_z0[:,:,t_idx]"
   ]
  },
  {
   "cell_type": "code",
   "execution_count": 24,
   "metadata": {},
   "outputs": [],
   "source": [
    "xs_unique = np.unique(np.round(pts_z0[:, 0], 12))\n",
    "ys_unique = np.unique(np.round(pts_z0[:, 1], 12))\n",
    "\n",
    "grid_centers_idx = rescale_centers_to_index(gcs_t, xs_unique, ys_unique)"
   ]
  },
  {
   "cell_type": "code",
   "execution_count": 25,
   "metadata": {},
   "outputs": [
    {
     "data": {
      "image/png": "[encoded data removed]",
      "text/plain": [
       "<Figure size 640x480 with 3 Axes>"
      ]
     },
     "execution_count": 25,
     "metadata": {},
     "output_type": "execute_result"
    }
   ],
   "source": [
    "plot_vector_field_2d_monopoles(GridSampler.pts_to_grid(cds_t, 201, 201)[0:2, :, :], gds_t, grid_centers_idx, color='white', units=r'A/m$^2$', units_mono=r'Am', monopole_cmap='cool', cmap='inferno')"
   ]
  },
  {
   "cell_type": "code",
   "execution_count": null,
   "metadata": {},
   "outputs": [
    {
     "name": "stdout",
     "output_type": "stream",
     "text": [
      "Saved frames to: frames_mono\n"
     ]
    }
   ],
   "source": [
    "import os\n",
    "\n",
    "out_dir = \"frames_mono\"             \n",
    "os.makedirs(out_dir, exist_ok=True)\n",
    "\n",
    "t_start, t_end, t_step = 0, 150, 1        \n",
    "\n",
    "\n",
    "\n",
    "for t_idx in range(t_start, t_end+1, t_step):\n",
    "    # current-density grid (2, W, H) in index space\n",
    "    cds_t = cds_z0[:,:,t_idx]                                        # (N_z, 3)\n",
    "    cds_grid = GridSampler.pts_to_grid(torch.tensor(cds_t[:,0:2]),\n",
    "                                       201, 201)              # (2, nx, ny)\n",
    "    cds_grid = cds_grid.numpy()                                     # to ndarray\n",
    "\n",
    "    # monopoles & centers at this time\n",
    "    gds_t = gds[:,:,z_idx,t_idx,:]                                  # (nx_m, ny_m, 3)\n",
    "    gcs_idx = grid_centers_idx                                 # (nx_m, ny_m, 2), already mapped\n",
    "\n",
    "    # Figure\n",
    "    fig = plot_vector_field_2d_monopoles(\n",
    "        current_distribution = cds_grid,                # (2, nx, ny)\n",
    "        grid_monopoles       = gds_t,                   # (nx_m, ny_m, 3)\n",
    "        grid_centers         = gcs_idx,                 # (nx_m, ny_m, 2) IN INDEX SPACE\n",
    "        interpolation='none',\n",
    "        cmap='inferno',\n",
    "        monopole_cmap='cool',\n",
    "        color='white',\n",
    "        units=r'A/m$^2$',\n",
    "        units_mono=r'A·m',\n",
    "        title=f't = {t_idx}',\n",
    "        show=True,            \n",
    "        num_arrows=25\n",
    "    )\n",
    "\n",
    "    # Save the frame\n",
    "    frame_path = os.path.join(out_dir, f\"frame_{t_idx:04d}.png\")\n",
    "    fig.savefig(frame_path, dpi=150, bbox_inches='tight')\n",
    "    plt.close(fig)\n",
    "\n",
    "print(f\"Saved frames to: {out_dir}\")\n",
    "\n",
    "# magick notebooks/frames_mono/frame_*.png monopoles.gif"
   ]
  },
  {
   "cell_type": "markdown",
   "metadata": {},
   "source": [
    "## Task 6"
   ]
  },
  {
   "cell_type": "code",
   "execution_count": null,
   "metadata": {},
   "outputs": [],
   "source": [
    "def get_b_from_monopoles_to_grid(grid_centers_series, grid_monopole_series, obs_pts, Nx, Ny):\n",
    "    \"\"\"\n",
    "    Computes the magnetic field from the monopoles\n",
    "    \n",
    "    Inputs: \n",
    "    - grid_centers_series : ndarray, array of size (nx, ny, nz, T, 3). \n",
    "    - grid_monopole_series: ndarray, array of size (nx, ny, nz, T, 3).\n",
    "    - obs_pts : ndarray, array of size (Nx*Ny, 3), sensor grid points (time-independent)\n",
    "    \n",
    "    Output:\n",
    "    - B_grid : ndarray, array of size (3, Nx, Ny, T), magnetic field in T\n",
    "    \"\"\"\n",
    "\n",
    "    MU0_OVER_4PI = 1e-7\n",
    "    nx, ny, nz, T, _ = grid_monopole_series.shape\n",
    "    N = nx * ny * nz\n",
    "    M = obs_pts.shape[0]\n",
    "    assert M == Nx*Ny, \"obs_pts must match Nx*Ny\"\n",
    "\n",
    "    # Flatten sources to (N, T, 3)\n",
    "    m_flat  = grid_monopole_series.reshape(N, T, 3)\n",
    "    r0_flat = grid_centers_series.reshape(N, T, 3)\n",
    "\n",
    "    # Centers are constant over time so grid_center_series(t0)=grid_center_series(t)\n",
    "\n",
    "    R = obs_pts[None, :, :] - r0_flat[:, 0, :][:, None, :]   # (N, M, 3)\n",
    "    R2  = np.sum(R*R, axis=2)                                # (N, M)\n",
    "    R32 = (R2) * np.sqrt(R2)                                 # (N, M)\n",
    "\n",
    "    B = np.empty((M, 3, T), dtype=m_flat.dtype)\n",
    "    for t in range(T):\n",
    "        mt = m_flat[:, t, :]                                 # (N, 3)\n",
    "        m_cross_R = np.cross(mt[:, None, :], R, axis=2)      # (N, M, 3)\n",
    "        Bt = (m_cross_R / R32[..., None]).sum(axis=0)        # (M, 3)\n",
    "        B[:, :, t] = MU0_OVER_4PI * Bt\n",
    "\n",
    "    return B.transpose(1,0,2).reshape(3, Nx, Ny, T)"
   ]
  },
  {
   "cell_type": "code",
   "execution_count": 77,
   "metadata": {},
   "outputs": [],
   "source": [
    "z_sensor = max(z_u) + 2e-3\n",
    "\n",
    "x_min, x_max = min(x_u), max(x_u)\n",
    "y_min, y_max = min(y_u), max(y_u)\n",
    "\n",
    "# Center of the slab\n",
    "x0 = 0.5 * (x_min + x_max)\n",
    "y0 = 0.5 * (y_min + y_max)\n",
    "\n",
    "# NV size\n",
    "FOVx = 2e-2\n",
    "FOVy = 2e-2\n",
    "\n",
    "# Resolution\n",
    "Nx = 201\n",
    "Ny = 201\n",
    "\n",
    "bounds = (x0-FOVx/2, x0+FOVx/2,\n",
    "          y0-FOVy/2, y0+FOVy/2, \n",
    "          z_sensor, z_sensor)\n",
    "\n",
    "sensor = RegularGridSensor(bounds=bounds, resolution=(Nx, Ny, 1))\n",
    "obs_pts = sensor.points"
   ]
  },
  {
   "cell_type": "code",
   "execution_count": 78,
   "metadata": {},
   "outputs": [],
   "source": [
    "B_grid = get_b_from_monopoles_to_grid(gcs, gds, obs_pts, Nx, Ny)"
   ]
  },
  {
   "cell_type": "code",
   "execution_count": 79,
   "metadata": {},
   "outputs": [
    {
     "data": {
      "text/plain": [
       "(3, 201, 201, 151)"
      ]
     },
     "execution_count": 79,
     "metadata": {},
     "output_type": "execute_result"
    }
   ],
   "source": [
    "B_grid.shape"
   ]
  },
  {
   "cell_type": "code",
   "execution_count": 157,
   "metadata": {},
   "outputs": [
    {
     "data": {
      "image/png": "[encoded data removed]",
      "text/plain": [
       "<Figure size 860x300 with 5 Axes>"
      ]
     },
     "metadata": {},
     "output_type": "display_data"
    }
   ],
   "source": [
    "t_idx = 150\n",
    "Bx, By, Bz = B_grid[0,:,:,t_idx], B_grid[1,:,:,t_idx], B_grid[2,:,:,t_idx]\n",
    "\n",
    "data=np.stack([Bx,By,Bz], axis=0)\n",
    "\n",
    "fig = plot_n_components(\n",
    "    data,\n",
    "    units='T',\n",
    "    cmap='inferno',\n",
    "    labels=['Bx','By','Bz'],\n",
    "    alignment='horizontal',\n",
    "    symmetric=True,\n",
    "    show=True\n",
    ")"
   ]
  },
  {
   "cell_type": "code",
   "execution_count": 48,
   "metadata": {},
   "outputs": [
    {
     "data": {
      "image/png": "[encoded data removed]",
      "text/plain": [
       "<Figure size 640x480 with 3 Axes>"
      ]
     },
     "execution_count": 48,
     "metadata": {},
     "output_type": "execute_result"
    }
   ],
   "source": [
    "cds_t = cds_z0[:,:,t_idx]\n",
    "gds_t = gds_z0[:,:,t_idx]\n",
    "gcs_t = gcs_z0[:,:,t_idx]\n",
    "\n",
    "plot_vector_field_2d_monopoles(GridSampler.pts_to_grid(cds_t, 201, 201)[0:2, :, :], gds_t, grid_centers_idx, color='white', units=r'A/m$^2$', units_mono=r'Am', monopole_cmap='cool', cmap='inferno')"
   ]
  },
  {
   "cell_type": "markdown",
   "metadata": {},
   "source": [
    "## Task 7"
   ]
  },
  {
   "cell_type": "code",
   "execution_count": null,
   "metadata": {},
   "outputs": [],
   "source": [
    "def grid_graph_from_monopoles(grid_centers):\n",
    "    \"\"\"\n",
    "    Build upright square lattice (grid graph) connections from a static 2D grid of 3D points. Assume they are sorted. The grid is generated as the\n",
    "    cartesian graph product of the path graphs\n",
    "\n",
    "    Input:\n",
    "    - grid_centers: ndarray, array of size (n_rows, n_cols, n_frames, 3). Grid of static 3D points.\n",
    "\n",
    "    Output:\n",
    "    - edges: list of ((x1, y1, z1), (x2, y2, z2)) tuples. Edges connecting each point to its right and top neighbors.\n",
    "    \"\"\"\n",
    "    \n",
    "    n_rows, n_cols, _, _ = grid_centers.shape\n",
    "    edges = []\n",
    "    \n",
    "    # Only use frame 0 since all are equal\n",
    "    grid = grid_centers[:, :, 0, :]\n",
    "\n",
    "    for i in range(n_rows):\n",
    "        for j in range(n_cols):\n",
    "            p = grid[i, j]\n",
    "\n",
    "            # Right neighbor\n",
    "            if j + 1 < n_cols:\n",
    "                p_right = grid[i, j + 1]\n",
    "                edges.append((p, p_right))\n",
    "            \n",
    "            # Top neighbor\n",
    "            if i + 1 < n_rows:\n",
    "                p_top = grid[i + 1, j]\n",
    "                edges.append((p, p_top))\n",
    "    \n",
    "    return edges\n"
   ]
  },
  {
   "cell_type": "code",
   "execution_count": 159,
   "metadata": {},
   "outputs": [],
   "source": [
    "gds, gcs = get_grid_multipole_expansion_time_3d(\n",
    "    cds,\n",
    "    pts,\n",
    "    grid_spec=(5,5,1),  # 3D grid spec (x, y,z)\n",
    "    volume_element=volume_element\n",
    ")\n",
    "\n",
    "# Mask for z=0.0001 plane (midplane)\n",
    "mask_z0 = np.isclose(pts[:, 2], 0.0001, atol=1e-12)\n",
    "\n",
    "# Apply mask\n",
    "pts_z0 = pts[mask_z0]\n",
    "cds_z0 = cds[mask_z0]  # shape: (N_z0, 3, T)\n",
    "\n",
    "z_centers = gcs[:, :, :, 0, 2]\n",
    "z_idx = np.where(np.isclose(z_centers[0, 0, :], 0.0001, atol=1e-12))[0]\n",
    "z_idx = z_idx[0]\n",
    "\n",
    "gds_z0 = gds[:, :, z_idx, :, :]\n",
    "gcs_z0 = gcs[:, :, z_idx, :, :]"
   ]
  },
  {
   "cell_type": "code",
   "execution_count": 160,
   "metadata": {},
   "outputs": [],
   "source": [
    "edges = grid_graph_from_monopoles(gcs_z0)"
   ]
  },
  {
   "cell_type": "code",
   "execution_count": 153,
   "metadata": {},
   "outputs": [],
   "source": [
    "from mpl_toolkits.mplot3d.art3d import Poly3DCollection\n",
    "\n",
    "def plot_grid_and_slab(bounds, gcs_z0, edges, frame=0, alpha=0.15):\n",
    "    \n",
    "    xmin, xmax, ymin, ymax, zmin, zmax = bounds\n",
    "    \n",
    "    fig = plt.figure()\n",
    "    ax = fig.add_subplot(111, projection='3d')\n",
    "\n",
    "    # Draw the slab (as 6 faces of a cuboid)\n",
    "    corners = np.array([\n",
    "        [xmin, ymin, zmin],\n",
    "        [xmax, ymin, zmin],\n",
    "        [xmax, ymax, zmin],\n",
    "        [xmin, ymax, zmin],\n",
    "        [xmin, ymin, zmax],\n",
    "        [xmax, ymin, zmax],\n",
    "        [xmax, ymax, zmax],\n",
    "        [xmin, ymax, zmax],\n",
    "    ])\n",
    "\n",
    "    faces = [\n",
    "        [corners[j] for j in [0, 1, 2, 3]],  # bottom\n",
    "        [corners[j] for j in [4, 5, 6, 7]],  # top\n",
    "        [corners[j] for j in [0, 1, 5, 4]],  # front\n",
    "        [corners[j] for j in [2, 3, 7, 6]],  # back\n",
    "        [corners[j] for j in [1, 2, 6, 5]],  # right\n",
    "        [corners[j] for j in [0, 3, 7, 4]],  # left\n",
    "    ]\n",
    "\n",
    "    slab = Poly3DCollection(faces, facecolors='gray', linewidths=1,\n",
    "                            edgecolors='gray', alpha=alpha)\n",
    "    ax.add_collection3d(slab)\n",
    "\n",
    "    # Plot the grid points at the selected frame\n",
    "    grid = gcs_z0[:, :, frame, :]\n",
    "    for i in range(grid.shape[0]):\n",
    "        for j in range(grid.shape[1]):\n",
    "            x, y, z = grid[i, j]\n",
    "            ax.scatter(x, y, z, c='red', s=20)\n",
    "\n",
    "    # Plot the edges\n",
    "    for p1, p2 in edges:\n",
    "        xs, ys, zs = zip(p1, p2)\n",
    "        ax.plot(xs, ys, zs, color='blue')\n",
    "\n",
    "    # Axes and aesthetics\n",
    "    ax.set_xlim(xmin, xmax)\n",
    "    ax.set_ylim(ymin, ymax)\n",
    "    ax.set_zlim(zmin, zmax)\n",
    "    ax.set_box_aspect([1, 1, 0.1])\n",
    "    ax.set_xticks([])\n",
    "    ax.set_yticks([])\n",
    "    ax.set_zticks([])               # Hide tick marks\n",
    "\n",
    "    ax.set_xlabel('X')\n",
    "    ax.set_ylabel('Y')\n",
    "\n",
    "    ax.xaxis._axinfo['grid'].update(color = (1,1,1,0))  # Make X grid invisible\n",
    "    ax.yaxis._axinfo['grid'].update(color = (1,1,1,0))  # Make Y grid invisible\n",
    "    ax.zaxis._axinfo['grid'].update(color = (1,1,1,0))  # Make Z grid invisible\n",
    "    \n",
    "    plt.show()"
   ]
  },
  {
   "cell_type": "code",
   "execution_count": 155,
   "metadata": {},
   "outputs": [
    {
     "data": {
      "image/png": "[encoded data removed]",
      "text/plain": [
       "<Figure size 640x480 with 1 Axes>"
      ]
     },
     "metadata": {},
     "output_type": "display_data"
    }
   ],
   "source": [
    "bounds = (min(x_u), max(x_u), min(y_u), max(y_u), min(z_u), max(z_u))\n",
    "\n",
    "edges = grid_graph_from_monopoles(gcs_z0)\n",
    "\n",
    "# Step 2: Plot everything\n",
    "plot_grid_and_slab(bounds, gcs_z0, edges, alpha=0.3)"
   ]
  },
  {
   "cell_type": "markdown",
   "metadata": {},
   "source": [
    "# -"
   ]
  },
  {
   "cell_type": "code",
   "execution_count": null,
   "metadata": {},
   "outputs": [
    {
     "data": {
      "text/plain": [
       "array([42642.41480104,     0.        ,     0.        ])"
      ]
     },
     "execution_count": 35,
     "metadata": {},
     "output_type": "execute_result"
    }
   ],
   "source": [
    "get_multipole_expansion_from_current_density(current_density, pts, volume_element=1, order=0)"
   ]
  },
  {
   "cell_type": "code",
   "execution_count": 36,
   "metadata": {},
   "outputs": [
    {
     "data": {
      "text/plain": [
       "array([       0.        ,        0.        , -2675811.52876557])"
      ]
     },
     "execution_count": 36,
     "metadata": {},
     "output_type": "execute_result"
    }
   ],
   "source": [
    "get_multipole_expansion_from_current_density(current_density, pts, volume_element=1, order=1)"
   ]
  },
  {
   "cell_type": "code",
   "execution_count": null,
   "metadata": {},
   "outputs": [],
   "source": [
    "# Get dipole moment of a current wire\n",
    "N = 100\n",
    "currents = np.stack([np.ones(N), np.zeros(N), np.zeros(N)], axis=1)\n",
    "xs, ys = np.meshgrid(np.linspace(0, 1, N), np.linspace(0, 1, N))\n",
    "pts = np.stack([xs, ys, np.zeros_like(xs)], axis=2)\n",
    "pts = pts.reshape(-1, 3)\n",
    "r0 = np.array([0, 0, 0])\n",
    "\n",
    "order = 1\n",
    "result = get_multipole_expansion_from_line_currents(currents, pts, order, r0=np.array([0, 0, 0]))\n",
    "print(result)"
   ]
  },
  {
   "cell_type": "code",
   "execution_count": null,
   "metadata": {},
   "outputs": [
    {
     "data": {
      "text/plain": [
       "(100, 3)"
      ]
     },
     "execution_count": 29,
     "metadata": {},
     "output_type": "execute_result"
    }
   ],
   "source": [
    "currents.shape"
   ]
  },
  {
   "cell_type": "code",
   "execution_count": 32,
   "metadata": {},
   "outputs": [
    {
     "data": {
      "image/png": "[encoded data removed]",
      "text/plain": [
       "<Figure size 640x480 with 2 Axes>"
      ]
     },
     "execution_count": 32,
     "metadata": {},
     "output_type": "execute_result"
    }
   ],
   "source": [
    "plot_vector_field_2d(GridSampler.pts_to_grid(current_density, 250, 250)[0:2, :, :].permute(0, 2, 1), color='white', units=r'A/mm$^2$')"
   ]
  },
  {
   "cell_type": "code",
   "execution_count": 8,
   "metadata": {},
   "outputs": [
    {
     "data": {
      "application/vnd.plotly.v1+json": {
       "config": {
        "plotlyServerURL": "https://plot.ly"
       },
       "data": [
        {
         "legendgroup": "Circle(id=13470365456)",
         "line": {
          "color": "#2e91e5",
          "dash": "solid",
          "width": 2.2
         },
         "mode": "lines",
         "name": "Circle (1A)",
         "opacity": 1,
         "showlegend": true,
         "type": "scatter3d",
         "x": {
          "bdata": "7FG4HoXr4b8AAAAAAADgvylcj8L1KNy/",
          "dtype": "f8"
         },
         "y": {
          "bdata": "n5mZmZmZuT8HXBQzJqaRPJ6ZmZmZmbk/",
          "dtype": "f8"
         },
         "z": {
          "bdata": "AAAAAAAAAAAAAAAAAAAAAAAAAAAAAAAA",
          "dtype": "f8"
         }
        },
        {
         "legendgroup": "Circle(id=13470365456)",
         "line": {
          "color": "#2e91e5",
          "dash": "solid",
          "width": 4.4
         },
         "mode": "lines",
         "name": "Circle (1A)",
         "opacity": 1,
         "showlegend": false,
         "type": "scatter3d",
         "x": {
          "bdata": "AAAAAAAA4D8OO5l48d/fP7q4jxwGgN8/gza1Gf7g3j/8PHgQGATeP/btgZUO69w/w876uhSY2z9CKmeo0Q3aP0lS70lbT9g/mgO6ITBg1j+k1LtHMETUP7lrAqaV/9E/T+YTAtctzz9qoSe6Ch7KP91ueKXq2cQ/6sG4mAfYvj8DskPVbb6zP8Pg3JCK+qA/ZmleIyynhr9Gvfvnx0Ksv7gA3MaSUbm/W4tEu4Mnwr+KRm+P3oHHv4ui6U0grcy/8nrP4HbP0L9mDB5prybTv2l7ry6JV9W/YtivgKBd179aVgZa5zTZv00RDoGt2dq/EcFi66dI3L80CfNW937dv8pDIAsuet6/k01ktlQ4378Anb1e7rffvxI4/Vz799+/Ejj9XPv3378Anb1e7rffv5RNZLZUON+/y0MgCy563r82CfNW937dvxLBYuunSNy/ThEOga3Z2r9bVgZa5zTZv2PYr4CgXde/a3uvLolX1b9nDB5prybTv/R6z+B2z9C/iKLpTSCtzL+KRm+P3oHHv1+LRLuDJ8K/0ADcxpJRub9Ivfvnx0Ksv6xpXiMsp4a/ouDckIr6oD/qsUPVbb6zP+nBuJgH2L4/2W54perZxD9ioSe6Ch7KP1LmEwLXLc8/uGsCppX/0T+h1LtHMETUP5UDuiEwYNY/SVLvSVtP2D9BKmeo0Q3aP8HO+roUmNs/9+2BlQ7r3D/8PHgQGATeP4I2tRn+4N4/ubiPHAaA3z8OO5l48d/fPwAAAAAAAOA/",
          "dtype": "f8"
         },
         "y": {
          "bdata": "AAAAAAAAAABR1twaFKCmP2kv/cBpibY/XKEKFdHKwD+Ng9pnSC/GP2zkvQRNZ8s/1mOmEjU00D9HhPmBTJTSP1QkS3kqz9Q/w2RLNlfg1j9M7/p+rsPYPz+04e1nddo/mTZJhh7y2z/5D0uB1zbdP41iE0YIQd4/QkhhgZsO3z+1nhFS9Z3fPw9QV4L27d8/x7orx/793z8QTXYB7s3fPwLhZ34kXt8/aOiINoKv3j8H+/wMZcPdP7TXfhKmm9w/4VyR0ZU62z86c1Cr96LZP5N+LE7819c/UuWnUTvd1T/UAOUDrLbTP17kb3edaNE/iztfwlvvzT8+yZWvgtHIP+upEw7wgcM/CWJbq48WvD/PPciZ+PCwP8QAKNPApZY/oQAo08Cllr/HPciZ+PCwvwBiW6uPFry/56kTDvCBw78yyZWvgtHIv4c7X8Jb782/XORvd51o0b/SAOUDrLbTv1Dlp1E73dW/kn4sTvzX1784c1Cr96LZv99ckdGVOtu/tdd+Eqab3L8H+/wMZcPdv2joiDaCr96/AeFnfiRe378QTXYB7s3fv8e6K8f+/d+/D1BXgvbt37+2nhFS9Z3fv0JIYYGbDt+/jmITRghB3r/7D0uB1zbdv5g2SYYe8tu/QLTh7Wd12r9O7/p+rsPYv8hkSzZX4Na/VCRLeSrP1L9JhPmBTJTSv9pjphI1NNC/a+S9BE1ny7+Qg9pnSC/Gv2KhChXRysC/fy/9wGmJtr9Q1twaFKCmvwdcFDMmpqG8",
          "dtype": "f8"
         },
         "z": {
          "bdata": "AAAAAAAAAAAAAAAAAAAAAAAAAAAAAAAAAAAAAAAAAAAAAAAAAAAAAAAAAAAAAAAAAAAAAAAAAAAAAAAAAAAAAAAAAAAAAAAAAAAAAAAAAAAAAAAAAAAAAAAAAAAAAAAAAAAAAAAAAAAAAAAAAAAAAAAAAAAAAAAAAAAAAAAAAAAAAAAAAAAAAAAAAAAAAAAAAAAAAAAAAAAAAAAAAAAAAAAAAAAAAAAAAAAAAAAAAAAAAAAAAAAAAAAAAAAAAAAAAAAAAAAAAAAAAAAAAAAAAAAAAAAAAAAAAAAAAAAAAAAAAAAAAAAAAAAAAAAAAAAAAAAAAAAAAAAAAAAAAAAAAAAAAAAAAAAAAAAAAAAAAAAAAAAAAAAAAAAAAAAAAAAAAAAAAAAAAAAAAAAAAAAAAAAAAAAAAAAAAAAAAAAAAAAAAAAAAAAAAAAAAAAAAAAAAAAAAAAAAAAAAAAAAAAAAAAAAAAAAAAAAAAAAAAAAAAAAAAAAAAAAAAAAAAAAAAAAAAAAAAAAAAAAAAAAAAAAAAAAAAAAAAAAAAAAAAAAAAAAAAAAAAAAAAAAAAAAAAAAAAAAAAAAAAAAAAAAAAAAAAAAAAAAAAAAAAAAAAAAAAAAAAAAAAAAAAAAAAAAAAAAAAAAAAAAAAAAAAAAAAAAAAAAAAAAAAAAAAAAAAAAAAAAAAAAAAAAAAAAAAAAAAAAAAAAAAAAAAAAAAAAAAAAAAAAAAAAAAAAAAAAAAAAAAAAAAAAAAAAAAAAAAAAAAA",
          "dtype": "f8"
         }
        }
       ],
       "layout": {
        "legend": {
         "itemsizing": "constant"
        },
        "scene": {
         "aspectmode": "manual",
         "aspectratio": {
          "x": 1,
          "y": 1,
          "z": 1
         },
         "camera": {
          "eye": {
           "x": 1,
           "y": -1.5,
           "z": 1.4
          }
         },
         "xaxis": {
          "autorange": false,
          "range": [
           -0.56,
           0.5
          ],
          "title": {
           "text": "x (m)"
          }
         },
         "yaxis": {
          "autorange": false,
          "range": [
           -0.53,
           0.53
          ],
          "title": {
           "text": "y (m)"
          }
         },
         "zaxis": {
          "autorange": false,
          "range": [
           -0.53,
           0.53
          ],
          "title": {
           "text": "z (m)"
          }
         }
        },
        "template": {
         "data": {
          "bar": [
           {
            "error_x": {
             "color": "#2a3f5f"
            },
            "error_y": {
             "color": "#2a3f5f"
            },
            "marker": {
             "line": {
              "color": "#E5ECF6",
              "width": 0.5
             },
             "pattern": {
              "fillmode": "overlay",
              "size": 10,
              "solidity": 0.2
             }
            },
            "type": "bar"
           }
          ],
          "barpolar": [
           {
            "marker": {
             "line": {
              "color": "#E5ECF6",
              "width": 0.5
             },
             "pattern": {
              "fillmode": "overlay",
              "size": 10,
              "solidity": 0.2
             }
            },
            "type": "barpolar"
           }
          ],
          "carpet": [
           {
            "aaxis": {
             "endlinecolor": "#2a3f5f",
             "gridcolor": "white",
             "linecolor": "white",
             "minorgridcolor": "white",
             "startlinecolor": "#2a3f5f"
            },
            "baxis": {
             "endlinecolor": "#2a3f5f",
             "gridcolor": "white",
             "linecolor": "white",
             "minorgridcolor": "white",
             "startlinecolor": "#2a3f5f"
            },
            "type": "carpet"
           }
          ],
          "choropleth": [
           {
            "colorbar": {
             "outlinewidth": 0,
             "ticks": ""
            },
            "type": "choropleth"
           }
          ],
          "contour": [
           {
            "colorbar": {
             "outlinewidth": 0,
             "ticks": ""
            },
            "colorscale": [
             [
              0,
              "#0d0887"
             ],
             [
              0.1111111111111111,
              "#46039f"
             ],
             [
              0.2222222222222222,
              "#7201a8"
             ],
             [
              0.3333333333333333,
              "#9c179e"
             ],
             [
              0.4444444444444444,
              "#bd3786"
             ],
             [
              0.5555555555555556,
              "#d8576b"
             ],
             [
              0.6666666666666666,
              "#ed7953"
             ],
             [
              0.7777777777777778,
              "#fb9f3a"
             ],
             [
              0.8888888888888888,
              "#fdca26"
             ],
             [
              1,
              "#f0f921"
             ]
            ],
            "type": "contour"
           }
          ],
          "contourcarpet": [
           {
            "colorbar": {
             "outlinewidth": 0,
             "ticks": ""
            },
            "type": "contourcarpet"
           }
          ],
          "heatmap": [
           {
            "colorbar": {
             "outlinewidth": 0,
             "ticks": ""
            },
            "colorscale": [
             [
              0,
              "#0d0887"
             ],
             [
              0.1111111111111111,
              "#46039f"
             ],
             [
              0.2222222222222222,
              "#7201a8"
             ],
             [
              0.3333333333333333,
              "#9c179e"
             ],
             [
              0.4444444444444444,
              "#bd3786"
             ],
             [
              0.5555555555555556,
              "#d8576b"
             ],
             [
              0.6666666666666666,
              "#ed7953"
             ],
             [
              0.7777777777777778,
              "#fb9f3a"
             ],
             [
              0.8888888888888888,
              "#fdca26"
             ],
             [
              1,
              "#f0f921"
             ]
            ],
            "type": "heatmap"
           }
          ],
          "histogram": [
           {
            "marker": {
             "pattern": {
              "fillmode": "overlay",
              "size": 10,
              "solidity": 0.2
             }
            },
            "type": "histogram"
           }
          ],
          "histogram2d": [
           {
            "colorbar": {
             "outlinewidth": 0,
             "ticks": ""
            },
            "colorscale": [
             [
              0,
              "#0d0887"
             ],
             [
              0.1111111111111111,
              "#46039f"
             ],
             [
              0.2222222222222222,
              "#7201a8"
             ],
             [
              0.3333333333333333,
              "#9c179e"
             ],
             [
              0.4444444444444444,
              "#bd3786"
             ],
             [
              0.5555555555555556,
              "#d8576b"
             ],
             [
              0.6666666666666666,
              "#ed7953"
             ],
             [
              0.7777777777777778,
              "#fb9f3a"
             ],
             [
              0.8888888888888888,
              "#fdca26"
             ],
             [
              1,
              "#f0f921"
             ]
            ],
            "type": "histogram2d"
           }
          ],
          "histogram2dcontour": [
           {
            "colorbar": {
             "outlinewidth": 0,
             "ticks": ""
            },
            "colorscale": [
             [
              0,
              "#0d0887"
             ],
             [
              0.1111111111111111,
              "#46039f"
             ],
             [
              0.2222222222222222,
              "#7201a8"
             ],
             [
              0.3333333333333333,
              "#9c179e"
             ],
             [
              0.4444444444444444,
              "#bd3786"
             ],
             [
              0.5555555555555556,
              "#d8576b"
             ],
             [
              0.6666666666666666,
              "#ed7953"
             ],
             [
              0.7777777777777778,
              "#fb9f3a"
             ],
             [
              0.8888888888888888,
              "#fdca26"
             ],
             [
              1,
              "#f0f921"
             ]
            ],
            "type": "histogram2dcontour"
           }
          ],
          "mesh3d": [
           {
            "colorbar": {
             "outlinewidth": 0,
             "ticks": ""
            },
            "type": "mesh3d"
           }
          ],
          "parcoords": [
           {
            "line": {
             "colorbar": {
              "outlinewidth": 0,
              "ticks": ""
             }
            },
            "type": "parcoords"
           }
          ],
          "pie": [
           {
            "automargin": true,
            "type": "pie"
           }
          ],
          "scatter": [
           {
            "fillpattern": {
             "fillmode": "overlay",
             "size": 10,
             "solidity": 0.2
            },
            "type": "scatter"
           }
          ],
          "scatter3d": [
           {
            "line": {
             "colorbar": {
              "outlinewidth": 0,
              "ticks": ""
             }
            },
            "marker": {
             "colorbar": {
              "outlinewidth": 0,
              "ticks": ""
             }
            },
            "type": "scatter3d"
           }
          ],
          "scattercarpet": [
           {
            "marker": {
             "colorbar": {
              "outlinewidth": 0,
              "ticks": ""
             }
            },
            "type": "scattercarpet"
           }
          ],
          "scattergeo": [
           {
            "marker": {
             "colorbar": {
              "outlinewidth": 0,
              "ticks": ""
             }
            },
            "type": "scattergeo"
           }
          ],
          "scattergl": [
           {
            "marker": {
             "colorbar": {
              "outlinewidth": 0,
              "ticks": ""
             }
            },
            "type": "scattergl"
           }
          ],
          "scattermap": [
           {
            "marker": {
             "colorbar": {
              "outlinewidth": 0,
              "ticks": ""
             }
            },
            "type": "scattermap"
           }
          ],
          "scattermapbox": [
           {
            "marker": {
             "colorbar": {
              "outlinewidth": 0,
              "ticks": ""
             }
            },
            "type": "scattermapbox"
           }
          ],
          "scatterpolar": [
           {
            "marker": {
             "colorbar": {
              "outlinewidth": 0,
              "ticks": ""
             }
            },
            "type": "scatterpolar"
           }
          ],
          "scatterpolargl": [
           {
            "marker": {
             "colorbar": {
              "outlinewidth": 0,
              "ticks": ""
             }
            },
            "type": "scatterpolargl"
           }
          ],
          "scatterternary": [
           {
            "marker": {
             "colorbar": {
              "outlinewidth": 0,
              "ticks": ""
             }
            },
            "type": "scatterternary"
           }
          ],
          "surface": [
           {
            "colorbar": {
             "outlinewidth": 0,
             "ticks": ""
            },
            "colorscale": [
             [
              0,
              "#0d0887"
             ],
             [
              0.1111111111111111,
              "#46039f"
             ],
             [
              0.2222222222222222,
              "#7201a8"
             ],
             [
              0.3333333333333333,
              "#9c179e"
             ],
             [
              0.4444444444444444,
              "#bd3786"
             ],
             [
              0.5555555555555556,
              "#d8576b"
             ],
             [
              0.6666666666666666,
              "#ed7953"
             ],
             [
              0.7777777777777778,
              "#fb9f3a"
             ],
             [
              0.8888888888888888,
              "#fdca26"
             ],
             [
              1,
              "#f0f921"
             ]
            ],
            "type": "surface"
           }
          ],
          "table": [
           {
            "cells": {
             "fill": {
              "color": "#EBF0F8"
             },
             "line": {
              "color": "white"
             }
            },
            "header": {
             "fill": {
              "color": "#C8D4E3"
             },
             "line": {
              "color": "white"
             }
            },
            "type": "table"
           }
          ]
         },
         "layout": {
          "annotationdefaults": {
           "arrowcolor": "#2a3f5f",
           "arrowhead": 0,
           "arrowwidth": 1
          },
          "autotypenumbers": "strict",
          "coloraxis": {
           "colorbar": {
            "outlinewidth": 0,
            "ticks": ""
           }
          },
          "colorscale": {
           "diverging": [
            [
             0,
             "#8e0152"
            ],
            [
             0.1,
             "#c51b7d"
            ],
            [
             0.2,
             "#de77ae"
            ],
            [
             0.3,
             "#f1b6da"
            ],
            [
             0.4,
             "#fde0ef"
            ],
            [
             0.5,
             "#f7f7f7"
            ],
            [
             0.6,
             "#e6f5d0"
            ],
            [
             0.7,
             "#b8e186"
            ],
            [
             0.8,
             "#7fbc41"
            ],
            [
             0.9,
             "#4d9221"
            ],
            [
             1,
             "#276419"
            ]
           ],
           "sequential": [
            [
             0,
             "#0d0887"
            ],
            [
             0.1111111111111111,
             "#46039f"
            ],
            [
             0.2222222222222222,
             "#7201a8"
            ],
            [
             0.3333333333333333,
             "#9c179e"
            ],
            [
             0.4444444444444444,
             "#bd3786"
            ],
            [
             0.5555555555555556,
             "#d8576b"
            ],
            [
             0.6666666666666666,
             "#ed7953"
            ],
            [
             0.7777777777777778,
             "#fb9f3a"
            ],
            [
             0.8888888888888888,
             "#fdca26"
            ],
            [
             1,
             "#f0f921"
            ]
           ],
           "sequentialminus": [
            [
             0,
             "#0d0887"
            ],
            [
             0.1111111111111111,
             "#46039f"
            ],
            [
             0.2222222222222222,
             "#7201a8"
            ],
            [
             0.3333333333333333,
             "#9c179e"
            ],
            [
             0.4444444444444444,
             "#bd3786"
            ],
            [
             0.5555555555555556,
             "#d8576b"
            ],
            [
             0.6666666666666666,
             "#ed7953"
            ],
            [
             0.7777777777777778,
             "#fb9f3a"
            ],
            [
             0.8888888888888888,
             "#fdca26"
            ],
            [
             1,
             "#f0f921"
            ]
           ]
          },
          "colorway": [
           "#636efa",
           "#EF553B",
           "#00cc96",
           "#ab63fa",
           "#FFA15A",
           "#19d3f3",
           "#FF6692",
           "#B6E880",
           "#FF97FF",
           "#FECB52"
          ],
          "font": {
           "color": "#2a3f5f"
          },
          "geo": {
           "bgcolor": "white",
           "lakecolor": "white",
           "landcolor": "#E5ECF6",
           "showlakes": true,
           "showland": true,
           "subunitcolor": "white"
          },
          "hoverlabel": {
           "align": "left"
          },
          "hovermode": "closest",
          "mapbox": {
           "style": "light"
          },
          "paper_bgcolor": "white",
          "plot_bgcolor": "#E5ECF6",
          "polar": {
           "angularaxis": {
            "gridcolor": "white",
            "linecolor": "white",
            "ticks": ""
           },
           "bgcolor": "#E5ECF6",
           "radialaxis": {
            "gridcolor": "white",
            "linecolor": "white",
            "ticks": ""
           }
          },
          "scene": {
           "xaxis": {
            "backgroundcolor": "#E5ECF6",
            "gridcolor": "white",
            "gridwidth": 2,
            "linecolor": "white",
            "showbackground": true,
            "ticks": "",
            "zerolinecolor": "white"
           },
           "yaxis": {
            "backgroundcolor": "#E5ECF6",
            "gridcolor": "white",
            "gridwidth": 2,
            "linecolor": "white",
            "showbackground": true,
            "ticks": "",
            "zerolinecolor": "white"
           },
           "zaxis": {
            "backgroundcolor": "#E5ECF6",
            "gridcolor": "white",
            "gridwidth": 2,
            "linecolor": "white",
            "showbackground": true,
            "ticks": "",
            "zerolinecolor": "white"
           }
          },
          "shapedefaults": {
           "line": {
            "color": "#2a3f5f"
           }
          },
          "ternary": {
           "aaxis": {
            "gridcolor": "white",
            "linecolor": "white",
            "ticks": ""
           },
           "baxis": {
            "gridcolor": "white",
            "linecolor": "white",
            "ticks": ""
           },
           "bgcolor": "#E5ECF6",
           "caxis": {
            "gridcolor": "white",
            "linecolor": "white",
            "ticks": ""
           }
          },
          "title": {
           "x": 0.05
          },
          "xaxis": {
           "automargin": true,
           "gridcolor": "white",
           "linecolor": "white",
           "ticks": "",
           "title": {
            "standoff": 15
           },
           "zerolinecolor": "white",
           "zerolinewidth": 2
          },
          "yaxis": {
           "automargin": true,
           "gridcolor": "white",
           "linecolor": "white",
           "ticks": "",
           "title": {
            "standoff": 15
           },
           "zerolinecolor": "white",
           "zerolinewidth": 2
          }
         }
        }
       }
      }
     },
     "metadata": {},
     "output_type": "display_data"
    }
   ],
   "source": [
    "loop = magpy.current.Circle(current=1, diameter=1)\n",
    "\n",
    "loop.show()"
   ]
  },
  {
   "cell_type": "code",
   "execution_count": 7,
   "metadata": {},
   "outputs": [
    {
     "data": {
      "application/vnd.plotly.v1+json": {
       "config": {
        "plotlyServerURL": "https://plot.ly"
       },
       "data": [
        {
         "legendgroup": "Circle(id=13415888720)",
         "line": {
          "color": "#2e91e5",
          "dash": "solid",
          "width": 2.2
         },
         "mode": "lines",
         "name": "Circle (1A)",
         "opacity": 1,
         "showlegend": true,
         "type": "scatter3d",
         "x": {
          "bdata": "7FG4HoXr4b8AAAAAAADgvylcj8L1KNy/",
          "dtype": "f8"
         },
         "y": {
          "bdata": "n5mZmZmZuT8HXBQzJqaRPJ6ZmZmZmbk/",
          "dtype": "f8"
         },
         "z": {
          "bdata": "AAAAAAAAAAAAAAAAAAAAAAAAAAAAAAAA",
          "dtype": "f8"
         }
        },
        {
         "legendgroup": "Circle(id=13415888720)",
         "line": {
          "color": "#2e91e5",
          "dash": "solid",
          "width": 4.4
         },
         "mode": "lines",
         "name": "Circle (1A)",
         "opacity": 1,
         "showlegend": false,
         "type": "scatter3d",
         "x": {
          "bdata": "AAAAAAAA4D8OO5l48d/fP7q4jxwGgN8/gza1Gf7g3j/8PHgQGATeP/btgZUO69w/w876uhSY2z9CKmeo0Q3aP0lS70lbT9g/mgO6ITBg1j+k1LtHMETUP7lrAqaV/9E/T+YTAtctzz9qoSe6Ch7KP91ueKXq2cQ/6sG4mAfYvj8DskPVbb6zP8Pg3JCK+qA/ZmleIyynhr9Gvfvnx0Ksv7gA3MaSUbm/W4tEu4Mnwr+KRm+P3oHHv4ui6U0grcy/8nrP4HbP0L9mDB5prybTv2l7ry6JV9W/YtivgKBd179aVgZa5zTZv00RDoGt2dq/EcFi66dI3L80CfNW937dv8pDIAsuet6/k01ktlQ4378Anb1e7rffvxI4/Vz799+/Ejj9XPv3378Anb1e7rffv5RNZLZUON+/y0MgCy563r82CfNW937dvxLBYuunSNy/ThEOga3Z2r9bVgZa5zTZv2PYr4CgXde/a3uvLolX1b9nDB5prybTv/R6z+B2z9C/iKLpTSCtzL+KRm+P3oHHv1+LRLuDJ8K/0ADcxpJRub9Ivfvnx0Ksv6xpXiMsp4a/ouDckIr6oD/qsUPVbb6zP+nBuJgH2L4/2W54perZxD9ioSe6Ch7KP1LmEwLXLc8/uGsCppX/0T+h1LtHMETUP5UDuiEwYNY/SVLvSVtP2D9BKmeo0Q3aP8HO+roUmNs/9+2BlQ7r3D/8PHgQGATeP4I2tRn+4N4/ubiPHAaA3z8OO5l48d/fPwAAAAAAAOA/",
          "dtype": "f8"
         },
         "y": {
          "bdata": "AAAAAAAAAABR1twaFKCmP2kv/cBpibY/XKEKFdHKwD+Ng9pnSC/GP2zkvQRNZ8s/1mOmEjU00D9HhPmBTJTSP1QkS3kqz9Q/w2RLNlfg1j9M7/p+rsPYPz+04e1nddo/mTZJhh7y2z/5D0uB1zbdP41iE0YIQd4/QkhhgZsO3z+1nhFS9Z3fPw9QV4L27d8/x7orx/793z8QTXYB7s3fPwLhZ34kXt8/aOiINoKv3j8H+/wMZcPdP7TXfhKmm9w/4VyR0ZU62z86c1Cr96LZP5N+LE7819c/UuWnUTvd1T/UAOUDrLbTP17kb3edaNE/iztfwlvvzT8+yZWvgtHIP+upEw7wgcM/CWJbq48WvD/PPciZ+PCwP8QAKNPApZY/oQAo08Cllr/HPciZ+PCwvwBiW6uPFry/56kTDvCBw78yyZWvgtHIv4c7X8Jb782/XORvd51o0b/SAOUDrLbTv1Dlp1E73dW/kn4sTvzX1784c1Cr96LZv99ckdGVOtu/tdd+Eqab3L8H+/wMZcPdv2joiDaCr96/AeFnfiRe378QTXYB7s3fv8e6K8f+/d+/D1BXgvbt37+2nhFS9Z3fv0JIYYGbDt+/jmITRghB3r/7D0uB1zbdv5g2SYYe8tu/QLTh7Wd12r9O7/p+rsPYv8hkSzZX4Na/VCRLeSrP1L9JhPmBTJTSv9pjphI1NNC/a+S9BE1ny7+Qg9pnSC/Gv2KhChXRysC/fy/9wGmJtr9Q1twaFKCmvwdcFDMmpqG8",
          "dtype": "f8"
         },
         "z": {
          "bdata": "AAAAAAAAAAAAAAAAAAAAAAAAAAAAAAAAAAAAAAAAAAAAAAAAAAAAAAAAAAAAAAAAAAAAAAAAAAAAAAAAAAAAAAAAAAAAAAAAAAAAAAAAAAAAAAAAAAAAAAAAAAAAAAAAAAAAAAAAAAAAAAAAAAAAAAAAAAAAAAAAAAAAAAAAAAAAAAAAAAAAAAAAAAAAAAAAAAAAAAAAAAAAAAAAAAAAAAAAAAAAAAAAAAAAAAAAAAAAAAAAAAAAAAAAAAAAAAAAAAAAAAAAAAAAAAAAAAAAAAAAAAAAAAAAAAAAAAAAAAAAAAAAAAAAAAAAAAAAAAAAAAAAAAAAAAAAAAAAAAAAAAAAAAAAAAAAAAAAAAAAAAAAAAAAAAAAAAAAAAAAAAAAAAAAAAAAAAAAAAAAAAAAAAAAAAAAAAAAAAAAAAAAAAAAAAAAAAAAAAAAAAAAAAAAAAAAAAAAAAAAAAAAAAAAAAAAAAAAAAAAAAAAAAAAAAAAAAAAAAAAAAAAAAAAAAAAAAAAAAAAAAAAAAAAAAAAAAAAAAAAAAAAAAAAAAAAAAAAAAAAAAAAAAAAAAAAAAAAAAAAAAAAAAAAAAAAAAAAAAAAAAAAAAAAAAAAAAAAAAAAAAAAAAAAAAAAAAAAAAAAAAAAAAAAAAAAAAAAAAAAAAAAAAAAAAAAAAAAAAAAAAAAAAAAAAAAAAAAAAAAAAAAAAAAAAAAAAAAAAAAAAAAAAAAAAAAAAAAAAAAAAAAAAAAAAAAAAAAAAAAAAAAAAAA",
          "dtype": "f8"
         }
        }
       ],
       "layout": {
        "legend": {
         "itemsizing": "constant"
        },
        "scene": {
         "aspectmode": "manual",
         "aspectratio": {
          "x": 1,
          "y": 1,
          "z": 1
         },
         "camera": {
          "eye": {
           "x": 1,
           "y": -1.5,
           "z": 1.4
          }
         },
         "xaxis": {
          "autorange": false,
          "range": [
           -0.56,
           0.5
          ],
          "title": {
           "text": "x (m)"
          }
         },
         "yaxis": {
          "autorange": false,
          "range": [
           -0.53,
           0.53
          ],
          "title": {
           "text": "y (m)"
          }
         },
         "zaxis": {
          "autorange": false,
          "range": [
           -0.53,
           0.53
          ],
          "title": {
           "text": "z (m)"
          }
         }
        },
        "template": {
         "data": {
          "bar": [
           {
            "error_x": {
             "color": "#2a3f5f"
            },
            "error_y": {
             "color": "#2a3f5f"
            },
            "marker": {
             "line": {
              "color": "#E5ECF6",
              "width": 0.5
             },
             "pattern": {
              "fillmode": "overlay",
              "size": 10,
              "solidity": 0.2
             }
            },
            "type": "bar"
           }
          ],
          "barpolar": [
           {
            "marker": {
             "line": {
              "color": "#E5ECF6",
              "width": 0.5
             },
             "pattern": {
              "fillmode": "overlay",
              "size": 10,
              "solidity": 0.2
             }
            },
            "type": "barpolar"
           }
          ],
          "carpet": [
           {
            "aaxis": {
             "endlinecolor": "#2a3f5f",
             "gridcolor": "white",
             "linecolor": "white",
             "minorgridcolor": "white",
             "startlinecolor": "#2a3f5f"
            },
            "baxis": {
             "endlinecolor": "#2a3f5f",
             "gridcolor": "white",
             "linecolor": "white",
             "minorgridcolor": "white",
             "startlinecolor": "#2a3f5f"
            },
            "type": "carpet"
           }
          ],
          "choropleth": [
           {
            "colorbar": {
             "outlinewidth": 0,
             "ticks": ""
            },
            "type": "choropleth"
           }
          ],
          "contour": [
           {
            "colorbar": {
             "outlinewidth": 0,
             "ticks": ""
            },
            "colorscale": [
             [
              0,
              "#0d0887"
             ],
             [
              0.1111111111111111,
              "#46039f"
             ],
             [
              0.2222222222222222,
              "#7201a8"
             ],
             [
              0.3333333333333333,
              "#9c179e"
             ],
             [
              0.4444444444444444,
              "#bd3786"
             ],
             [
              0.5555555555555556,
              "#d8576b"
             ],
             [
              0.6666666666666666,
              "#ed7953"
             ],
             [
              0.7777777777777778,
              "#fb9f3a"
             ],
             [
              0.8888888888888888,
              "#fdca26"
             ],
             [
              1,
              "#f0f921"
             ]
            ],
            "type": "contour"
           }
          ],
          "contourcarpet": [
           {
            "colorbar": {
             "outlinewidth": 0,
             "ticks": ""
            },
            "type": "contourcarpet"
           }
          ],
          "heatmap": [
           {
            "colorbar": {
             "outlinewidth": 0,
             "ticks": ""
            },
            "colorscale": [
             [
              0,
              "#0d0887"
             ],
             [
              0.1111111111111111,
              "#46039f"
             ],
             [
              0.2222222222222222,
              "#7201a8"
             ],
             [
              0.3333333333333333,
              "#9c179e"
             ],
             [
              0.4444444444444444,
              "#bd3786"
             ],
             [
              0.5555555555555556,
              "#d8576b"
             ],
             [
              0.6666666666666666,
              "#ed7953"
             ],
             [
              0.7777777777777778,
              "#fb9f3a"
             ],
             [
              0.8888888888888888,
              "#fdca26"
             ],
             [
              1,
              "#f0f921"
             ]
            ],
            "type": "heatmap"
           }
          ],
          "histogram": [
           {
            "marker": {
             "pattern": {
              "fillmode": "overlay",
              "size": 10,
              "solidity": 0.2
             }
            },
            "type": "histogram"
           }
          ],
          "histogram2d": [
           {
            "colorbar": {
             "outlinewidth": 0,
             "ticks": ""
            },
            "colorscale": [
             [
              0,
              "#0d0887"
             ],
             [
              0.1111111111111111,
              "#46039f"
             ],
             [
              0.2222222222222222,
              "#7201a8"
             ],
             [
              0.3333333333333333,
              "#9c179e"
             ],
             [
              0.4444444444444444,
              "#bd3786"
             ],
             [
              0.5555555555555556,
              "#d8576b"
             ],
             [
              0.6666666666666666,
              "#ed7953"
             ],
             [
              0.7777777777777778,
              "#fb9f3a"
             ],
             [
              0.8888888888888888,
              "#fdca26"
             ],
             [
              1,
              "#f0f921"
             ]
            ],
            "type": "histogram2d"
           }
          ],
          "histogram2dcontour": [
           {
            "colorbar": {
             "outlinewidth": 0,
             "ticks": ""
            },
            "colorscale": [
             [
              0,
              "#0d0887"
             ],
             [
              0.1111111111111111,
              "#46039f"
             ],
             [
              0.2222222222222222,
              "#7201a8"
             ],
             [
              0.3333333333333333,
              "#9c179e"
             ],
             [
              0.4444444444444444,
              "#bd3786"
             ],
             [
              0.5555555555555556,
              "#d8576b"
             ],
             [
              0.6666666666666666,
              "#ed7953"
             ],
             [
              0.7777777777777778,
              "#fb9f3a"
             ],
             [
              0.8888888888888888,
              "#fdca26"
             ],
             [
              1,
              "#f0f921"
             ]
            ],
            "type": "histogram2dcontour"
           }
          ],
          "mesh3d": [
           {
            "colorbar": {
             "outlinewidth": 0,
             "ticks": ""
            },
            "type": "mesh3d"
           }
          ],
          "parcoords": [
           {
            "line": {
             "colorbar": {
              "outlinewidth": 0,
              "ticks": ""
             }
            },
            "type": "parcoords"
           }
          ],
          "pie": [
           {
            "automargin": true,
            "type": "pie"
           }
          ],
          "scatter": [
           {
            "fillpattern": {
             "fillmode": "overlay",
             "size": 10,
             "solidity": 0.2
            },
            "type": "scatter"
           }
          ],
          "scatter3d": [
           {
            "line": {
             "colorbar": {
              "outlinewidth": 0,
              "ticks": ""
             }
            },
            "marker": {
             "colorbar": {
              "outlinewidth": 0,
              "ticks": ""
             }
            },
            "type": "scatter3d"
           }
          ],
          "scattercarpet": [
           {
            "marker": {
             "colorbar": {
              "outlinewidth": 0,
              "ticks": ""
             }
            },
            "type": "scattercarpet"
           }
          ],
          "scattergeo": [
           {
            "marker": {
             "colorbar": {
              "outlinewidth": 0,
              "ticks": ""
             }
            },
            "type": "scattergeo"
           }
          ],
          "scattergl": [
           {
            "marker": {
             "colorbar": {
              "outlinewidth": 0,
              "ticks": ""
             }
            },
            "type": "scattergl"
           }
          ],
          "scattermap": [
           {
            "marker": {
             "colorbar": {
              "outlinewidth": 0,
              "ticks": ""
             }
            },
            "type": "scattermap"
           }
          ],
          "scattermapbox": [
           {
            "marker": {
             "colorbar": {
              "outlinewidth": 0,
              "ticks": ""
             }
            },
            "type": "scattermapbox"
           }
          ],
          "scatterpolar": [
           {
            "marker": {
             "colorbar": {
              "outlinewidth": 0,
              "ticks": ""
             }
            },
            "type": "scatterpolar"
           }
          ],
          "scatterpolargl": [
           {
            "marker": {
             "colorbar": {
              "outlinewidth": 0,
              "ticks": ""
             }
            },
            "type": "scatterpolargl"
           }
          ],
          "scatterternary": [
           {
            "marker": {
             "colorbar": {
              "outlinewidth": 0,
              "ticks": ""
             }
            },
            "type": "scatterternary"
           }
          ],
          "surface": [
           {
            "colorbar": {
             "outlinewidth": 0,
             "ticks": ""
            },
            "colorscale": [
             [
              0,
              "#0d0887"
             ],
             [
              0.1111111111111111,
              "#46039f"
             ],
             [
              0.2222222222222222,
              "#7201a8"
             ],
             [
              0.3333333333333333,
              "#9c179e"
             ],
             [
              0.4444444444444444,
              "#bd3786"
             ],
             [
              0.5555555555555556,
              "#d8576b"
             ],
             [
              0.6666666666666666,
              "#ed7953"
             ],
             [
              0.7777777777777778,
              "#fb9f3a"
             ],
             [
              0.8888888888888888,
              "#fdca26"
             ],
             [
              1,
              "#f0f921"
             ]
            ],
            "type": "surface"
           }
          ],
          "table": [
           {
            "cells": {
             "fill": {
              "color": "#EBF0F8"
             },
             "line": {
              "color": "white"
             }
            },
            "header": {
             "fill": {
              "color": "#C8D4E3"
             },
             "line": {
              "color": "white"
             }
            },
            "type": "table"
           }
          ]
         },
         "layout": {
          "annotationdefaults": {
           "arrowcolor": "#2a3f5f",
           "arrowhead": 0,
           "arrowwidth": 1
          },
          "autotypenumbers": "strict",
          "coloraxis": {
           "colorbar": {
            "outlinewidth": 0,
            "ticks": ""
           }
          },
          "colorscale": {
           "diverging": [
            [
             0,
             "#8e0152"
            ],
            [
             0.1,
             "#c51b7d"
            ],
            [
             0.2,
             "#de77ae"
            ],
            [
             0.3,
             "#f1b6da"
            ],
            [
             0.4,
             "#fde0ef"
            ],
            [
             0.5,
             "#f7f7f7"
            ],
            [
             0.6,
             "#e6f5d0"
            ],
            [
             0.7,
             "#b8e186"
            ],
            [
             0.8,
             "#7fbc41"
            ],
            [
             0.9,
             "#4d9221"
            ],
            [
             1,
             "#276419"
            ]
           ],
           "sequential": [
            [
             0,
             "#0d0887"
            ],
            [
             0.1111111111111111,
             "#46039f"
            ],
            [
             0.2222222222222222,
             "#7201a8"
            ],
            [
             0.3333333333333333,
             "#9c179e"
            ],
            [
             0.4444444444444444,
             "#bd3786"
            ],
            [
             0.5555555555555556,
             "#d8576b"
            ],
            [
             0.6666666666666666,
             "#ed7953"
            ],
            [
             0.7777777777777778,
             "#fb9f3a"
            ],
            [
             0.8888888888888888,
             "#fdca26"
            ],
            [
             1,
             "#f0f921"
            ]
           ],
           "sequentialminus": [
            [
             0,
             "#0d0887"
            ],
            [
             0.1111111111111111,
             "#46039f"
            ],
            [
             0.2222222222222222,
             "#7201a8"
            ],
            [
             0.3333333333333333,
             "#9c179e"
            ],
            [
             0.4444444444444444,
             "#bd3786"
            ],
            [
             0.5555555555555556,
             "#d8576b"
            ],
            [
             0.6666666666666666,
             "#ed7953"
            ],
            [
             0.7777777777777778,
             "#fb9f3a"
            ],
            [
             0.8888888888888888,
             "#fdca26"
            ],
            [
             1,
             "#f0f921"
            ]
           ]
          },
          "colorway": [
           "#636efa",
           "#EF553B",
           "#00cc96",
           "#ab63fa",
           "#FFA15A",
           "#19d3f3",
           "#FF6692",
           "#B6E880",
           "#FF97FF",
           "#FECB52"
          ],
          "font": {
           "color": "#2a3f5f"
          },
          "geo": {
           "bgcolor": "white",
           "lakecolor": "white",
           "landcolor": "#E5ECF6",
           "showlakes": true,
           "showland": true,
           "subunitcolor": "white"
          },
          "hoverlabel": {
           "align": "left"
          },
          "hovermode": "closest",
          "mapbox": {
           "style": "light"
          },
          "paper_bgcolor": "white",
          "plot_bgcolor": "#E5ECF6",
          "polar": {
           "angularaxis": {
            "gridcolor": "white",
            "linecolor": "white",
            "ticks": ""
           },
           "bgcolor": "#E5ECF6",
           "radialaxis": {
            "gridcolor": "white",
            "linecolor": "white",
            "ticks": ""
           }
          },
          "scene": {
           "xaxis": {
            "backgroundcolor": "#E5ECF6",
            "gridcolor": "white",
            "gridwidth": 2,
            "linecolor": "white",
            "showbackground": true,
            "ticks": "",
            "zerolinecolor": "white"
           },
           "yaxis": {
            "backgroundcolor": "#E5ECF6",
            "gridcolor": "white",
            "gridwidth": 2,
            "linecolor": "white",
            "showbackground": true,
            "ticks": "",
            "zerolinecolor": "white"
           },
           "zaxis": {
            "backgroundcolor": "#E5ECF6",
            "gridcolor": "white",
            "gridwidth": 2,
            "linecolor": "white",
            "showbackground": true,
            "ticks": "",
            "zerolinecolor": "white"
           }
          },
          "shapedefaults": {
           "line": {
            "color": "#2a3f5f"
           }
          },
          "ternary": {
           "aaxis": {
            "gridcolor": "white",
            "linecolor": "white",
            "ticks": ""
           },
           "baxis": {
            "gridcolor": "white",
            "linecolor": "white",
            "ticks": ""
           },
           "bgcolor": "#E5ECF6",
           "caxis": {
            "gridcolor": "white",
            "linecolor": "white",
            "ticks": ""
           }
          },
          "title": {
           "x": 0.05
          },
          "xaxis": {
           "automargin": true,
           "gridcolor": "white",
           "linecolor": "white",
           "ticks": "",
           "title": {
            "standoff": 15
           },
           "zerolinecolor": "white",
           "zerolinewidth": 2
          },
          "yaxis": {
           "automargin": true,
           "gridcolor": "white",
           "linecolor": "white",
           "ticks": "",
           "title": {
            "standoff": 15
           },
           "zerolinecolor": "white",
           "zerolinewidth": 2
          }
         }
        }
       }
      }
     },
     "metadata": {},
     "output_type": "display_data"
    }
   ],
   "source": [
    "loop = magpy.current.Circle(current=1, diameter=1)\n",
    "\n",
    "loop.show()"
   ]
  },
  {
   "cell_type": "code",
   "execution_count": null,
   "metadata": {},
   "outputs": [],
   "source": []
  }
 ],
 "metadata": {
  "kernelspec": {
   "display_name": "magrec",
   "language": "python",
   "name": "python3"
  },
  "language_info": {
   "codemirror_mode": {
    "name": "ipython",
    "version": 3
   },
   "file_extension": ".py",
   "mimetype": "text/x-python",
   "name": "python",
   "nbconvert_exporter": "python",
   "pygments_lexer": "ipython3",
   "version": "3.11.13"
  }
 },
 "nbformat": 4,
 "nbformat_minor": 2
}
